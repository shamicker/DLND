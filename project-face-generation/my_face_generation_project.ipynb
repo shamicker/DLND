{
  "nbformat": 4,
  "nbformat_minor": 0,
  "metadata": {
    "colab": {
      "name": "My_face_generation_project.ipynb",
      "version": "0.3.2",
      "provenance": [],
      "collapsed_sections": [],
      "include_colab_link": true
    },
    "language_info": {
      "codemirror_mode": {
        "name": "ipython",
        "version": 3
      },
      "file_extension": ".py",
      "mimetype": "text/x-python",
      "name": "python",
      "nbconvert_exporter": "python",
      "pygments_lexer": "ipython3",
      "version": "3.6.3"
    },
    "kernelspec": {
      "name": "python3",
      "display_name": "Python 3"
    },
    "accelerator": "GPU"
  },
  "cells": [
    {
      "cell_type": "markdown",
      "metadata": {
        "id": "view-in-github",
        "colab_type": "text"
      },
      "source": [
        "<a href=\"https://colab.research.google.com/github/shamicker/DLND/blob/generate_faces/project-face-generation/my_face_generation_project.ipynb\" target=\"_parent\"><img src=\"https://colab.research.google.com/assets/colab-badge.svg\" alt=\"Open In Colab\"/></a>"
      ]
    },
    {
      "cell_type": "markdown",
      "metadata": {
        "id": "F8KDx3WOmwdI",
        "colab_type": "text"
      },
      "source": [
        "# Face Generation\n",
        "\n",
        "In this project, you'll define and train a DCGAN on a dataset of faces. Your goal is to get a generator network to generate *new* images of faces that look as realistic as possible!\n",
        "\n",
        "The project will be broken down into a series of tasks from **loading in data to defining and training adversarial networks**. At the end of the notebook, you'll be able to visualize the results of your trained Generator to see how it performs; your generated samples should look like fairly realistic faces with small amounts of noise.\n",
        "\n",
        "### Get the Data\n",
        "\n",
        "You'll be using the [CelebFaces Attributes Dataset (CelebA)](http://mmlab.ie.cuhk.edu.hk/projects/CelebA.html) to train your adversarial networks.\n",
        "\n",
        "This dataset is more complex than the number datasets (like MNIST or SVHN) you've been working with, and so, you should prepare to define deeper networks and train them for a longer time to get good results. It is suggested that you utilize a GPU for training.\n",
        "\n",
        "### Pre-processed Data\n",
        "\n",
        "Since the project's main focus is on building the GANs, we've done *some* of the pre-processing for you. Each of the CelebA images has been cropped to remove parts of the image that don't include a face, then resized down to 64x64x3 NumPy images. Some sample data is show below.\n",
        "\n",
        "<img src='https://github.com/shamicker/DLND/blob/generate_faces/project-face-generation/assets/processed_face_data.png?raw=1' width=60% />\n",
        "\n",
        "> If you are working locally, you can download this data [by clicking here](https://s3.amazonaws.com/video.udacity-data.com/topher/2018/November/5be7eb6f_processed-celeba-small/processed-celeba-small.zip)\n",
        "\n",
        "This is a zip file that you'll need to extract in the home directory of this notebook for further loading and processing. After extracting the data, you should be left with a directory of data `processed_celeba_small/`"
      ]
    },
    {
      "cell_type": "code",
      "metadata": {
        "id": "V7qtjRJsmwdK",
        "colab_type": "code",
        "outputId": "abc2f908-747a-4899-ae80-d5fc41f65799",
        "colab": {
          "base_uri": "https://localhost:8080/",
          "height": 122
        }
      },
      "source": [
        "# Download data\n",
        "!test ! -e processed_celeba_small && wget https://s3.amazonaws.com/video.udacity-data.com/topher/2018/November/5be7eb6f_processed-celeba-small/processed-celeba-small.zip\n",
        "\n",
        "# Unzip quietly, delete the zip, then delete the _MACOSX folder recursively (all subfolders)\n",
        "!rm -r processed_celeba_small/.DS_Store\n",
        "!rm -r processed_celeba_small/celeba/.DS_Store\n",
        "!unzip -qq processed-celeba-small.zip\n",
        "!rm processed-celeba-small.zip\n",
        "!rm -r ./__MACOSX\n",
        "\n",
        "# Download helper files\n",
        "!test ! -e problem_unittests.py && wget https://raw.githubusercontent.com/udacity/deep-learning-v2-pytorch/master/project-face-generation/problem_unittests.py\n",
        "!test ! -e processed_face_data.png && wget https://github.com/udacity/deep-learning-v2-pytorch/raw/master/project-face-generation/assets/processed_face_data.png"
      ],
      "execution_count": 1,
      "outputs": [
        {
          "output_type": "stream",
          "text": [
            "rm: cannot remove 'processed_celeba_small/.DS_Store': No such file or directory\n",
            "rm: cannot remove 'processed_celeba_small/celeba/.DS_Store': No such file or directory\n",
            "unzip:  cannot find or open processed-celeba-small.zip, processed-celeba-small.zip.zip or processed-celeba-small.zip.ZIP.\n",
            "rm: cannot remove 'processed-celeba-small.zip': No such file or directory\n",
            "rm: cannot remove './__MACOSX': No such file or directory\n"
          ],
          "name": "stdout"
        }
      ]
    },
    {
      "cell_type": "code",
      "metadata": {
        "id": "wT6eZodcmwdO",
        "colab_type": "code",
        "colab": {}
      },
      "source": [
        "data_dir = 'processed_celeba_small/'\n",
        "\n",
        "\"\"\"\n",
        "DON'T MODIFY ANYTHING IN THIS CELL\n",
        "\"\"\"\n",
        "import pickle as pkl\n",
        "import matplotlib.pyplot as plt\n",
        "import numpy as np\n",
        "import problem_unittests as tests\n",
        "#import helper\n",
        "\n",
        "%matplotlib inline"
      ],
      "execution_count": 0,
      "outputs": []
    },
    {
      "cell_type": "markdown",
      "metadata": {
        "id": "wvtUDXyrmwdR",
        "colab_type": "text"
      },
      "source": [
        "## Visualize the CelebA Data\n",
        "\n",
        "The [CelebA](http://mmlab.ie.cuhk.edu.hk/projects/CelebA.html) dataset contains over 200,000 celebrity images with annotations. Since you're going to be generating faces, you won't need the annotations, you'll only need the images. Note that these are color images with [3 color channels (RGB)](https://en.wikipedia.org/wiki/Channel_(digital_image)#RGB_Images) each.\n",
        "\n",
        "### Pre-process and Load the Data\n",
        "\n",
        "Since the project's main focus is on building the GANs, we've done *some* of the pre-processing for you. Each of the CelebA images has been cropped to remove parts of the image that don't include a face, then resized down to 64x64x3 NumPy images. This *pre-processed* dataset is a smaller subset of the very large CelebA data.\n",
        "\n",
        "> There are a few other steps that you'll need to **transform** this data and create a **DataLoader**.\n",
        "\n",
        "#### Exercise: Complete the following `get_dataloader` function, such that it satisfies these requirements:\n",
        "\n",
        "* Your images should be square, Tensor images of size `image_size x image_size` in the x and y dimension.\n",
        "* Your function should return a DataLoader that shuffles and batches these Tensor images.\n",
        "\n",
        "#### ImageFolder\n",
        "\n",
        "To create a dataset given a directory of images, it's recommended that you use PyTorch's [ImageFolder](https://pytorch.org/docs/stable/torchvision/datasets.html#imagefolder) wrapper, with a root directory `processed_celeba_small/` and data transformation passed in."
      ]
    },
    {
      "cell_type": "code",
      "metadata": {
        "id": "tW3tHmAVmwdS",
        "colab_type": "code",
        "colab": {}
      },
      "source": [
        "# necessary imports\n",
        "import torch\n",
        "from torchvision import datasets\n",
        "from torchvision import transforms"
      ],
      "execution_count": 0,
      "outputs": []
    },
    {
      "cell_type": "code",
      "metadata": {
        "id": "dzMCq1xBmwdV",
        "colab_type": "code",
        "colab": {}
      },
      "source": [
        "def get_dataloader(batch_size, image_size, data_dir='processed_celeba_small/'):\n",
        "    \"\"\"\n",
        "    Batch the neural network data using DataLoader\n",
        "    :param batch_size: The size of each batch; the number of images in a batch\n",
        "    :param img_size: The square size of the image data (x, y)\n",
        "    :param data_dir: Directory where image data is located\n",
        "    :return: DataLoader with batched data\n",
        "    \"\"\"\n",
        "    \n",
        "    # TODO: Implement function and return a dataloader\n",
        "    transform = transforms.Compose([\n",
        "        transforms.Resize(image_size),\n",
        "        transforms.ToTensor()\n",
        "    ])\n",
        "    \n",
        "    training_data = datasets.ImageFolder(data_dir, transform=transform)\n",
        "    trainloader = torch.utils.data.DataLoader(training_data, batch_size=batch_size, shuffle=True, num_workers=0)\n",
        "    \n",
        "    return trainloader\n"
      ],
      "execution_count": 0,
      "outputs": []
    },
    {
      "cell_type": "markdown",
      "metadata": {
        "id": "vsA-TVJvmwdX",
        "colab_type": "text"
      },
      "source": [
        "## Create a DataLoader\n",
        "\n",
        "#### Exercise: Create a DataLoader `celeba_train_loader` with appropriate hyperparameters.\n",
        "\n",
        "Call the above function and create a dataloader to view images. \n",
        "* You can decide on any reasonable `batch_size` parameter\n",
        "* Your `image_size` **must be** `32`. Resizing the data to a smaller size will make for faster training, while still creating convincing images of faces!"
      ]
    },
    {
      "cell_type": "code",
      "metadata": {
        "id": "gsInIuGLmwdY",
        "colab_type": "code",
        "colab": {}
      },
      "source": [
        "# Define function hyperparameters\n",
        "batch_size = 128\n",
        "img_size = (32,32)\n",
        "\n",
        "\"\"\"\n",
        "DON'T MODIFY ANYTHING IN THIS CELL THAT IS BELOW THIS LINE\n",
        "\"\"\"\n",
        "# Call your function and get a dataloader\n",
        "celeba_train_loader = get_dataloader(batch_size, img_size)\n"
      ],
      "execution_count": 0,
      "outputs": []
    },
    {
      "cell_type": "markdown",
      "metadata": {
        "id": "VUcZlUTZmwda",
        "colab_type": "text"
      },
      "source": [
        "Next, you can view some images! You should seen square images of somewhat-centered faces.\n",
        "\n",
        "Note: You'll need to convert the Tensor images into a NumPy type and transpose the dimensions to correctly display an image, suggested `imshow` code is below, but it may not be perfect."
      ]
    },
    {
      "cell_type": "code",
      "metadata": {
        "id": "R26PP4bPmwdb",
        "colab_type": "code",
        "outputId": "141e5755-6397-4af8-8b56-a1ff08a66538",
        "colab": {
          "base_uri": "https://localhost:8080/",
          "height": 271
        }
      },
      "source": [
        "# helper display function\n",
        "def imshow(img):\n",
        "    npimg = img.numpy()\n",
        "    plt.imshow(np.transpose(npimg, (1, 2, 0)))\n",
        "\n",
        "\"\"\"\n",
        "DON'T MODIFY ANYTHING IN THIS CELL THAT IS BELOW THIS LINE\n",
        "\"\"\"\n",
        "# obtain one batch of training images\n",
        "dataiter = iter(celeba_train_loader)\n",
        "images, _ = dataiter.next() # _ for no labels\n",
        "\n",
        "# plot the images in the batch, along with the corresponding labels\n",
        "fig = plt.figure(figsize=(20, 4))\n",
        "plot_size=20\n",
        "for idx in np.arange(plot_size):\n",
        "    ax = fig.add_subplot(2, plot_size/2, idx+1, xticks=[], yticks=[])\n",
        "    imshow(images[idx])"
      ],
      "execution_count": 98,
      "outputs": [
        {
          "output_type": "display_data",
          "data": {
            "image/png": "[encoded data removed]",
            "text/plain": [
              "<Figure size 1440x288 with 20 Axes>"
            ]
          },
          "metadata": {
            "tags": []
          }
        }
      ]
    },
    {
      "cell_type": "markdown",
      "metadata": {
        "id": "Tc6Dzk0zmwdd",
        "colab_type": "text"
      },
      "source": [
        "#### Exercise: Pre-process your image data and scale it to a pixel range of -1 to 1\n",
        "\n",
        "You need to do a bit of pre-processing; you know that the output of a `tanh` activated generator will contain pixel values in a range from -1 to 1, and so, we need to rescale our training images to a range of -1 to 1. (Right now, they are in a range from 0-1.)"
      ]
    },
    {
      "cell_type": "code",
      "metadata": {
        "id": "K_qJ9hXtmwdd",
        "colab_type": "code",
        "colab": {}
      },
      "source": [
        "# TODO: Complete the scale function\n",
        "def scale(x, feature_range=(-1, 1)):\n",
        "    ''' Scale takes in an image x and returns that image, scaled\n",
        "       with a feature_range of pixel values from -1 to 1. \n",
        "       This function assumes that the input x is already scaled from 0-1.'''\n",
        "    # assume x is scaled to (0, 1)\n",
        "    # scale to feature_range and return scaled x\n",
        "    \n",
        "    min, max = feature_range\n",
        "    x = x * (max - min) + min\n",
        "    \n",
        "    return x\n"
      ],
      "execution_count": 0,
      "outputs": []
    },
    {
      "cell_type": "code",
      "metadata": {
        "id": "HIIxv5Zumwdg",
        "colab_type": "code",
        "outputId": "625b7617-25b1-4d71-99fb-936aa827b2c1",
        "colab": {
          "base_uri": "https://localhost:8080/",
          "height": 68
        }
      },
      "source": [
        "\"\"\"\n",
        "DON'T MODIFY ANYTHING IN THIS CELL THAT IS BELOW THIS LINE\n",
        "\"\"\"\n",
        "# check scaled range\n",
        "# should be close to -1 to 1\n",
        "img = images[0]\n",
        "scaled_img = scale(img)\n",
        "print('min,max of non-scaled image:', img.min(), img.max())\n",
        "print('Min: ', scaled_img.min())\n",
        "print('Max: ', scaled_img.max())"
      ],
      "execution_count": 100,
      "outputs": [
        {
          "output_type": "stream",
          "text": [
            "min,max of non-scaled image: tensor(0.) tensor(1.)\n",
            "Min:  tensor(-1.)\n",
            "Max:  tensor(1.)\n"
          ],
          "name": "stdout"
        }
      ]
    },
    {
      "cell_type": "markdown",
      "metadata": {
        "id": "4osseS6imwdj",
        "colab_type": "text"
      },
      "source": [
        "---\n",
        "# Define the Model\n",
        "\n",
        "A GAN is comprised of two adversarial networks, a discriminator and a generator.\n",
        "\n",
        "## Discriminator\n",
        "\n",
        "Your first task will be to define the discriminator. This is a convolutional classifier like you've built before, only without any maxpooling layers. To deal with this complex data, it's suggested you use a deep network with **normalization**. You are also allowed to create any helper functions that may be useful.\n",
        "\n",
        "#### Exercise: Complete the Discriminator class\n",
        "* The inputs to the discriminator are 32x32x3 tensor images\n",
        "* The output should be a single value that will indicate whether a given image is real or fake\n"
      ]
    },
    {
      "cell_type": "code",
      "metadata": {
        "id": "u1tM2j2lmwdk",
        "colab_type": "code",
        "colab": {}
      },
      "source": [
        "import torch.nn as nn\n",
        "import torch.nn.functional as F"
      ],
      "execution_count": 0,
      "outputs": []
    },
    {
      "cell_type": "code",
      "metadata": {
        "id": "Q2P8Qw4D7cCh",
        "colab_type": "code",
        "colab": {}
      },
      "source": [
        "# convolution helper function\n",
        "def conv(in_channels, out_channels, kernel, stride=2, padding=1, batch_norm=False):\n",
        "    \"Returns a sequence of conv2d layers\"\n",
        "    \n",
        "    layers = []\n",
        "    conv_layer = nn.Conv2d(in_channels, out_channels, kernel, stride, padding, bias=False)\n",
        "    \n",
        "    layers.append(conv_layer)\n",
        "    if batch_norm:\n",
        "        layers.append(nn.BatchNorm2d(out_channels))\n",
        "    \n",
        "    return nn.Sequential(*layers)"
      ],
      "execution_count": 0,
      "outputs": []
    },
    {
      "cell_type": "code",
      "metadata": {
        "id": "TGpErQ6Ymwdo",
        "colab_type": "code",
        "outputId": "89348e63-7c53-4867-9fd4-95d73d8364bb",
        "colab": {
          "base_uri": "https://localhost:8080/",
          "height": 34
        }
      },
      "source": [
        "class Discriminator(nn.Module):\n",
        "\n",
        "    def __init__(self, conv_dim):\n",
        "        \"\"\"\n",
        "        Initialize the Discriminator Module\n",
        "        :param conv_dim: The depth of the first convolutional layer\n",
        "        \"\"\"\n",
        "        super(Discriminator, self).__init__()\n",
        "\n",
        "        # complete init function\n",
        "        self.conv_dim = conv_dim # number of channels\n",
        "        self.flattened_dim = conv_dim*4 * 4*4\n",
        "        \n",
        "        self.conv1 = conv(3, conv_dim, 4, batch_norm=False) # no batch_norm\n",
        "        self.conv2 = conv(conv_dim, conv_dim*2, 4, batch_norm=True)\n",
        "        self.conv3 = conv(conv_dim*2, conv_dim*4, 4, batch_norm=True)\n",
        "        self.lrelu = nn.LeakyReLU(0.2) # negative_slope=0.2\n",
        "        self.fc = nn.Linear(self.flattened_dim, 1) # (in_features, out_features)\n",
        "        self.dropout = nn.Dropout(0.3)\n",
        "        \n",
        "    def forward(self, x):\n",
        "        \"\"\"\n",
        "        Forward propagation of the neural network\n",
        "        :param x: The input to the neural network     \n",
        "        :return: Discriminator logits; the output of the neural network\n",
        "        \"\"\"\n",
        "        # define feedforward behavior\n",
        "        # first layer, no batch norm\n",
        "        x = self.conv1(x) # (32,32,3) -> (16,16,32)\n",
        "        x = self.lrelu(x)\n",
        "        x = self.dropout(x)\n",
        "        \n",
        "        x = self.conv2(x) # (16,16,32) -> (8,8,64)\n",
        "        x = self.lrelu(x)\n",
        "        x = self.dropout(x)\n",
        "                      \n",
        "        x = self.conv3(x) # (8,8,64) -> (4,4,128)\n",
        "        x = self.lrelu(x)\n",
        "        x = self.dropout(x)\n",
        "        \n",
        "        # flatten for fc layer\n",
        "        x = x.view(-1, self.flattened_dim)\n",
        "        x = self.fc(x)\n",
        "        \n",
        "        return x\n",
        "\n",
        "\n",
        "\"\"\"\n",
        "DON'T MODIFY ANYTHING IN THIS CELL THAT IS BELOW THIS LINE\n",
        "\"\"\"\n",
        "tests.test_discriminator(Discriminator)"
      ],
      "execution_count": 103,
      "outputs": [
        {
          "output_type": "stream",
          "text": [
            "Tests Passed\n"
          ],
          "name": "stdout"
        }
      ]
    },
    {
      "cell_type": "markdown",
      "metadata": {
        "id": "ahm1_CcXmwds",
        "colab_type": "text"
      },
      "source": [
        "## Generator\n",
        "\n",
        "The generator should upsample an input and generate a *new* image of the same size as our training data `32x32x3`. This should be mostly transpose convolutional layers with normalization applied to the outputs.\n",
        "\n",
        "#### Exercise: Complete the Generator class\n",
        "* The inputs to the generator are vectors of some length `z_size`\n",
        "* The output should be a image of shape `32x32x3`"
      ]
    },
    {
      "cell_type": "code",
      "metadata": {
        "id": "9rB6Nsfq9zNk",
        "colab_type": "code",
        "colab": {}
      },
      "source": [
        "# transpose conv helper function\n",
        "def trans_conv(in_channels, out_channels, kernel, stride=2, padding=1, batch_norm=False):\n",
        "    \"Returns Sequence of trans conv layers for Generator\"\n",
        "    \n",
        "    layers = []\n",
        "    t_conv = nn.ConvTranspose2d(in_channels, out_channels, kernel, stride, padding, bias=False)\n",
        "    \n",
        "    layers.append(t_conv)\n",
        "    if batch_norm:\n",
        "        layers.append(nn.BatchNorm2d(out_channels))\n",
        "    \n",
        "    return nn.Sequential(*layers)"
      ],
      "execution_count": 0,
      "outputs": []
    },
    {
      "cell_type": "code",
      "metadata": {
        "id": "wgrHez08mwdt",
        "colab_type": "code",
        "outputId": "5c2a7dfe-938b-438e-b2b2-366536556485",
        "colab": {
          "base_uri": "https://localhost:8080/",
          "height": 34
        }
      },
      "source": [
        "class Generator(nn.Module):\n",
        "    \n",
        "    def __init__(self, z_size, conv_dim):\n",
        "        \"\"\"\n",
        "        Initialize the Generator Module\n",
        "        :param z_size: The length of the input latent vector, z\n",
        "        :param conv_dim: The depth of the inputs to the *last* transpose convolutional layer\n",
        "        \"\"\"\n",
        "        super(Generator, self).__init__()\n",
        "\n",
        "        # complete init function\n",
        "        ## from biggest conv_dim to smallest channel_size (which is 3: RGB)\n",
        "        self.conv_dim = conv_dim\n",
        "        \n",
        "        self.fc = nn.Linear(z_size, conv_dim*4 * 4*4) # (in_features, out_features)\n",
        "        self.tconv1 = trans_conv(conv_dim*4, conv_dim*2, 4, batch_norm=True)\n",
        "        self.tconv2 = trans_conv(conv_dim*2, conv_dim, 4, batch_norm=True)\n",
        "        self.tconv3 = trans_conv(conv_dim, 3, 4, batch_norm=False)\n",
        "        self.relu = nn.ReLU()\n",
        "        self.tanh = nn.Tanh()\n",
        "        self.dropout = nn.Dropout(0.3)        \n",
        "\n",
        "    def forward(self, x):\n",
        "        \"\"\"\n",
        "        Forward propagation of the neural network\n",
        "        :param x: The input to the neural network     \n",
        "        :return: A 32x32x3 Tensor image as output\n",
        "        \"\"\"\n",
        "        # define feedforward behavior\n",
        "        \n",
        "        # linear layer, then unflatten to the linear out_features size!\n",
        "        x = self.fc(x)\n",
        "        x = x.view(-1, self.conv_dim*4, 4, 4) # will be (batch_size, 256, 4, 4)\n",
        "        \n",
        "        # trans conv layers\n",
        "        x = self.dropout(x)\n",
        "        x = self.relu(self.tconv1(x))\n",
        "        \n",
        "        x = self.dropout(x)\n",
        "        x = self.relu(self.tconv2(x))\n",
        "        \n",
        "        x = self.dropout(x)\n",
        "        x = self.tanh(self.tconv3(x))\n",
        "        \n",
        "        return x\n",
        "\n",
        "\"\"\"\n",
        "DON'T MODIFY ANYTHING IN THIS CELL THAT IS BELOW THIS LINE\n",
        "\"\"\"\n",
        "tests.test_generator(Generator)"
      ],
      "execution_count": 105,
      "outputs": [
        {
          "output_type": "stream",
          "text": [
            "Tests Passed\n"
          ],
          "name": "stdout"
        }
      ]
    },
    {
      "cell_type": "markdown",
      "metadata": {
        "id": "p9jtmJdRmwdv",
        "colab_type": "text"
      },
      "source": [
        "## Initialize the weights of your networks\n",
        "\n",
        "To help your models converge, you should initialize the weights of the convolutional and linear layers in your model. From reading the [original DCGAN paper](https://arxiv.org/pdf/1511.06434.pdf), they say:\n",
        "> All weights were initialized from a zero-centered Normal distribution with standard deviation 0.02.\n",
        "\n",
        "So, your next task will be to define a weight initialization function that does just this!\n",
        "\n",
        "You can refer back to the lesson on weight initialization or even consult existing model code, such as that from [the `networks.py` file in CycleGAN Github repository](https://github.com/junyanz/pytorch-CycleGAN-and-pix2pix/blob/master/models/networks.py) to help you complete this function.\n",
        "\n",
        "#### Exercise: Complete the weight initialization function\n",
        "\n",
        "* This should initialize only **convolutional** and **linear** layers\n",
        "* Initialize the weights to a normal distribution, centered around 0, with a standard deviation of 0.02.\n",
        "* The bias terms, if they exist, may be left alone or set to 0."
      ]
    },
    {
      "cell_type": "code",
      "metadata": {
        "id": "PcEZeVAamwdv",
        "colab_type": "code",
        "colab": {}
      },
      "source": [
        "def weights_init_normal(m):\n",
        "    \"\"\"\n",
        "    Applies initial weights to certain layers in a model .\n",
        "    The weights are taken from a normal distribution \n",
        "    with mean = 0, std dev = 0.02.\n",
        "    :param m: A module or layer in a network    \n",
        "    \"\"\"\n",
        "    # classname will be something like:\n",
        "    # `Conv`, `BatchNorm2d`, `Linear`, etc.\n",
        "    classname = m.__class__.__name__\n",
        "    \n",
        "    # TODO: Apply initial weights to convolutional and linear layers\n",
        "    if (type(m) == nn.Linear) or (type(m) == nn.Conv2d) or (type(m) == nn.ConvTranspose2d):\n",
        "#     if classname.find('Conv') != -1 or classname.find('Linear') != -1:\n",
        "        # m.weight.data should be taken from a normal distribution\n",
        "        m.weight.data.normal_(0, 0.2)"
      ],
      "execution_count": 0,
      "outputs": []
    },
    {
      "cell_type": "markdown",
      "metadata": {
        "collapsed": true,
        "id": "OsqqCRIWmwdz",
        "colab_type": "text"
      },
      "source": [
        "## Build complete network\n",
        "\n",
        "Define your models' hyperparameters and instantiate the discriminator and generator from the classes defined above. Make sure you've passed in the correct input arguments."
      ]
    },
    {
      "cell_type": "code",
      "metadata": {
        "id": "geqg8I2rmwd0",
        "colab_type": "code",
        "colab": {}
      },
      "source": [
        "\"\"\"\n",
        "DON'T MODIFY ANYTHING IN THIS CELL THAT IS BELOW THIS LINE\n",
        "\"\"\"\n",
        "def build_network(d_conv_dim, g_conv_dim, z_size):\n",
        "    # define discriminator and generator\n",
        "    D = Discriminator(d_conv_dim)\n",
        "    G = Generator(z_size=z_size, conv_dim=g_conv_dim)\n",
        "\n",
        "    # initialize model weights\n",
        "    D.apply(weights_init_normal)\n",
        "    G.apply(weights_init_normal)\n",
        "\n",
        "    print(D)\n",
        "    print()\n",
        "    print(G)\n",
        "    \n",
        "    return D, G\n"
      ],
      "execution_count": 0,
      "outputs": []
    },
    {
      "cell_type": "markdown",
      "metadata": {
        "id": "5enykgNgmwd2",
        "colab_type": "text"
      },
      "source": [
        "#### Exercise: Define model hyperparameters"
      ]
    },
    {
      "cell_type": "code",
      "metadata": {
        "id": "go7sdfDbmwd2",
        "colab_type": "code",
        "outputId": "1d0f5fb7-84be-4d56-b4df-3ad1e895cfc2",
        "colab": {
          "base_uri": "https://localhost:8080/",
          "height": 595
        }
      },
      "source": [
        "# Define model hyperparams\n",
        "d_conv_dim = 128\n",
        "g_conv_dim = 128\n",
        "z_size = 100\n",
        "\n",
        "\"\"\"\n",
        "DON'T MODIFY ANYTHING IN THIS CELL THAT IS BELOW THIS LINE\n",
        "\"\"\"\n",
        "D, G = build_network(d_conv_dim, g_conv_dim, z_size)"
      ],
      "execution_count": 108,
      "outputs": [
        {
          "output_type": "stream",
          "text": [
            "Discriminator(\n",
            "  (conv1): Sequential(\n",
            "    (0): Conv2d(3, 128, kernel_size=(4, 4), stride=(2, 2), padding=(1, 1), bias=False)\n",
            "  )\n",
            "  (conv2): Sequential(\n",
            "    (0): Conv2d(128, 256, kernel_size=(4, 4), stride=(2, 2), padding=(1, 1), bias=False)\n",
            "    (1): BatchNorm2d(256, eps=1e-05, momentum=0.1, affine=True, track_running_stats=True)\n",
            "  )\n",
            "  (conv3): Sequential(\n",
            "    (0): Conv2d(256, 512, kernel_size=(4, 4), stride=(2, 2), padding=(1, 1), bias=False)\n",
            "    (1): BatchNorm2d(512, eps=1e-05, momentum=0.1, affine=True, track_running_stats=True)\n",
            "  )\n",
            "  (lrelu): LeakyReLU(negative_slope=0.2)\n",
            "  (fc): Linear(in_features=8192, out_features=1, bias=True)\n",
            "  (dropout): Dropout(p=0.3)\n",
            ")\n",
            "\n",
            "Generator(\n",
            "  (fc): Linear(in_features=100, out_features=8192, bias=True)\n",
            "  (tconv1): Sequential(\n",
            "    (0): ConvTranspose2d(512, 256, kernel_size=(4, 4), stride=(2, 2), padding=(1, 1), bias=False)\n",
            "    (1): BatchNorm2d(256, eps=1e-05, momentum=0.1, affine=True, track_running_stats=True)\n",
            "  )\n",
            "  (tconv2): Sequential(\n",
            "    (0): ConvTranspose2d(256, 128, kernel_size=(4, 4), stride=(2, 2), padding=(1, 1), bias=False)\n",
            "    (1): BatchNorm2d(128, eps=1e-05, momentum=0.1, affine=True, track_running_stats=True)\n",
            "  )\n",
            "  (tconv3): Sequential(\n",
            "    (0): ConvTranspose2d(128, 3, kernel_size=(4, 4), stride=(2, 2), padding=(1, 1), bias=False)\n",
            "  )\n",
            "  (relu): ReLU()\n",
            "  (tanh): Tanh()\n",
            "  (dropout): Dropout(p=0.3)\n",
            ")\n"
          ],
          "name": "stdout"
        }
      ]
    },
    {
      "cell_type": "markdown",
      "metadata": {
        "id": "YZn5osf-mwd4",
        "colab_type": "text"
      },
      "source": [
        "### Training on GPU\n",
        "\n",
        "Check if you can train on GPU. Here, we'll set this as a boolean variable `train_on_gpu`. Later, you'll be responsible for making sure that \n",
        ">* Models,\n",
        "* Model inputs, and\n",
        "* Loss function arguments\n",
        "\n",
        "Are moved to GPU, where appropriate."
      ]
    },
    {
      "cell_type": "code",
      "metadata": {
        "id": "ANV0nbA0mwd5",
        "colab_type": "code",
        "outputId": "629e758c-d5d5-4096-814f-317a5f778cca",
        "colab": {
          "base_uri": "https://localhost:8080/",
          "height": 34
        }
      },
      "source": [
        "\"\"\"\n",
        "DON'T MODIFY ANYTHING IN THIS CELL\n",
        "\"\"\"\n",
        "import torch\n",
        "\n",
        "# Check for a GPU\n",
        "train_on_gpu = torch.cuda.is_available()\n",
        "if not train_on_gpu:\n",
        "    print('No GPU found. Please use a GPU to train your neural network.')\n",
        "else:\n",
        "    print('Training on GPU!')"
      ],
      "execution_count": 109,
      "outputs": [
        {
          "output_type": "stream",
          "text": [
            "Training on GPU!\n"
          ],
          "name": "stdout"
        }
      ]
    },
    {
      "cell_type": "markdown",
      "metadata": {
        "id": "EsbLQEXmmwd7",
        "colab_type": "text"
      },
      "source": [
        "---\n",
        "## Discriminator and Generator Losses\n",
        "\n",
        "Now we need to calculate the losses for both types of adversarial networks.\n",
        "\n",
        "### Discriminator Losses\n",
        "\n",
        "> * For the discriminator, the total loss is the sum of the losses for real and fake images, `d_loss = d_real_loss + d_fake_loss`. \n",
        "* Remember that we want the discriminator to output 1 for real images and 0 for fake images, so we need to set up the losses to reflect that.\n",
        "\n",
        "\n",
        "### Generator Loss\n",
        "\n",
        "The generator loss will look similar only with flipped labels. The generator's goal is to get the discriminator to *think* its generated images are *real*.\n",
        "\n",
        "#### Exercise: Complete real and fake loss functions\n",
        "\n",
        "**You may choose to use either cross entropy or a least squares error loss to complete the following `real_loss` and `fake_loss` functions.**"
      ]
    },
    {
      "cell_type": "code",
      "metadata": {
        "id": "eBLXt6wamwd7",
        "colab_type": "code",
        "colab": {}
      },
      "source": [
        "def real_loss(D_out):\n",
        "    '''Calculates how close discriminator outputs are to being real.\n",
        "       param, D_out: discriminator logits\n",
        "       return: real loss'''\n",
        "    labels = torch.ones(D_out.shape[0])\n",
        "    if train_on_gpu:\n",
        "        labels = labels.cuda()\n",
        "    \n",
        "    criterion = nn.BCEWithLogitsLoss()\n",
        "#     criterion = nn.MSELoss()\n",
        "    loss = criterion(D_out.squeeze(), labels)\n",
        "    \n",
        "    return loss\n",
        "\n",
        "def fake_loss(D_out):\n",
        "    '''Calculates how close discriminator outputs are to being fake.\n",
        "       param, D_out: discriminator logits\n",
        "       return: fake loss'''\n",
        "    labels = torch.zeros(D_out.shape[0])\n",
        "    if train_on_gpu:\n",
        "        labels = labels.cuda()\n",
        "    \n",
        "    criterion = nn.BCEWithLogitsLoss()\n",
        "#     criterion = nn.MSELoss()\n",
        "    loss = criterion(D_out.squeeze(), labels)\n",
        "    \n",
        "    return loss"
      ],
      "execution_count": 0,
      "outputs": []
    },
    {
      "cell_type": "markdown",
      "metadata": {
        "id": "ZHejAz0_mwd-",
        "colab_type": "text"
      },
      "source": [
        "## Optimizers\n",
        "\n",
        "#### Exercise: Define optimizers for your Discriminator (D) and Generator (G)\n",
        "\n",
        "Define optimizers for your models with appropriate hyperparameters."
      ]
    },
    {
      "cell_type": "code",
      "metadata": {
        "id": "szZBVsFemwd_",
        "colab_type": "code",
        "colab": {}
      },
      "source": [
        "import torch.optim as optim\n",
        "\n",
        "# Create optimizers for the discriminator D and generator G\n",
        "d_optimizer = optim.Adam(D.parameters(), 0.0002, [0.5, 0.999])\n",
        "g_optimizer = optim.Adam(G.parameters(), 0.0002, [0.5, 0.999])"
      ],
      "execution_count": 0,
      "outputs": []
    },
    {
      "cell_type": "markdown",
      "metadata": {
        "id": "jn4NNjD8mweG",
        "colab_type": "text"
      },
      "source": [
        "---\n",
        "## Training\n",
        "\n",
        "Training will involve alternating between training the discriminator and the generator. You'll use your functions `real_loss` and `fake_loss` to help you calculate the discriminator losses.\n",
        "\n",
        "* You should train the discriminator by alternating on real and fake images\n",
        "* Then the generator, which tries to trick the discriminator and should have an opposing loss function\n",
        "\n",
        "\n",
        "#### Saving Samples\n",
        "\n",
        "You've been given some code to print out some loss statistics and save some generated \"fake\" samples."
      ]
    },
    {
      "cell_type": "markdown",
      "metadata": {
        "id": "Ps8mUaB_mweI",
        "colab_type": "text"
      },
      "source": [
        "#### Exercise: Complete the training function\n",
        "\n",
        "Keep in mind that, if you've moved your models to GPU, you'll also have to move any model inputs to GPU."
      ]
    },
    {
      "cell_type": "code",
      "metadata": {
        "id": "53Bc5xIEIXeI",
        "colab_type": "code",
        "colab": {}
      },
      "source": [
        "# function for creating fake images\n",
        "def create_fakes(batch_size, z_size, train_on_gpu):\n",
        "    z = np.random.uniform(-1, 1, size=(batch_size, z_size))\n",
        "    z = torch.from_numpy(z).float()\n",
        "    if train_on_gpu:\n",
        "        z = z.cuda()\n",
        "        \n",
        "    return z"
      ],
      "execution_count": 0,
      "outputs": []
    },
    {
      "cell_type": "code",
      "metadata": {
        "id": "mNNjcqoUmweJ",
        "colab_type": "code",
        "colab": {}
      },
      "source": [
        "def train(D, G, n_epochs, print_every=500):\n",
        "    '''Trains adversarial networks for some number of epochs\n",
        "       param, D: the discriminator network\n",
        "       param, G: the generator network\n",
        "       param, n_epochs: number of epochs to train for\n",
        "       param, print_every: when to print and record the models' losses\n",
        "       return: D and G losses'''\n",
        "    \n",
        "    # move models to GPU\n",
        "    if train_on_gpu:\n",
        "        D.cuda()\n",
        "        G.cuda()\n",
        "\n",
        "    # keep track of loss and generated, \"fake\" samples\n",
        "    samples = []\n",
        "    losses = []\n",
        "\n",
        "    # Get some fixed data for sampling. These are images that are held\n",
        "    # constant throughout training, and allow us to inspect the model's performance\n",
        "    sample_size=16\n",
        "#     fixed_z = np.random.uniform(-1, 1, size=(sample_size, z_size))\n",
        "#     fixed_z = torch.from_numpy(fixed_z).float()\n",
        "#     # move z to GPU if available\n",
        "#     if train_on_gpu:\n",
        "#         fixed_z = fixed_z.cuda()\n",
        "    fixed_z = create_fakes(sample_size, z_size, train_on_gpu)\n",
        "\n",
        "    # epoch training loop\n",
        "    for epoch in range(n_epochs):\n",
        "\n",
        "        # batch training loop\n",
        "        for batch_i, (real_images, _) in enumerate(celeba_train_loader):\n",
        "\n",
        "            batch_size = real_images.size(0)\n",
        "            real_images = scale(real_images)\n",
        "\n",
        "            # ===============================================\n",
        "            #         YOUR CODE HERE: TRAIN THE NETWORKS\n",
        "            # ===============================================\n",
        "            \n",
        "            d_optimizer.zero_grad()\n",
        "            g_optimizer.zero_grad()\n",
        "            \n",
        "            # 1. Train the discriminator on real and fake images\n",
        "            \n",
        "            # REAL IMAGES\n",
        "            if train_on_gpu:\n",
        "                real_images = real_images.cuda()\n",
        "            \n",
        "            D_real = D(real_images)\n",
        "            d_real_loss = real_loss(D_real) # D_real is on cuda\n",
        "            \n",
        "            # FAKE IMAGES\n",
        "            z = create_fakes(batch_size, z_size, train_on_gpu)\n",
        "            fake_images = G(z)\n",
        "            \n",
        "            D_fake = D(fake_images)\n",
        "            d_fake_loss = fake_loss(D_fake)\n",
        "            \n",
        "            # losses and backprop\n",
        "            d_loss = d_real_loss + d_fake_loss\n",
        "            d_loss.backward()\n",
        "            d_optimizer.step()\n",
        "            \n",
        "            # 2. Train the generator with an adversarial loss\n",
        "            \n",
        "            # obviously, train on FAKE IMAGES\n",
        "            z = create_fakes(batch_size, z_size, train_on_gpu)\n",
        "            fakes = G(z)\n",
        "            \n",
        "            D_fake = D(fakes)\n",
        "            g_loss = real_loss(D_fake)\n",
        "            g_loss.backward()\n",
        "            g_optimizer.step()\n",
        "            \n",
        "            \n",
        "            # ===============================================\n",
        "            #              END OF YOUR CODE\n",
        "            # ===============================================\n",
        "\n",
        "            # Print some loss stats\n",
        "            if batch_i % print_every == 0:\n",
        "                # append discriminator loss and generator loss\n",
        "                losses.append((d_loss.item(), g_loss.item()))\n",
        "                # print discriminator and generator loss\n",
        "                print('Epoch [{:5d}/{:5d}] | d_loss: {:6.4f} | g_loss: {:6.4f}'.format(\n",
        "                        epoch+1, n_epochs, d_loss.item(), g_loss.item()))\n",
        "\n",
        "\n",
        "        ## AFTER EACH EPOCH##    \n",
        "        # this code assumes your generator is named G, feel free to change the name\n",
        "        # generate and save sample, fake images\n",
        "        G.eval() # for generating samples\n",
        "        samples_z = G(fixed_z)\n",
        "        samples.append(samples_z)\n",
        "        G.train() # back to training mode\n",
        "\n",
        "    # Save training generator samples\n",
        "    with open('train_samples.pkl', 'wb') as f:\n",
        "        pkl.dump(samples, f)\n",
        "    \n",
        "    # finally return losses\n",
        "    return losses"
      ],
      "execution_count": 0,
      "outputs": []
    },
    {
      "cell_type": "markdown",
      "metadata": {
        "id": "h8CZ7OsxmweL",
        "colab_type": "text"
      },
      "source": [
        "Set your number of training epochs and train your GAN!"
      ]
    },
    {
      "cell_type": "code",
      "metadata": {
        "id": "Y13At0AymweL",
        "colab_type": "code",
        "outputId": "2cd93aed-7698-406f-b880-01ff49a86f36",
        "colab": {
          "base_uri": "https://localhost:8080/",
          "height": 3417
        }
      },
      "source": [
        "# set number of epochs \n",
        "n_epochs = 100\n",
        "\n",
        "\n",
        "\"\"\"\n",
        "DON'T MODIFY ANYTHING IN THIS CELL\n",
        "\"\"\"\n",
        "# call training function\n",
        "losses = train(D, G, n_epochs=n_epochs)"
      ],
      "execution_count": 114,
      "outputs": [
        {
          "output_type": "stream",
          "text": [
            "Epoch [    1/  100] | d_loss: 6.5278 | g_loss: 3.2667\n",
            "Epoch [    1/  100] | d_loss: 0.0716 | g_loss: 18.0226\n",
            "Epoch [    2/  100] | d_loss: 0.1375 | g_loss: 20.0970\n",
            "Epoch [    2/  100] | d_loss: 0.0088 | g_loss: 21.5522\n",
            "Epoch [    3/  100] | d_loss: 0.0667 | g_loss: 17.9433\n",
            "Epoch [    3/  100] | d_loss: 0.0147 | g_loss: 18.1832\n",
            "Epoch [    4/  100] | d_loss: 0.3688 | g_loss: 14.3970\n",
            "Epoch [    4/  100] | d_loss: 0.1657 | g_loss: 12.7979\n",
            "Epoch [    5/  100] | d_loss: 0.1011 | g_loss: 11.6226\n",
            "Epoch [    5/  100] | d_loss: 0.3829 | g_loss: 14.2373\n",
            "Epoch [    6/  100] | d_loss: 0.4477 | g_loss: 13.4087\n",
            "Epoch [    6/  100] | d_loss: 0.2120 | g_loss: 13.5118\n",
            "Epoch [    7/  100] | d_loss: 0.3933 | g_loss: 9.9122\n",
            "Epoch [    7/  100] | d_loss: 0.3831 | g_loss: 9.8755\n",
            "Epoch [    8/  100] | d_loss: 0.4004 | g_loss: 11.8111\n",
            "Epoch [    8/  100] | d_loss: 0.4089 | g_loss: 8.4434\n",
            "Epoch [    9/  100] | d_loss: 0.4428 | g_loss: 9.0801\n",
            "Epoch [    9/  100] | d_loss: 0.8515 | g_loss: 7.2755\n",
            "Epoch [   10/  100] | d_loss: 0.2801 | g_loss: 8.1213\n",
            "Epoch [   10/  100] | d_loss: 0.7324 | g_loss: 7.5135\n",
            "Epoch [   11/  100] | d_loss: 0.3652 | g_loss: 8.1112\n",
            "Epoch [   11/  100] | d_loss: 0.4490 | g_loss: 5.5648\n",
            "Epoch [   12/  100] | d_loss: 0.2140 | g_loss: 6.6990\n",
            "Epoch [   12/  100] | d_loss: 0.3617 | g_loss: 7.5473\n",
            "Epoch [   13/  100] | d_loss: 0.3522 | g_loss: 7.7063\n",
            "Epoch [   13/  100] | d_loss: 0.3475 | g_loss: 6.6050\n",
            "Epoch [   14/  100] | d_loss: 0.5982 | g_loss: 5.9852\n",
            "Epoch [   14/  100] | d_loss: 0.4495 | g_loss: 6.7228\n",
            "Epoch [   15/  100] | d_loss: 0.3335 | g_loss: 6.8302\n",
            "Epoch [   15/  100] | d_loss: 0.6848 | g_loss: 5.5016\n",
            "Epoch [   16/  100] | d_loss: 0.6350 | g_loss: 5.1554\n",
            "Epoch [   16/  100] | d_loss: 0.6087 | g_loss: 5.0077\n",
            "Epoch [   17/  100] | d_loss: 0.4329 | g_loss: 5.7563\n",
            "Epoch [   17/  100] | d_loss: 0.3329 | g_loss: 4.9401\n",
            "Epoch [   18/  100] | d_loss: 0.6389 | g_loss: 5.7053\n",
            "Epoch [   18/  100] | d_loss: 0.5074 | g_loss: 5.1734\n",
            "Epoch [   19/  100] | d_loss: 0.7631 | g_loss: 3.8794\n",
            "Epoch [   19/  100] | d_loss: 0.3509 | g_loss: 4.5550\n",
            "Epoch [   20/  100] | d_loss: 0.4892 | g_loss: 3.8600\n",
            "Epoch [   20/  100] | d_loss: 0.2421 | g_loss: 5.8892\n",
            "Epoch [   21/  100] | d_loss: 0.3477 | g_loss: 5.9439\n",
            "Epoch [   21/  100] | d_loss: 0.5741 | g_loss: 3.1800\n",
            "Epoch [   22/  100] | d_loss: 0.4907 | g_loss: 4.2418\n",
            "Epoch [   22/  100] | d_loss: 0.5686 | g_loss: 3.0211\n",
            "Epoch [   23/  100] | d_loss: 0.4948 | g_loss: 4.5555\n",
            "Epoch [   23/  100] | d_loss: 0.6680 | g_loss: 4.8723\n",
            "Epoch [   24/  100] | d_loss: 0.4780 | g_loss: 4.5944\n",
            "Epoch [   24/  100] | d_loss: 0.3045 | g_loss: 4.0935\n",
            "Epoch [   25/  100] | d_loss: 0.4168 | g_loss: 4.5948\n",
            "Epoch [   25/  100] | d_loss: 0.2793 | g_loss: 5.4333\n",
            "Epoch [   26/  100] | d_loss: 0.4217 | g_loss: 4.3178\n",
            "Epoch [   26/  100] | d_loss: 0.3086 | g_loss: 4.6739\n",
            "Epoch [   27/  100] | d_loss: 0.4176 | g_loss: 5.0065\n",
            "Epoch [   27/  100] | d_loss: 0.4071 | g_loss: 4.4026\n",
            "Epoch [   28/  100] | d_loss: 0.4750 | g_loss: 3.5612\n",
            "Epoch [   28/  100] | d_loss: 0.4722 | g_loss: 4.5885\n",
            "Epoch [   29/  100] | d_loss: 0.2867 | g_loss: 3.8224\n",
            "Epoch [   29/  100] | d_loss: 0.3841 | g_loss: 4.1885\n",
            "Epoch [   30/  100] | d_loss: 0.4320 | g_loss: 2.3858\n",
            "Epoch [   30/  100] | d_loss: 0.1739 | g_loss: 4.5939\n",
            "Epoch [   31/  100] | d_loss: 0.3387 | g_loss: 4.7330\n",
            "Epoch [   31/  100] | d_loss: 0.3020 | g_loss: 4.1333\n",
            "Epoch [   32/  100] | d_loss: 0.5023 | g_loss: 3.6035\n",
            "Epoch [   32/  100] | d_loss: 0.2383 | g_loss: 4.5661\n",
            "Epoch [   33/  100] | d_loss: 0.3218 | g_loss: 3.9275\n",
            "Epoch [   33/  100] | d_loss: 0.3839 | g_loss: 5.5463\n",
            "Epoch [   34/  100] | d_loss: 0.3883 | g_loss: 5.1216\n",
            "Epoch [   34/  100] | d_loss: 0.2686 | g_loss: 3.2884\n",
            "Epoch [   35/  100] | d_loss: 0.2207 | g_loss: 3.0913\n",
            "Epoch [   35/  100] | d_loss: 0.4000 | g_loss: 3.4345\n",
            "Epoch [   36/  100] | d_loss: 0.3383 | g_loss: 3.1792\n",
            "Epoch [   36/  100] | d_loss: 0.2481 | g_loss: 4.9041\n",
            "Epoch [   37/  100] | d_loss: 0.3358 | g_loss: 3.6682\n",
            "Epoch [   37/  100] | d_loss: 0.2360 | g_loss: 3.7673\n",
            "Epoch [   38/  100] | d_loss: 0.2333 | g_loss: 5.2060\n",
            "Epoch [   38/  100] | d_loss: 0.4006 | g_loss: 4.1526\n",
            "Epoch [   39/  100] | d_loss: 0.3189 | g_loss: 3.9734\n",
            "Epoch [   39/  100] | d_loss: 0.0889 | g_loss: 6.0876\n",
            "Epoch [   40/  100] | d_loss: 0.4469 | g_loss: 4.1011\n",
            "Epoch [   40/  100] | d_loss: 0.8206 | g_loss: 1.6448\n",
            "Epoch [   41/  100] | d_loss: 0.3108 | g_loss: 4.1289\n",
            "Epoch [   41/  100] | d_loss: 0.3782 | g_loss: 4.9794\n",
            "Epoch [   42/  100] | d_loss: 0.1802 | g_loss: 4.5493\n",
            "Epoch [   42/  100] | d_loss: 0.1850 | g_loss: 3.9784\n",
            "Epoch [   43/  100] | d_loss: 0.3349 | g_loss: 4.4174\n",
            "Epoch [   43/  100] | d_loss: 0.1213 | g_loss: 5.0725\n",
            "Epoch [   44/  100] | d_loss: 0.4761 | g_loss: 3.7652\n",
            "Epoch [   44/  100] | d_loss: 0.1900 | g_loss: 4.1503\n",
            "Epoch [   45/  100] | d_loss: 0.3554 | g_loss: 4.2203\n",
            "Epoch [   45/  100] | d_loss: 0.2014 | g_loss: 5.2896\n",
            "Epoch [   46/  100] | d_loss: 0.3379 | g_loss: 4.2822\n",
            "Epoch [   46/  100] | d_loss: 0.2074 | g_loss: 5.0605\n",
            "Epoch [   47/  100] | d_loss: 0.1054 | g_loss: 4.3996\n",
            "Epoch [   47/  100] | d_loss: 0.2121 | g_loss: 4.4572\n",
            "Epoch [   48/  100] | d_loss: 0.2949 | g_loss: 3.6972\n",
            "Epoch [   48/  100] | d_loss: 0.4198 | g_loss: 5.0566\n",
            "Epoch [   49/  100] | d_loss: 0.2129 | g_loss: 4.9587\n",
            "Epoch [   49/  100] | d_loss: 0.2641 | g_loss: 6.2292\n",
            "Epoch [   50/  100] | d_loss: 0.6603 | g_loss: 5.8951\n",
            "Epoch [   50/  100] | d_loss: 0.4096 | g_loss: 4.3997\n",
            "Epoch [   51/  100] | d_loss: 0.0881 | g_loss: 5.0741\n",
            "Epoch [   51/  100] | d_loss: 0.2044 | g_loss: 4.5908\n",
            "Epoch [   52/  100] | d_loss: 0.1696 | g_loss: 4.7929\n",
            "Epoch [   52/  100] | d_loss: 0.2519 | g_loss: 4.2249\n",
            "Epoch [   53/  100] | d_loss: 0.2900 | g_loss: 4.1944\n",
            "Epoch [   53/  100] | d_loss: 0.1942 | g_loss: 5.7885\n",
            "Epoch [   54/  100] | d_loss: 0.3251 | g_loss: 3.8032\n",
            "Epoch [   54/  100] | d_loss: 0.1022 | g_loss: 5.4888\n",
            "Epoch [   55/  100] | d_loss: 0.1482 | g_loss: 5.2253\n",
            "Epoch [   55/  100] | d_loss: 0.3781 | g_loss: 4.9524\n",
            "Epoch [   56/  100] | d_loss: 0.1854 | g_loss: 3.7413\n",
            "Epoch [   56/  100] | d_loss: 0.1545 | g_loss: 5.6708\n",
            "Epoch [   57/  100] | d_loss: 0.9285 | g_loss: 7.6240\n",
            "Epoch [   57/  100] | d_loss: 0.1331 | g_loss: 5.1835\n",
            "Epoch [   58/  100] | d_loss: 0.2390 | g_loss: 4.7706\n",
            "Epoch [   58/  100] | d_loss: 0.1933 | g_loss: 4.6257\n",
            "Epoch [   59/  100] | d_loss: 0.1471 | g_loss: 4.6851\n",
            "Epoch [   59/  100] | d_loss: 0.0929 | g_loss: 5.8350\n",
            "Epoch [   60/  100] | d_loss: 0.1157 | g_loss: 5.1043\n",
            "Epoch [   60/  100] | d_loss: 0.2493 | g_loss: 2.7938\n",
            "Epoch [   61/  100] | d_loss: 0.8330 | g_loss: 6.7502\n",
            "Epoch [   61/  100] | d_loss: 0.6101 | g_loss: 5.0497\n",
            "Epoch [   62/  100] | d_loss: 0.1513 | g_loss: 6.2966\n",
            "Epoch [   62/  100] | d_loss: 0.1323 | g_loss: 4.0445\n",
            "Epoch [   63/  100] | d_loss: 0.2363 | g_loss: 3.3661\n",
            "Epoch [   63/  100] | d_loss: 0.1536 | g_loss: 3.9197\n",
            "Epoch [   64/  100] | d_loss: 0.2475 | g_loss: 3.9643\n",
            "Epoch [   64/  100] | d_loss: 0.2765 | g_loss: 4.5979\n",
            "Epoch [   65/  100] | d_loss: 0.0830 | g_loss: 3.7576\n",
            "Epoch [   65/  100] | d_loss: 0.1920 | g_loss: 5.6962\n",
            "Epoch [   66/  100] | d_loss: 0.5026 | g_loss: 1.1693\n",
            "Epoch [   66/  100] | d_loss: 0.2868 | g_loss: 4.3345\n",
            "Epoch [   67/  100] | d_loss: 0.0853 | g_loss: 5.5582\n",
            "Epoch [   67/  100] | d_loss: 0.5459 | g_loss: 7.3516\n",
            "Epoch [   68/  100] | d_loss: 0.1484 | g_loss: 6.0901\n",
            "Epoch [   68/  100] | d_loss: 0.1170 | g_loss: 4.5974\n",
            "Epoch [   69/  100] | d_loss: 0.0830 | g_loss: 5.1094\n",
            "Epoch [   69/  100] | d_loss: 0.3814 | g_loss: 0.6459\n",
            "Epoch [   70/  100] | d_loss: 0.0704 | g_loss: 6.7326\n",
            "Epoch [   70/  100] | d_loss: 0.2580 | g_loss: 4.3746\n",
            "Epoch [   71/  100] | d_loss: 0.0816 | g_loss: 5.5032\n",
            "Epoch [   71/  100] | d_loss: 0.1271 | g_loss: 5.7251\n",
            "Epoch [   72/  100] | d_loss: 0.2700 | g_loss: 6.5955\n",
            "Epoch [   72/  100] | d_loss: 0.2024 | g_loss: 3.2507\n",
            "Epoch [   73/  100] | d_loss: 0.1613 | g_loss: 4.5593\n",
            "Epoch [   73/  100] | d_loss: 0.0856 | g_loss: 5.6858\n",
            "Epoch [   74/  100] | d_loss: 0.1430 | g_loss: 4.8284\n",
            "Epoch [   74/  100] | d_loss: 0.2476 | g_loss: 6.5794\n",
            "Epoch [   75/  100] | d_loss: 0.1913 | g_loss: 5.5695\n",
            "Epoch [   75/  100] | d_loss: 0.1449 | g_loss: 4.7200\n",
            "Epoch [   76/  100] | d_loss: 0.2170 | g_loss: 5.6729\n",
            "Epoch [   76/  100] | d_loss: 0.8245 | g_loss: 5.7722\n",
            "Epoch [   77/  100] | d_loss: 0.1662 | g_loss: 6.4787\n",
            "Epoch [   77/  100] | d_loss: 0.2322 | g_loss: 4.4636\n",
            "Epoch [   78/  100] | d_loss: 0.1897 | g_loss: 6.0136\n",
            "Epoch [   78/  100] | d_loss: 0.0684 | g_loss: 6.9245\n",
            "Epoch [   79/  100] | d_loss: 0.1266 | g_loss: 4.0353\n",
            "Epoch [   79/  100] | d_loss: 0.1145 | g_loss: 5.9871\n",
            "Epoch [   80/  100] | d_loss: 0.1200 | g_loss: 3.4709\n",
            "Epoch [   80/  100] | d_loss: 0.1207 | g_loss: 5.5221\n",
            "Epoch [   81/  100] | d_loss: 0.1827 | g_loss: 3.5692\n",
            "Epoch [   81/  100] | d_loss: 0.1240 | g_loss: 5.0084\n",
            "Epoch [   82/  100] | d_loss: 0.0626 | g_loss: 5.5783\n",
            "Epoch [   82/  100] | d_loss: 0.2200 | g_loss: 5.4233\n",
            "Epoch [   83/  100] | d_loss: 0.1211 | g_loss: 6.5262\n",
            "Epoch [   83/  100] | d_loss: 0.1043 | g_loss: 5.1718\n",
            "Epoch [   84/  100] | d_loss: 0.1272 | g_loss: 6.3196\n",
            "Epoch [   84/  100] | d_loss: 6.1859 | g_loss: 5.1319\n",
            "Epoch [   85/  100] | d_loss: 0.1451 | g_loss: 6.4280\n",
            "Epoch [   85/  100] | d_loss: 0.1339 | g_loss: 4.7944\n",
            "Epoch [   86/  100] | d_loss: 0.1370 | g_loss: 4.7678\n",
            "Epoch [   86/  100] | d_loss: 0.0647 | g_loss: 4.0180\n",
            "Epoch [   87/  100] | d_loss: 0.1435 | g_loss: 6.1781\n",
            "Epoch [   87/  100] | d_loss: 0.0885 | g_loss: 4.5940\n",
            "Epoch [   88/  100] | d_loss: 0.2040 | g_loss: 3.6242\n",
            "Epoch [   88/  100] | d_loss: 0.2871 | g_loss: 4.4109\n",
            "Epoch [   89/  100] | d_loss: 0.2341 | g_loss: 6.3947\n",
            "Epoch [   89/  100] | d_loss: 0.0963 | g_loss: 7.2556\n",
            "Epoch [   90/  100] | d_loss: 0.1216 | g_loss: 6.8377\n",
            "Epoch [   90/  100] | d_loss: 0.1863 | g_loss: 4.0917\n",
            "Epoch [   91/  100] | d_loss: 0.0808 | g_loss: 6.4958\n",
            "Epoch [   91/  100] | d_loss: 0.2710 | g_loss: 3.3589\n",
            "Epoch [   92/  100] | d_loss: 0.1838 | g_loss: 3.2731\n",
            "Epoch [   92/  100] | d_loss: 0.0503 | g_loss: 6.2530\n",
            "Epoch [   93/  100] | d_loss: 0.1358 | g_loss: 5.3727\n",
            "Epoch [   93/  100] | d_loss: 0.2562 | g_loss: 5.0050\n",
            "Epoch [   94/  100] | d_loss: 0.0785 | g_loss: 5.5511\n",
            "Epoch [   94/  100] | d_loss: 0.0976 | g_loss: 5.8200\n",
            "Epoch [   95/  100] | d_loss: 0.2182 | g_loss: 4.7927\n",
            "Epoch [   95/  100] | d_loss: 0.0956 | g_loss: 6.4433\n",
            "Epoch [   96/  100] | d_loss: 0.0760 | g_loss: 5.5523\n",
            "Epoch [   96/  100] | d_loss: 0.2630 | g_loss: 4.1189\n",
            "Epoch [   97/  100] | d_loss: 0.1053 | g_loss: 4.4689\n",
            "Epoch [   97/  100] | d_loss: 0.2712 | g_loss: 6.8453\n",
            "Epoch [   98/  100] | d_loss: 0.0696 | g_loss: 4.8910\n",
            "Epoch [   98/  100] | d_loss: 0.1443 | g_loss: 5.4908\n",
            "Epoch [   99/  100] | d_loss: 0.0685 | g_loss: 6.0766\n",
            "Epoch [   99/  100] | d_loss: 0.1621 | g_loss: 6.2319\n",
            "Epoch [  100/  100] | d_loss: 0.0782 | g_loss: 6.3803\n",
            "Epoch [  100/  100] | d_loss: 0.9325 | g_loss: 7.1823\n"
          ],
          "name": "stdout"
        }
      ]
    },
    {
      "cell_type": "markdown",
      "metadata": {
        "collapsed": true,
        "id": "71dzbjnnmweN",
        "colab_type": "text"
      },
      "source": [
        "## Training loss\n",
        "\n",
        "Plot the training losses for the generator and discriminator, recorded after each epoch."
      ]
    },
    {
      "cell_type": "code",
      "metadata": {
        "id": "_0ibhtNhmweO",
        "colab_type": "code",
        "outputId": "07e874b5-d3b9-45e9-b64d-6f9cc21e2919",
        "colab": {
          "base_uri": "https://localhost:8080/",
          "height": 298
        }
      },
      "source": [
        "fig, ax = plt.subplots()\n",
        "losses = np.array(losses)\n",
        "plt.plot(losses.T[0], label='Discriminator', alpha=0.5)\n",
        "plt.plot(losses.T[1], label='Generator', alpha=0.5)\n",
        "plt.title(\"Training Losses\")\n",
        "plt.legend()"
      ],
      "execution_count": 115,
      "outputs": [
        {
          "output_type": "execute_result",
          "data": {
            "text/plain": [
              "<matplotlib.legend.Legend at 0x7f8854efba20>"
            ]
          },
          "metadata": {
            "tags": []
          },
          "execution_count": 115
        },
        {
          "output_type": "display_data",
          "data": {
            "image/png": "[encoded data removed]",
            "text/plain": [
              "<Figure size 432x288 with 1 Axes>"
            ]
          },
          "metadata": {
            "tags": []
          }
        }
      ]
    },
    {
      "cell_type": "markdown",
      "metadata": {
        "collapsed": true,
        "id": "CeL4ap7HmweQ",
        "colab_type": "text"
      },
      "source": [
        "## Generator samples from training\n",
        "\n",
        "View samples of images from the generator, and answer a question about the strengths and weaknesses of your trained models."
      ]
    },
    {
      "cell_type": "code",
      "metadata": {
        "id": "vI1V-SsQmweQ",
        "colab_type": "code",
        "colab": {}
      },
      "source": [
        "# helper function for viewing a list of passed in sample images\n",
        "def view_samples(epoch, samples):\n",
        "    fig, axes = plt.subplots(figsize=(16,4), nrows=2, ncols=8, sharey=True, sharex=True)\n",
        "    for ax, img in zip(axes.flatten(), samples[epoch]):\n",
        "        img = img.detach().cpu().numpy()\n",
        "        img = np.transpose(img, (1, 2, 0))\n",
        "        img = ((img + 1)*255 / (2)).astype(np.uint8)\n",
        "        ax.xaxis.set_visible(False)\n",
        "        ax.yaxis.set_visible(False)\n",
        "        im = ax.imshow(img.reshape((32,32,3)))"
      ],
      "execution_count": 0,
      "outputs": []
    },
    {
      "cell_type": "code",
      "metadata": {
        "id": "bNz7f3eUmweS",
        "colab_type": "code",
        "colab": {}
      },
      "source": [
        "# Load samples from generator, taken while training\n",
        "with open('train_samples.pkl', 'rb') as f:\n",
        "    samples = pkl.load(f)"
      ],
      "execution_count": 0,
      "outputs": []
    },
    {
      "cell_type": "code",
      "metadata": {
        "id": "34CioqR5mweU",
        "colab_type": "code",
        "outputId": "00d0c905-1297-4d9d-c5ee-39131312be89",
        "colab": {
          "base_uri": "https://localhost:8080/",
          "height": 281
        }
      },
      "source": [
        "_ = view_samples(-1, samples)\n",
        "samples[0].shape"
      ],
      "execution_count": 118,
      "outputs": [
        {
          "output_type": "execute_result",
          "data": {
            "text/plain": [
              "torch.Size([16, 3, 32, 32])"
            ]
          },
          "metadata": {
            "tags": []
          },
          "execution_count": 118
        },
        {
          "output_type": "display_data",
          "data": {
            "image/png": "[encoded data removed]",
            "text/plain": [
              "<Figure size 1152x288 with 16 Axes>"
            ]
          },
          "metadata": {
            "tags": []
          }
        }
      ]
    },
    {
      "cell_type": "markdown",
      "metadata": {
        "id": "DeCJ2hH2mweV",
        "colab_type": "text"
      },
      "source": [
        "### Question: What do you notice about your generated samples and how might you improve this model?\n",
        "When you answer this question, consider the following factors:\n",
        "* The dataset is biased; it is made of \"celebrity\" faces that are mostly white\n",
        "* Model size; larger models have the opportunity to learn more features in a data feature space\n",
        "* Optimization strategy; optimizers and number of epochs affect your final result\n"
      ]
    },
    {
      "cell_type": "markdown",
      "metadata": {
        "id": "AuS2vJINmweW",
        "colab_type": "text"
      },
      "source": [
        "**Answer:** First of all, the faces are really blurry and pixelated. They look like they're mostly facing forward, although the outer details are not consistent with that (I mean hair and face shape isn't always consistent with the forward-facing facial details).  The colours are mostly variations of white(pink) faces with some shading, most often around the eyes which could be either shadows or sun/glasses. And they're pretty much all smiling :)\n",
        "\n",
        "However, the original images are also have these characteristics, generally, and seem to be a dataset of mostly smiling white people, so it can only train as well as the original data (yes, it's biased!). \n",
        "\n",
        "Also, the size of the images are 32x32 which is quite small. If we used larger images, the originals would be a lot less pixelated, therefore have better feature details to learn from.\n",
        "\n",
        "Another optimization strategy could be to create deeper discriminator and generator networks (ideally on larger images) to draw out more features. Additionally, we could train for more epochs, try different optimizers and hyperparameters, expand the dataset.  I'd also like to try smoothing out the real loss, trying different dropout numbers, and I could probably train for just WAY less time since the g_loss seems to start increasing towards the end."
      ]
    },
    {
      "cell_type": "markdown",
      "metadata": {
        "id": "UWh-2lnemweX",
        "colab_type": "text"
      },
      "source": [
        "### Submitting This Project\n",
        "When submitting this project, make sure to run all the cells before saving the notebook. Save the notebook file as \"dlnd_face_generation.ipynb\" and save it as a HTML file under \"File\" -> \"Download as\". Include the \"problem_unittests.py\" files in your submission."
      ]
    }
  ]
}