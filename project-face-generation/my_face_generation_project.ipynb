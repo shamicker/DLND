{
  "nbformat": 4,
  "nbformat_minor": 0,
  "metadata": {
    "colab": {
      "name": "My_face_generation_project.ipynb",
      "version": "0.3.2",
      "provenance": [],
      "collapsed_sections": [],
      "include_colab_link": true
    },
    "language_info": {
      "codemirror_mode": {
        "name": "ipython",
        "version": 3
      },
      "file_extension": ".py",
      "mimetype": "text/x-python",
      "name": "python",
      "nbconvert_exporter": "python",
      "pygments_lexer": "ipython3",
      "version": "3.6.3"
    },
    "kernelspec": {
      "name": "python3",
      "display_name": "Python 3"
    },
    "accelerator": "GPU"
  },
  "cells": [
    {
      "cell_type": "markdown",
      "metadata": {
        "id": "view-in-github",
        "colab_type": "text"
      },
      "source": [
        "<a href=\"https://colab.research.google.com/github/shamicker/DLND/blob/generate_faces/project-face-generation/my_face_generation_project.ipynb\" target=\"_parent\"><img src=\"https://colab.research.google.com/assets/colab-badge.svg\" alt=\"Open In Colab\"/></a>"
      ]
    },
    {
      "cell_type": "markdown",
      "metadata": {
        "id": "F8KDx3WOmwdI",
        "colab_type": "text"
      },
      "source": [
        "# Face Generation\n",
        "\n",
        "In this project, you'll define and train a DCGAN on a dataset of faces. Your goal is to get a generator network to generate *new* images of faces that look as realistic as possible!\n",
        "\n",
        "The project will be broken down into a series of tasks from **loading in data to defining and training adversarial networks**. At the end of the notebook, you'll be able to visualize the results of your trained Generator to see how it performs; your generated samples should look like fairly realistic faces with small amounts of noise.\n",
        "\n",
        "### Get the Data\n",
        "\n",
        "You'll be using the [CelebFaces Attributes Dataset (CelebA)](http://mmlab.ie.cuhk.edu.hk/projects/CelebA.html) to train your adversarial networks.\n",
        "\n",
        "This dataset is more complex than the number datasets (like MNIST or SVHN) you've been working with, and so, you should prepare to define deeper networks and train them for a longer time to get good results. It is suggested that you utilize a GPU for training.\n",
        "\n",
        "### Pre-processed Data\n",
        "\n",
        "Since the project's main focus is on building the GANs, we've done *some* of the pre-processing for you. Each of the CelebA images has been cropped to remove parts of the image that don't include a face, then resized down to 64x64x3 NumPy images. Some sample data is show below.\n",
        "\n",
        "<img src='https://github.com/shamicker/DLND/blob/generate_faces/project-face-generation/assets/processed_face_data.png?raw=1' width=60% />\n",
        "\n",
        "> If you are working locally, you can download this data [by clicking here](https://s3.amazonaws.com/video.udacity-data.com/topher/2018/November/5be7eb6f_processed-celeba-small/processed-celeba-small.zip)\n",
        "\n",
        "This is a zip file that you'll need to extract in the home directory of this notebook for further loading and processing. After extracting the data, you should be left with a directory of data `processed_celeba_small/`"
      ]
    },
    {
      "cell_type": "code",
      "metadata": {
        "id": "V7qtjRJsmwdK",
        "colab_type": "code",
        "colab": {
          "base_uri": "https://localhost:8080/",
          "height": 241
        },
        "outputId": "d70fc51d-d5c8-46c0-f35c-ab249162778c"
      },
      "source": [
        "# Download data\n",
        "!test ! -e /processed-celeba-small/ && wget https://s3.amazonaws.com/video.udacity-data.com/topher/2018/November/5be7eb6f_processed-celeba-small/processed-celeba-small.zip\n",
        "\n",
        "# Unzip quietly, delete the zip, then delete the _MACOSX folder recursively (all subfolders)\n",
        "!rm -r processed_celeba_small/.DS_Store\n",
        "!unzip -qq processed-celeba-small.zip\n",
        "!rm processed-celeba-small.zip\n",
        "!rm -r ./__MACOSX\n",
        "\n",
        "# Download helper files\n",
        "!test ! -e problem_unittests.py && wget https://raw.githubusercontent.com/udacity/deep-learning-v2-pytorch/master/project-face-generation/problem_unittests.py\n",
        "!test ! -e processed_face_data.png && wget https://github.com/udacity/deep-learning-v2-pytorch/raw/master/project-face-generation/assets/processed_face_data.png"
      ],
      "execution_count": 28,
      "outputs": [
        {
          "output_type": "stream",
          "text": [
            "--2019-06-14 00:28:33--  https://s3.amazonaws.com/video.udacity-data.com/topher/2018/November/5be7eb6f_processed-celeba-small/processed-celeba-small.zip\n",
            "Resolving s3.amazonaws.com (s3.amazonaws.com)... 52.216.145.205\n",
            "Connecting to s3.amazonaws.com (s3.amazonaws.com)|52.216.145.205|:443... connected.\n",
            "HTTP request sent, awaiting response... 200 OK\n",
            "Length: 247694507 (236M) [application/zip]\n",
            "Saving to: ‘processed-celeba-small.zip’\n",
            "\n",
            "processed-celeba-sm 100%[===================>] 236.22M  71.2MB/s    in 3.3s    \n",
            "\n",
            "2019-06-14 00:28:37 (71.2 MB/s) - ‘processed-celeba-small.zip’ saved [247694507/247694507]\n",
            "\n",
            "replace processed_celeba_small/.DS_Store? [y]es, [n]o, [A]ll, [N]one, [r]ename: N\n"
          ],
          "name": "stdout"
        }
      ]
    },
    {
      "cell_type": "code",
      "metadata": {
        "id": "wT6eZodcmwdO",
        "colab_type": "code",
        "colab": {}
      },
      "source": [
        "data_dir = 'processed_celeba_small/'\n",
        "\n",
        "\"\"\"\n",
        "DON'T MODIFY ANYTHING IN THIS CELL\n",
        "\"\"\"\n",
        "import pickle as pkl\n",
        "import matplotlib.pyplot as plt\n",
        "import numpy as np\n",
        "import problem_unittests as tests\n",
        "#import helper\n",
        "\n",
        "%matplotlib inline"
      ],
      "execution_count": 0,
      "outputs": []
    },
    {
      "cell_type": "markdown",
      "metadata": {
        "id": "wvtUDXyrmwdR",
        "colab_type": "text"
      },
      "source": [
        "## Visualize the CelebA Data\n",
        "\n",
        "The [CelebA](http://mmlab.ie.cuhk.edu.hk/projects/CelebA.html) dataset contains over 200,000 celebrity images with annotations. Since you're going to be generating faces, you won't need the annotations, you'll only need the images. Note that these are color images with [3 color channels (RGB)](https://en.wikipedia.org/wiki/Channel_(digital_image)#RGB_Images) each.\n",
        "\n",
        "### Pre-process and Load the Data\n",
        "\n",
        "Since the project's main focus is on building the GANs, we've done *some* of the pre-processing for you. Each of the CelebA images has been cropped to remove parts of the image that don't include a face, then resized down to 64x64x3 NumPy images. This *pre-processed* dataset is a smaller subset of the very large CelebA data.\n",
        "\n",
        "> There are a few other steps that you'll need to **transform** this data and create a **DataLoader**.\n",
        "\n",
        "#### Exercise: Complete the following `get_dataloader` function, such that it satisfies these requirements:\n",
        "\n",
        "* Your images should be square, Tensor images of size `image_size x image_size` in the x and y dimension.\n",
        "* Your function should return a DataLoader that shuffles and batches these Tensor images.\n",
        "\n",
        "#### ImageFolder\n",
        "\n",
        "To create a dataset given a directory of images, it's recommended that you use PyTorch's [ImageFolder](https://pytorch.org/docs/stable/torchvision/datasets.html#imagefolder) wrapper, with a root directory `processed_celeba_small/` and data transformation passed in."
      ]
    },
    {
      "cell_type": "code",
      "metadata": {
        "id": "tW3tHmAVmwdS",
        "colab_type": "code",
        "colab": {}
      },
      "source": [
        "# necessary imports\n",
        "import torch\n",
        "from torchvision import datasets\n",
        "from torchvision import transforms"
      ],
      "execution_count": 0,
      "outputs": []
    },
    {
      "cell_type": "code",
      "metadata": {
        "id": "dzMCq1xBmwdV",
        "colab_type": "code",
        "colab": {}
      },
      "source": [
        "def get_dataloader(batch_size, image_size, data_dir='processed_celeba_small/'):\n",
        "    \"\"\"\n",
        "    Batch the neural network data using DataLoader\n",
        "    :param batch_size: The size of each batch; the number of images in a batch\n",
        "    :param img_size: The square size of the image data (x, y)\n",
        "    :param data_dir: Directory where image data is located\n",
        "    :return: DataLoader with batched data\n",
        "    \"\"\"\n",
        "    \n",
        "    # TODO: Implement function and return a dataloader\n",
        "    transform = transforms.Compose([\n",
        "        transforms.Resize(image_size),\n",
        "        transforms.ToTensor()\n",
        "    ])\n",
        "    \n",
        "    training_data = datasets.ImageFolder(data_dir, transform= transform)\n",
        "    trainloader = torch.utils.data.DataLoader(training_data, batch_size=batch_size)\n",
        "    \n",
        "    return trainloader\n"
      ],
      "execution_count": 0,
      "outputs": []
    },
    {
      "cell_type": "markdown",
      "metadata": {
        "id": "vsA-TVJvmwdX",
        "colab_type": "text"
      },
      "source": [
        "## Create a DataLoader\n",
        "\n",
        "#### Exercise: Create a DataLoader `celeba_train_loader` with appropriate hyperparameters.\n",
        "\n",
        "Call the above function and create a dataloader to view images. \n",
        "* You can decide on any reasonable `batch_size` parameter\n",
        "* Your `image_size` **must be** `32`. Resizing the data to a smaller size will make for faster training, while still creating convincing images of faces!"
      ]
    },
    {
      "cell_type": "code",
      "metadata": {
        "id": "gsInIuGLmwdY",
        "colab_type": "code",
        "colab": {}
      },
      "source": [
        "# Define function hyperparameters\n",
        "batch_size = 128\n",
        "img_size = (32,32)\n",
        "\n",
        "\"\"\"\n",
        "DON'T MODIFY ANYTHING IN THIS CELL THAT IS BELOW THIS LINE\n",
        "\"\"\"\n",
        "# Call your function and get a dataloader\n",
        "celeba_train_loader = get_dataloader(batch_size, img_size)\n"
      ],
      "execution_count": 0,
      "outputs": []
    },
    {
      "cell_type": "markdown",
      "metadata": {
        "id": "VUcZlUTZmwda",
        "colab_type": "text"
      },
      "source": [
        "Next, you can view some images! You should seen square images of somewhat-centered faces.\n",
        "\n",
        "Note: You'll need to convert the Tensor images into a NumPy type and transpose the dimensions to correctly display an image, suggested `imshow` code is below, but it may not be perfect."
      ]
    },
    {
      "cell_type": "code",
      "metadata": {
        "id": "R26PP4bPmwdb",
        "colab_type": "code",
        "colab": {
          "base_uri": "https://localhost:8080/",
          "height": 271
        },
        "outputId": "b10dd7e7-8a2d-4adf-90e1-2a447022a4b4"
      },
      "source": [
        "# helper display function\n",
        "def imshow(img):\n",
        "    npimg = img.numpy()\n",
        "    plt.imshow(np.transpose(npimg, (1, 2, 0)))\n",
        "\n",
        "\"\"\"\n",
        "DON'T MODIFY ANYTHING IN THIS CELL THAT IS BELOW THIS LINE\n",
        "\"\"\"\n",
        "# obtain one batch of training images\n",
        "dataiter = iter(celeba_train_loader)\n",
        "images, _ = dataiter.next() # _ for no labels\n",
        "\n",
        "# plot the images in the batch, along with the corresponding labels\n",
        "fig = plt.figure(figsize=(20, 4))\n",
        "plot_size=20\n",
        "for idx in np.arange(plot_size):\n",
        "    ax = fig.add_subplot(2, plot_size/2, idx+1, xticks=[], yticks=[])\n",
        "    imshow(images[idx])"
      ],
      "execution_count": 124,
      "outputs": [
        {
          "output_type": "display_data",
          "data": {
            "image/png": "[encoded data removed]",
            "text/plain": [
              "<Figure size 1440x288 with 20 Axes>"
            ]
          },
          "metadata": {
            "tags": []
          }
        }
      ]
    },
    {
      "cell_type": "markdown",
      "metadata": {
        "id": "Tc6Dzk0zmwdd",
        "colab_type": "text"
      },
      "source": [
        "#### Exercise: Pre-process your image data and scale it to a pixel range of -1 to 1\n",
        "\n",
        "You need to do a bit of pre-processing; you know that the output of a `tanh` activated generator will contain pixel values in a range from -1 to 1, and so, we need to rescale our training images to a range of -1 to 1. (Right now, they are in a range from 0-1.)"
      ]
    },
    {
      "cell_type": "code",
      "metadata": {
        "id": "K_qJ9hXtmwdd",
        "colab_type": "code",
        "colab": {}
      },
      "source": [
        "# TODO: Complete the scale function\n",
        "def scale(x, feature_range=(-1, 1)):\n",
        "    ''' Scale takes in an image x and returns that image, scaled\n",
        "       with a feature_range of pixel values from -1 to 1. \n",
        "       This function assumes that the input x is already scaled from 0-1.'''\n",
        "    # assume x is scaled to (0, 1)\n",
        "    # scale to feature_range and return scaled x\n",
        "    \n",
        "    min, max = feature_range\n",
        "    x = x * (max - min) + min\n",
        "    \n",
        "    return x\n"
      ],
      "execution_count": 0,
      "outputs": []
    },
    {
      "cell_type": "code",
      "metadata": {
        "id": "HIIxv5Zumwdg",
        "colab_type": "code",
        "colab": {
          "base_uri": "https://localhost:8080/",
          "height": 51
        },
        "outputId": "fc79fa56-fdfe-4f16-bc56-a2208ad2b0b7"
      },
      "source": [
        "\"\"\"\n",
        "DON'T MODIFY ANYTHING IN THIS CELL THAT IS BELOW THIS LINE\n",
        "\"\"\"\n",
        "# check scaled range\n",
        "# should be close to -1 to 1\n",
        "img = images[0]\n",
        "scaled_img = scale(img)\n",
        "\n",
        "print('Min: ', scaled_img.min())\n",
        "print('Max: ', scaled_img.max())"
      ],
      "execution_count": 126,
      "outputs": [
        {
          "output_type": "stream",
          "text": [
            "Min:  tensor(-0.9529)\n",
            "Max:  tensor(0.9451)\n"
          ],
          "name": "stdout"
        }
      ]
    },
    {
      "cell_type": "markdown",
      "metadata": {
        "id": "4osseS6imwdj",
        "colab_type": "text"
      },
      "source": [
        "---\n",
        "# Define the Model\n",
        "\n",
        "A GAN is comprised of two adversarial networks, a discriminator and a generator.\n",
        "\n",
        "## Discriminator\n",
        "\n",
        "Your first task will be to define the discriminator. This is a convolutional classifier like you've built before, only without any maxpooling layers. To deal with this complex data, it's suggested you use a deep network with **normalization**. You are also allowed to create any helper functions that may be useful.\n",
        "\n",
        "#### Exercise: Complete the Discriminator class\n",
        "* The inputs to the discriminator are 32x32x3 tensor images\n",
        "* The output should be a single value that will indicate whether a given image is real or fake\n"
      ]
    },
    {
      "cell_type": "code",
      "metadata": {
        "id": "u1tM2j2lmwdk",
        "colab_type": "code",
        "colab": {}
      },
      "source": [
        "import torch.nn as nn\n",
        "import torch.nn.functional as F"
      ],
      "execution_count": 0,
      "outputs": []
    },
    {
      "cell_type": "code",
      "metadata": {
        "id": "Q2P8Qw4D7cCh",
        "colab_type": "code",
        "colab": {}
      },
      "source": [
        "# convolution helper function\n",
        "def conv(in_channels, out_channels, kernel, stride=2, padding=1, batch_norm=False):\n",
        "    \"Returns a sequence of conv2d layers\"\n",
        "    \n",
        "    layers = []\n",
        "    \n",
        "    conv_layer = nn.Conv2d(in_channels, out_channels, kernel, stride, padding, bias=False)\n",
        "    \n",
        "    layers.append(conv_layer)\n",
        "    \n",
        "    if batch_norm:\n",
        "        layers.append(nn.BatchNorm2d(out_channels))\n",
        "    \n",
        "    return nn.Sequential(*layers)"
      ],
      "execution_count": 0,
      "outputs": []
    },
    {
      "cell_type": "code",
      "metadata": {
        "id": "TGpErQ6Ymwdo",
        "colab_type": "code",
        "colab": {
          "base_uri": "https://localhost:8080/",
          "height": 34
        },
        "outputId": "ba1cccf0-3205-4c55-f9c8-c3ad219149bc"
      },
      "source": [
        "class Discriminator(nn.Module):\n",
        "\n",
        "    def __init__(self, conv_dim):\n",
        "        \"\"\"\n",
        "        Initialize the Discriminator Module\n",
        "        :param conv_dim: The depth of the first convolutional layer\n",
        "        \"\"\"\n",
        "        super(Discriminator, self).__init__()\n",
        "\n",
        "        # complete init function\n",
        "        self.conv_dim = conv_dim # number of channels\n",
        "        self.flattened_dim = conv_dim*4 * 4*4 \n",
        "        \n",
        "        self.conv1 = conv(3, conv_dim, 4, batch_norm=False) # no batch_norm\n",
        "        self.conv2 = conv(conv_dim, conv_dim*2, 4, batch_norm=True)\n",
        "        self.conv3 = conv(conv_dim*2, conv_dim*4, 4, batch_norm=True)\n",
        "        self.lrelu = nn.LeakyReLU(0.2) # negative_slope=0.2\n",
        "        self.fc = nn.Linear(self.flattened_dim, 1) # (in_features, out_features)\n",
        "        self.dropout = nn.Dropout(0.3)\n",
        "        \n",
        "    def forward(self, x):\n",
        "        \"\"\"\n",
        "        Forward propagation of the neural network\n",
        "        :param x: The input to the neural network     \n",
        "        :return: Discriminator logits; the output of the neural network\n",
        "        \"\"\"\n",
        "        # define feedforward behavior\n",
        "        # first layer, no batch norm\n",
        "        x = self.conv1(x) # (32,32,3) -> (16,16,32)\n",
        "        x = self.lrelu(x)\n",
        "        x = self.dropout(x)\n",
        "                      \n",
        "        x = self.conv2(x) # (16,16,32) -> (8,8,64)\n",
        "        x = self.lrelu(x)\n",
        "        x = self.dropout(x)\n",
        "                      \n",
        "        x = self.conv3(x) # (8,8,64) -> (4,4,128)\n",
        "        x = self.lrelu(x)\n",
        "        x = self.dropout(x)\n",
        "        \n",
        "        # flatten for fc layer\n",
        "        x = x.view(-1, self.flattened_dim)\n",
        "        x = self.fc(x)\n",
        "        \n",
        "        return x\n",
        "\n",
        "\n",
        "\"\"\"\n",
        "DON'T MODIFY ANYTHING IN THIS CELL THAT IS BELOW THIS LINE\n",
        "\"\"\"\n",
        "tests.test_discriminator(Discriminator)"
      ],
      "execution_count": 129,
      "outputs": [
        {
          "output_type": "stream",
          "text": [
            "Tests Passed\n"
          ],
          "name": "stdout"
        }
      ]
    },
    {
      "cell_type": "markdown",
      "metadata": {
        "id": "ahm1_CcXmwds",
        "colab_type": "text"
      },
      "source": [
        "## Generator\n",
        "\n",
        "The generator should upsample an input and generate a *new* image of the same size as our training data `32x32x3`. This should be mostly transpose convolutional layers with normalization applied to the outputs.\n",
        "\n",
        "#### Exercise: Complete the Generator class\n",
        "* The inputs to the generator are vectors of some length `z_size`\n",
        "* The output should be a image of shape `32x32x3`"
      ]
    },
    {
      "cell_type": "code",
      "metadata": {
        "id": "9rB6Nsfq9zNk",
        "colab_type": "code",
        "colab": {}
      },
      "source": [
        "# transpose conv helper function\n",
        "def trans_conv(in_channels, out_channels, kernel, stride=2, padding=1, batch_norm=False):\n",
        "    \"Returns Sequence of trans conv layers for Generator\"\n",
        "    \n",
        "    layers = []\n",
        "    t_conv = nn.ConvTranspose2d(in_channels, out_channels, kernel, stride, padding, bias=False)\n",
        "    \n",
        "    layers.append(t_conv)\n",
        "    if batch_norm:\n",
        "        layers.append(nn.BatchNorm2d(out_channels))\n",
        "    \n",
        "    return nn.Sequential(*layers)"
      ],
      "execution_count": 0,
      "outputs": []
    },
    {
      "cell_type": "code",
      "metadata": {
        "id": "wgrHez08mwdt",
        "colab_type": "code",
        "colab": {
          "base_uri": "https://localhost:8080/",
          "height": 34
        },
        "outputId": "819c7fa9-2447-48ad-d405-2b70132220b9"
      },
      "source": [
        "class Generator(nn.Module):\n",
        "    \n",
        "    def __init__(self, z_size, conv_dim):\n",
        "        \"\"\"\n",
        "        Initialize the Generator Module\n",
        "        :param z_size: The length of the input latent vector, z\n",
        "        :param conv_dim: The depth of the inputs to the *last* transpose convolutional layer\n",
        "        \"\"\"\n",
        "        super(Generator, self).__init__()\n",
        "\n",
        "        # complete init function\n",
        "        ## from biggest conv_dim to smallest channel_size (which is 3: RGB)\n",
        "        self.conv_dim = conv_dim\n",
        "        \n",
        "        self.fc = nn.Linear(z_size, conv_dim*4 * 4*4) # (in_features, out_features)\n",
        "        self.tconv1 = trans_conv(conv_dim*4, conv_dim*2, 4, batch_norm=True)\n",
        "        self.tconv2 = trans_conv(conv_dim*2, conv_dim, 4, batch_norm=True)\n",
        "        self.tconv3 = trans_conv(conv_dim, 3, 4, batch_norm=False)\n",
        "        self.relu = nn.ReLU()\n",
        "        self.tanh = nn.Tanh()\n",
        "        self.dropout = nn.Dropout(0.3)        \n",
        "\n",
        "    def forward(self, x):\n",
        "        \"\"\"\n",
        "        Forward propagation of the neural network\n",
        "        :param x: The input to the neural network     \n",
        "        :return: A 32x32x3 Tensor image as output\n",
        "        \"\"\"\n",
        "        # define feedforward behavior\n",
        "        \n",
        "        # linear layer, then unflatten to the linear out_features size!\n",
        "        x = self.fc(x)\n",
        "        x = x.view(-1, self.conv_dim*4, 4, 4) # will be (batch_size, 32, 4, 4)\n",
        "        \n",
        "        # trans conv layers\n",
        "        x = self.dropout(x)\n",
        "        x = self.relu(self.tconv1(x))\n",
        "        \n",
        "        x = self.dropout(x)\n",
        "        x = self.relu(self.tconv2(x))\n",
        "        \n",
        "        x = self.dropout(x)\n",
        "        x = self.tanh(self.tconv3(x))\n",
        "        \n",
        "        return x\n",
        "\n",
        "\"\"\"\n",
        "DON'T MODIFY ANYTHING IN THIS CELL THAT IS BELOW THIS LINE\n",
        "\"\"\"\n",
        "tests.test_generator(Generator)"
      ],
      "execution_count": 131,
      "outputs": [
        {
          "output_type": "stream",
          "text": [
            "Tests Passed\n"
          ],
          "name": "stdout"
        }
      ]
    },
    {
      "cell_type": "markdown",
      "metadata": {
        "id": "p9jtmJdRmwdv",
        "colab_type": "text"
      },
      "source": [
        "## Initialize the weights of your networks\n",
        "\n",
        "To help your models converge, you should initialize the weights of the convolutional and linear layers in your model. From reading the [original DCGAN paper](https://arxiv.org/pdf/1511.06434.pdf), they say:\n",
        "> All weights were initialized from a zero-centered Normal distribution with standard deviation 0.02.\n",
        "\n",
        "So, your next task will be to define a weight initialization function that does just this!\n",
        "\n",
        "You can refer back to the lesson on weight initialization or even consult existing model code, such as that from [the `networks.py` file in CycleGAN Github repository](https://github.com/junyanz/pytorch-CycleGAN-and-pix2pix/blob/master/models/networks.py) to help you complete this function.\n",
        "\n",
        "#### Exercise: Complete the weight initialization function\n",
        "\n",
        "* This should initialize only **convolutional** and **linear** layers\n",
        "* Initialize the weights to a normal distribution, centered around 0, with a standard deviation of 0.02.\n",
        "* The bias terms, if they exist, may be left alone or set to 0."
      ]
    },
    {
      "cell_type": "code",
      "metadata": {
        "id": "PcEZeVAamwdv",
        "colab_type": "code",
        "colab": {}
      },
      "source": [
        "def weights_init_normal(m):\n",
        "    \"\"\"\n",
        "    Applies initial weights to certain layers in a model .\n",
        "    The weights are taken from a normal distribution \n",
        "    with mean = 0, std dev = 0.02.\n",
        "    :param m: A module or layer in a network    \n",
        "    \"\"\"\n",
        "    # classname will be something like:\n",
        "    # `Conv`, `BatchNorm2d`, `Linear`, etc.\n",
        "    classname = m.__class__.__name__\n",
        "    \n",
        "    # TODO: Apply initial weights to convolutional and linear layers\n",
        "    if (type(m) == nn.Linear) or (type(m) == nn.Conv2d) or (type(m) == nn.ConvTranspose2d):\n",
        "        # m.weight.data should be taken from a normal distribution\n",
        "        m.weight.data.normal_(0, 0.2)"
      ],
      "execution_count": 0,
      "outputs": []
    },
    {
      "cell_type": "markdown",
      "metadata": {
        "collapsed": true,
        "id": "OsqqCRIWmwdz",
        "colab_type": "text"
      },
      "source": [
        "## Build complete network\n",
        "\n",
        "Define your models' hyperparameters and instantiate the discriminator and generator from the classes defined above. Make sure you've passed in the correct input arguments."
      ]
    },
    {
      "cell_type": "code",
      "metadata": {
        "id": "geqg8I2rmwd0",
        "colab_type": "code",
        "colab": {}
      },
      "source": [
        "\"\"\"\n",
        "DON'T MODIFY ANYTHING IN THIS CELL THAT IS BELOW THIS LINE\n",
        "\"\"\"\n",
        "def build_network(d_conv_dim, g_conv_dim, z_size):\n",
        "    # define discriminator and generator\n",
        "    D = Discriminator(d_conv_dim)\n",
        "    G = Generator(z_size=z_size, conv_dim=g_conv_dim)\n",
        "\n",
        "    # initialize model weights\n",
        "    D.apply(weights_init_normal)\n",
        "    G.apply(weights_init_normal)\n",
        "\n",
        "    print(D)\n",
        "    print()\n",
        "    print(G)\n",
        "    \n",
        "    return D, G\n"
      ],
      "execution_count": 0,
      "outputs": []
    },
    {
      "cell_type": "markdown",
      "metadata": {
        "id": "5enykgNgmwd2",
        "colab_type": "text"
      },
      "source": [
        "#### Exercise: Define model hyperparameters"
      ]
    },
    {
      "cell_type": "code",
      "metadata": {
        "id": "go7sdfDbmwd2",
        "colab_type": "code",
        "colab": {
          "base_uri": "https://localhost:8080/",
          "height": 595
        },
        "outputId": "5f91cd98-20ee-4f4f-b9b6-80e6fe87c7b2"
      },
      "source": [
        "# Define model hyperparams\n",
        "d_conv_dim = 32\n",
        "g_conv_dim = 32\n",
        "z_size = 1000\n",
        "\n",
        "\"\"\"\n",
        "DON'T MODIFY ANYTHING IN THIS CELL THAT IS BELOW THIS LINE\n",
        "\"\"\"\n",
        "D, G = build_network(d_conv_dim, g_conv_dim, z_size)"
      ],
      "execution_count": 134,
      "outputs": [
        {
          "output_type": "stream",
          "text": [
            "Discriminator(\n",
            "  (conv1): Sequential(\n",
            "    (0): Conv2d(3, 32, kernel_size=(4, 4), stride=(2, 2), padding=(1, 1), bias=False)\n",
            "  )\n",
            "  (conv2): Sequential(\n",
            "    (0): Conv2d(32, 64, kernel_size=(4, 4), stride=(2, 2), padding=(1, 1), bias=False)\n",
            "    (1): BatchNorm2d(64, eps=1e-05, momentum=0.1, affine=True, track_running_stats=True)\n",
            "  )\n",
            "  (conv3): Sequential(\n",
            "    (0): Conv2d(64, 128, kernel_size=(4, 4), stride=(2, 2), padding=(1, 1), bias=False)\n",
            "    (1): BatchNorm2d(128, eps=1e-05, momentum=0.1, affine=True, track_running_stats=True)\n",
            "  )\n",
            "  (lrelu): LeakyReLU(negative_slope=0.2)\n",
            "  (fc): Linear(in_features=2048, out_features=1, bias=True)\n",
            "  (dropout): Dropout(p=0.3)\n",
            ")\n",
            "\n",
            "Generator(\n",
            "  (fc): Linear(in_features=1000, out_features=2048, bias=True)\n",
            "  (tconv1): Sequential(\n",
            "    (0): ConvTranspose2d(128, 64, kernel_size=(4, 4), stride=(2, 2), padding=(1, 1), bias=False)\n",
            "    (1): BatchNorm2d(64, eps=1e-05, momentum=0.1, affine=True, track_running_stats=True)\n",
            "  )\n",
            "  (tconv2): Sequential(\n",
            "    (0): ConvTranspose2d(64, 32, kernel_size=(4, 4), stride=(2, 2), padding=(1, 1), bias=False)\n",
            "    (1): BatchNorm2d(32, eps=1e-05, momentum=0.1, affine=True, track_running_stats=True)\n",
            "  )\n",
            "  (tconv3): Sequential(\n",
            "    (0): ConvTranspose2d(32, 3, kernel_size=(4, 4), stride=(2, 2), padding=(1, 1), bias=False)\n",
            "  )\n",
            "  (relu): ReLU()\n",
            "  (tanh): Tanh()\n",
            "  (dropout): Dropout(p=0.3)\n",
            ")\n"
          ],
          "name": "stdout"
        }
      ]
    },
    {
      "cell_type": "markdown",
      "metadata": {
        "id": "YZn5osf-mwd4",
        "colab_type": "text"
      },
      "source": [
        "### Training on GPU\n",
        "\n",
        "Check if you can train on GPU. Here, we'll set this as a boolean variable `train_on_gpu`. Later, you'll be responsible for making sure that \n",
        ">* Models,\n",
        "* Model inputs, and\n",
        "* Loss function arguments\n",
        "\n",
        "Are moved to GPU, where appropriate."
      ]
    },
    {
      "cell_type": "code",
      "metadata": {
        "id": "ANV0nbA0mwd5",
        "colab_type": "code",
        "colab": {
          "base_uri": "https://localhost:8080/",
          "height": 34
        },
        "outputId": "b8d830b9-88c1-406d-ab1e-0929a09d7390"
      },
      "source": [
        "\"\"\"\n",
        "DON'T MODIFY ANYTHING IN THIS CELL\n",
        "\"\"\"\n",
        "import torch\n",
        "\n",
        "# Check for a GPU\n",
        "train_on_gpu = torch.cuda.is_available()\n",
        "if not train_on_gpu:\n",
        "    print('No GPU found. Please use a GPU to train your neural network.')\n",
        "else:\n",
        "    print('Training on GPU!')"
      ],
      "execution_count": 135,
      "outputs": [
        {
          "output_type": "stream",
          "text": [
            "Training on GPU!\n"
          ],
          "name": "stdout"
        }
      ]
    },
    {
      "cell_type": "markdown",
      "metadata": {
        "id": "EsbLQEXmmwd7",
        "colab_type": "text"
      },
      "source": [
        "---\n",
        "## Discriminator and Generator Losses\n",
        "\n",
        "Now we need to calculate the losses for both types of adversarial networks.\n",
        "\n",
        "### Discriminator Losses\n",
        "\n",
        "> * For the discriminator, the total loss is the sum of the losses for real and fake images, `d_loss = d_real_loss + d_fake_loss`. \n",
        "* Remember that we want the discriminator to output 1 for real images and 0 for fake images, so we need to set up the losses to reflect that.\n",
        "\n",
        "\n",
        "### Generator Loss\n",
        "\n",
        "The generator loss will look similar only with flipped labels. The generator's goal is to get the discriminator to *think* its generated images are *real*.\n",
        "\n",
        "#### Exercise: Complete real and fake loss functions\n",
        "\n",
        "**You may choose to use either cross entropy or a least squares error loss to complete the following `real_loss` and `fake_loss` functions.**"
      ]
    },
    {
      "cell_type": "code",
      "metadata": {
        "id": "eBLXt6wamwd7",
        "colab_type": "code",
        "colab": {}
      },
      "source": [
        "def real_loss(D_out):\n",
        "    '''Calculates how close discriminator outputs are to being real.\n",
        "       param, D_out: discriminator logits\n",
        "       return: real loss'''\n",
        "    labels = torch.ones(D_out.shape[0])\n",
        "    if train_on_gpu:\n",
        "        labels = labels.cuda()\n",
        "    \n",
        "    criterion = nn.BCEWithLogitsLoss()\n",
        "    loss = criterion(D_out.squeeze(), labels)\n",
        "    \n",
        "    return loss\n",
        "\n",
        "def fake_loss(D_out):\n",
        "    '''Calculates how close discriminator outputs are to being fake.\n",
        "       param, D_out: discriminator logits\n",
        "       return: fake loss'''\n",
        "    labels = torch.zeros(D_out.shape[0])\n",
        "    if train_on_gpu:\n",
        "        labels = labels.cuda()\n",
        "    \n",
        "    criterion = nn.BCEWithLogitsLoss()\n",
        "    loss = criterion(D_out.squeeze(), labels)\n",
        "    \n",
        "    return loss"
      ],
      "execution_count": 0,
      "outputs": []
    },
    {
      "cell_type": "markdown",
      "metadata": {
        "id": "ZHejAz0_mwd-",
        "colab_type": "text"
      },
      "source": [
        "## Optimizers\n",
        "\n",
        "#### Exercise: Define optimizers for your Discriminator (D) and Generator (G)\n",
        "\n",
        "Define optimizers for your models with appropriate hyperparameters."
      ]
    },
    {
      "cell_type": "code",
      "metadata": {
        "id": "szZBVsFemwd_",
        "colab_type": "code",
        "colab": {}
      },
      "source": [
        "import torch.optim as optim\n",
        "\n",
        "# Create optimizers for the discriminator D and generator G\n",
        "d_optimizer = optim.Adam(D.parameters(), 0.0002, [0.5, 0.999])\n",
        "g_optimizer = optim.Adam(G.parameters(), 0.0002, [0.5, 0.999])"
      ],
      "execution_count": 0,
      "outputs": []
    },
    {
      "cell_type": "markdown",
      "metadata": {
        "id": "jn4NNjD8mweG",
        "colab_type": "text"
      },
      "source": [
        "---\n",
        "## Training\n",
        "\n",
        "Training will involve alternating between training the discriminator and the generator. You'll use your functions `real_loss` and `fake_loss` to help you calculate the discriminator losses.\n",
        "\n",
        "* You should train the discriminator by alternating on real and fake images\n",
        "* Then the generator, which tries to trick the discriminator and should have an opposing loss function\n",
        "\n",
        "\n",
        "#### Saving Samples\n",
        "\n",
        "You've been given some code to print out some loss statistics and save some generated \"fake\" samples."
      ]
    },
    {
      "cell_type": "markdown",
      "metadata": {
        "id": "Ps8mUaB_mweI",
        "colab_type": "text"
      },
      "source": [
        "#### Exercise: Complete the training function\n",
        "\n",
        "Keep in mind that, if you've moved your models to GPU, you'll also have to move any model inputs to GPU."
      ]
    },
    {
      "cell_type": "code",
      "metadata": {
        "id": "53Bc5xIEIXeI",
        "colab_type": "code",
        "colab": {}
      },
      "source": [
        "# function for creating fake images\n",
        "def create_fakes(batch_size, z_size, train_on_gpu):\n",
        "    z = np.random.uniform(-1, 1, size=(batch_size, z_size))\n",
        "    z = torch.from_numpy(z).float()\n",
        "    if train_on_gpu:\n",
        "        z = z.cuda()\n",
        "        \n",
        "    return z"
      ],
      "execution_count": 0,
      "outputs": []
    },
    {
      "cell_type": "code",
      "metadata": {
        "id": "mNNjcqoUmweJ",
        "colab_type": "code",
        "colab": {}
      },
      "source": [
        "def train(D, G, n_epochs, print_every=500):\n",
        "    '''Trains adversarial networks for some number of epochs\n",
        "       param, D: the discriminator network\n",
        "       param, G: the generator network\n",
        "       param, n_epochs: number of epochs to train for\n",
        "       param, print_every: when to print and record the models' losses\n",
        "       return: D and G losses'''\n",
        "    \n",
        "    # move models to GPU\n",
        "    if train_on_gpu:\n",
        "        D.cuda()\n",
        "        G.cuda()\n",
        "\n",
        "    # keep track of loss and generated, \"fake\" samples\n",
        "    samples = []\n",
        "    losses = []\n",
        "\n",
        "    # Get some fixed data for sampling. These are images that are held\n",
        "    # constant throughout training, and allow us to inspect the model's performance\n",
        "    sample_size=16\n",
        "#     fixed_z = np.random.uniform(-1, 1, size=(sample_size, z_size))\n",
        "#     fixed_z = torch.from_numpy(fixed_z).float()\n",
        "#     # move z to GPU if available\n",
        "#     if train_on_gpu:\n",
        "#         fixed_z = fixed_z.cuda()\n",
        "    fixed_z = create_fakes(sample_size, z_size, train_on_gpu)\n",
        "\n",
        "    # epoch training loop\n",
        "    for epoch in range(n_epochs):\n",
        "\n",
        "        # batch training loop\n",
        "        for batch_i, (real_images, _) in enumerate(celeba_train_loader):\n",
        "\n",
        "            batch_size = real_images.size(0)\n",
        "            real_images = scale(real_images)\n",
        "\n",
        "            # ===============================================\n",
        "            #         YOUR CODE HERE: TRAIN THE NETWORKS\n",
        "            # ===============================================\n",
        "            \n",
        "            d_optimizer.zero_grad()\n",
        "            g_optimizer.zero_grad()\n",
        "            \n",
        "            # 1. Train the discriminator on real and fake images\n",
        "            \n",
        "            # REAL IMAGES\n",
        "            if train_on_gpu:\n",
        "                real_images = real_images.cuda()\n",
        "            \n",
        "            D_real = D(real_images)\n",
        "            d_real_loss = real_loss(D_real) # D_real is on cuda\n",
        "            \n",
        "            # FAKE IMAGES\n",
        "            z = create_fakes(batch_size, z_size, train_on_gpu)\n",
        "            fake_images = G(z)\n",
        "            \n",
        "            D_fake = D(fake_images)\n",
        "            d_fake_loss = fake_loss(D_fake)\n",
        "            \n",
        "            # losses and backprop\n",
        "            d_loss = d_real_loss + d_fake_loss\n",
        "            d_loss.backward()\n",
        "            d_optimizer.step()\n",
        "            \n",
        "            # 2. Train the generator with an adversarial loss\n",
        "            \n",
        "            # obviously, train on FAKE IMAGES\n",
        "            z = create_fakes(batch_size, z_size, train_on_gpu)\n",
        "            fakes = G(z)\n",
        "            \n",
        "            D_fake = D(fakes)\n",
        "            g_loss = real_loss(D_fake)\n",
        "            g_loss.backward()\n",
        "            g_optimizer.step()\n",
        "            \n",
        "            \n",
        "            # ===============================================\n",
        "            #              END OF YOUR CODE\n",
        "            # ===============================================\n",
        "\n",
        "            # Print some loss stats\n",
        "            if batch_i % print_every == 0:\n",
        "                # append discriminator loss and generator loss\n",
        "                losses.append((d_loss.item(), g_loss.item()))\n",
        "                # print discriminator and generator loss\n",
        "                print('Epoch [{:5d}/{:5d}] | d_loss: {:6.4f} | g_loss: {:6.4f}'.format(\n",
        "                        epoch+1, n_epochs, d_loss.item(), g_loss.item()))\n",
        "\n",
        "\n",
        "        ## AFTER EACH EPOCH##    \n",
        "        # this code assumes your generator is named G, feel free to change the name\n",
        "        # generate and save sample, fake images\n",
        "        G.eval() # for generating samples\n",
        "        samples_z = G(fixed_z)\n",
        "        samples.append(samples_z)\n",
        "        G.train() # back to training mode\n",
        "\n",
        "    # Save training generator samples\n",
        "    with open('train_samples.pkl', 'wb') as f:\n",
        "        pkl.dump(samples, f)\n",
        "    \n",
        "    # finally return losses\n",
        "    return losses"
      ],
      "execution_count": 0,
      "outputs": []
    },
    {
      "cell_type": "markdown",
      "metadata": {
        "id": "h8CZ7OsxmweL",
        "colab_type": "text"
      },
      "source": [
        "Set your number of training epochs and train your GAN!"
      ]
    },
    {
      "cell_type": "code",
      "metadata": {
        "id": "Y13At0AymweL",
        "colab_type": "code",
        "colab": {
          "base_uri": "https://localhost:8080/",
          "height": 3417
        },
        "outputId": "d3ecd846-eb58-440d-ece9-75805491d5cd"
      },
      "source": [
        "# set number of epochs \n",
        "n_epochs = 100\n",
        "\n",
        "\n",
        "\"\"\"\n",
        "DON'T MODIFY ANYTHING IN THIS CELL\n",
        "\"\"\"\n",
        "# call training function\n",
        "losses = train(D, G, n_epochs=n_epochs)"
      ],
      "execution_count": 140,
      "outputs": [
        {
          "output_type": "stream",
          "text": [
            "Epoch [    1/  100] | d_loss: 3.5578 | g_loss: 1.5201\n",
            "Epoch [    1/  100] | d_loss: 0.1637 | g_loss: 8.3968\n",
            "Epoch [    2/  100] | d_loss: 0.1695 | g_loss: 9.1285\n",
            "Epoch [    2/  100] | d_loss: 0.0299 | g_loss: 9.5584\n",
            "Epoch [    3/  100] | d_loss: 0.0920 | g_loss: 9.6076\n",
            "Epoch [    3/  100] | d_loss: 0.1008 | g_loss: 9.3628\n",
            "Epoch [    4/  100] | d_loss: 0.0632 | g_loss: 10.0609\n",
            "Epoch [    4/  100] | d_loss: 0.1696 | g_loss: 9.0657\n",
            "Epoch [    5/  100] | d_loss: 0.1865 | g_loss: 8.8687\n",
            "Epoch [    5/  100] | d_loss: 0.2222 | g_loss: 9.8013\n",
            "Epoch [    6/  100] | d_loss: 0.1820 | g_loss: 8.6771\n",
            "Epoch [    6/  100] | d_loss: 0.1799 | g_loss: 8.2661\n",
            "Epoch [    7/  100] | d_loss: 0.2335 | g_loss: 7.5610\n",
            "Epoch [    7/  100] | d_loss: 0.2362 | g_loss: 6.6723\n",
            "Epoch [    8/  100] | d_loss: 0.1631 | g_loss: 6.4257\n",
            "Epoch [    8/  100] | d_loss: 0.1648 | g_loss: 6.0840\n",
            "Epoch [    9/  100] | d_loss: 0.1660 | g_loss: 6.5778\n",
            "Epoch [    9/  100] | d_loss: 0.1267 | g_loss: 6.8897\n",
            "Epoch [   10/  100] | d_loss: 0.1490 | g_loss: 4.8537\n",
            "Epoch [   10/  100] | d_loss: 0.1017 | g_loss: 6.7623\n",
            "Epoch [   11/  100] | d_loss: 0.1077 | g_loss: 5.8113\n",
            "Epoch [   11/  100] | d_loss: 0.1114 | g_loss: 6.4095\n",
            "Epoch [   12/  100] | d_loss: 0.1764 | g_loss: 7.2573\n",
            "Epoch [   12/  100] | d_loss: 0.0848 | g_loss: 6.9120\n",
            "Epoch [   13/  100] | d_loss: 0.1192 | g_loss: 5.4480\n",
            "Epoch [   13/  100] | d_loss: 0.1780 | g_loss: 6.4238\n",
            "Epoch [   14/  100] | d_loss: 0.2228 | g_loss: 5.2547\n",
            "Epoch [   14/  100] | d_loss: 0.2335 | g_loss: 5.3346\n",
            "Epoch [   15/  100] | d_loss: 0.3490 | g_loss: 4.9242\n",
            "Epoch [   15/  100] | d_loss: 0.2227 | g_loss: 6.3227\n",
            "Epoch [   16/  100] | d_loss: 0.2723 | g_loss: 5.2231\n",
            "Epoch [   16/  100] | d_loss: 0.2632 | g_loss: 5.0049\n",
            "Epoch [   17/  100] | d_loss: 0.2611 | g_loss: 5.1242\n",
            "Epoch [   17/  100] | d_loss: 0.1308 | g_loss: 6.3406\n",
            "Epoch [   18/  100] | d_loss: 0.3095 | g_loss: 4.4600\n",
            "Epoch [   18/  100] | d_loss: 0.1414 | g_loss: 6.3906\n",
            "Epoch [   19/  100] | d_loss: 0.2379 | g_loss: 6.3168\n",
            "Epoch [   19/  100] | d_loss: 0.1125 | g_loss: 6.0428\n",
            "Epoch [   20/  100] | d_loss: 0.1673 | g_loss: 5.5063\n",
            "Epoch [   20/  100] | d_loss: 0.1181 | g_loss: 6.5785\n",
            "Epoch [   21/  100] | d_loss: 0.2172 | g_loss: 5.7486\n",
            "Epoch [   21/  100] | d_loss: 0.2506 | g_loss: 5.9119\n",
            "Epoch [   22/  100] | d_loss: 0.0913 | g_loss: 5.2361\n",
            "Epoch [   22/  100] | d_loss: 0.1179 | g_loss: 5.5864\n",
            "Epoch [   23/  100] | d_loss: 0.1786 | g_loss: 6.2827\n",
            "Epoch [   23/  100] | d_loss: 0.2107 | g_loss: 6.3677\n",
            "Epoch [   24/  100] | d_loss: 0.1040 | g_loss: 6.0471\n",
            "Epoch [   24/  100] | d_loss: 0.1724 | g_loss: 6.1003\n",
            "Epoch [   25/  100] | d_loss: 0.1329 | g_loss: 6.7731\n",
            "Epoch [   25/  100] | d_loss: 0.1136 | g_loss: 6.7089\n",
            "Epoch [   26/  100] | d_loss: 0.0844 | g_loss: 5.9990\n",
            "Epoch [   26/  100] | d_loss: 0.2129 | g_loss: 5.6592\n",
            "Epoch [   27/  100] | d_loss: 0.2249 | g_loss: 7.0532\n",
            "Epoch [   27/  100] | d_loss: 0.1048 | g_loss: 6.6596\n",
            "Epoch [   28/  100] | d_loss: 0.2390 | g_loss: 7.3149\n",
            "Epoch [   28/  100] | d_loss: 0.1128 | g_loss: 6.7843\n",
            "Epoch [   29/  100] | d_loss: 0.1427 | g_loss: 6.0487\n",
            "Epoch [   29/  100] | d_loss: 0.1212 | g_loss: 7.3383\n",
            "Epoch [   30/  100] | d_loss: 0.0804 | g_loss: 6.8388\n",
            "Epoch [   30/  100] | d_loss: 0.0594 | g_loss: 6.9754\n",
            "Epoch [   31/  100] | d_loss: 0.1447 | g_loss: 6.2052\n",
            "Epoch [   31/  100] | d_loss: 0.1006 | g_loss: 7.3207\n",
            "Epoch [   32/  100] | d_loss: 0.0869 | g_loss: 5.5633\n",
            "Epoch [   32/  100] | d_loss: 0.1055 | g_loss: 6.3970\n",
            "Epoch [   33/  100] | d_loss: 0.1317 | g_loss: 6.8150\n",
            "Epoch [   33/  100] | d_loss: 0.0370 | g_loss: 6.1391\n",
            "Epoch [   34/  100] | d_loss: 0.0510 | g_loss: 6.9951\n",
            "Epoch [   34/  100] | d_loss: 0.0734 | g_loss: 8.1196\n",
            "Epoch [   35/  100] | d_loss: 0.3240 | g_loss: 3.8538\n",
            "Epoch [   35/  100] | d_loss: 0.0727 | g_loss: 8.4481\n",
            "Epoch [   36/  100] | d_loss: 0.0867 | g_loss: 7.9401\n",
            "Epoch [   36/  100] | d_loss: 0.0808 | g_loss: 8.9560\n",
            "Epoch [   37/  100] | d_loss: 0.1503 | g_loss: 7.7907\n",
            "Epoch [   37/  100] | d_loss: 0.0431 | g_loss: 7.6197\n",
            "Epoch [   38/  100] | d_loss: 0.1579 | g_loss: 6.5130\n",
            "Epoch [   38/  100] | d_loss: 0.0838 | g_loss: 5.8667\n",
            "Epoch [   39/  100] | d_loss: 0.1229 | g_loss: 5.9471\n",
            "Epoch [   39/  100] | d_loss: 0.0660 | g_loss: 8.1331\n",
            "Epoch [   40/  100] | d_loss: 0.1608 | g_loss: 4.2392\n",
            "Epoch [   40/  100] | d_loss: 0.0631 | g_loss: 6.6958\n",
            "Epoch [   41/  100] | d_loss: 0.1543 | g_loss: 4.8395\n",
            "Epoch [   41/  100] | d_loss: 0.0823 | g_loss: 6.0971\n",
            "Epoch [   42/  100] | d_loss: 0.0302 | g_loss: 5.5876\n",
            "Epoch [   42/  100] | d_loss: 0.0839 | g_loss: 7.8764\n",
            "Epoch [   43/  100] | d_loss: 0.2140 | g_loss: 5.4170\n",
            "Epoch [   43/  100] | d_loss: 0.1014 | g_loss: 7.0246\n",
            "Epoch [   44/  100] | d_loss: 0.0626 | g_loss: 8.1730\n",
            "Epoch [   44/  100] | d_loss: 0.0789 | g_loss: 6.6027\n",
            "Epoch [   45/  100] | d_loss: 0.0588 | g_loss: 6.5045\n",
            "Epoch [   45/  100] | d_loss: 0.1613 | g_loss: 4.7539\n",
            "Epoch [   46/  100] | d_loss: 0.0390 | g_loss: 6.6379\n",
            "Epoch [   46/  100] | d_loss: 0.0712 | g_loss: 5.8668\n",
            "Epoch [   47/  100] | d_loss: 0.1027 | g_loss: 7.4934\n",
            "Epoch [   47/  100] | d_loss: 0.0554 | g_loss: 7.4294\n",
            "Epoch [   48/  100] | d_loss: 0.0768 | g_loss: 7.7820\n",
            "Epoch [   48/  100] | d_loss: 0.1102 | g_loss: 5.6019\n",
            "Epoch [   49/  100] | d_loss: 0.0787 | g_loss: 4.1930\n",
            "Epoch [   49/  100] | d_loss: 0.0824 | g_loss: 8.3228\n",
            "Epoch [   50/  100] | d_loss: 0.0638 | g_loss: 6.1010\n",
            "Epoch [   50/  100] | d_loss: 0.1319 | g_loss: 6.9729\n",
            "Epoch [   51/  100] | d_loss: 0.0287 | g_loss: 8.7216\n",
            "Epoch [   51/  100] | d_loss: 0.0430 | g_loss: 7.2144\n",
            "Epoch [   52/  100] | d_loss: 0.2129 | g_loss: 5.8028\n",
            "Epoch [   52/  100] | d_loss: 0.0683 | g_loss: 10.0867\n",
            "Epoch [   53/  100] | d_loss: 0.0381 | g_loss: 8.2367\n",
            "Epoch [   53/  100] | d_loss: 0.0301 | g_loss: 7.4858\n",
            "Epoch [   54/  100] | d_loss: 0.2793 | g_loss: 5.9941\n",
            "Epoch [   54/  100] | d_loss: 0.0196 | g_loss: 8.3185\n",
            "Epoch [   55/  100] | d_loss: 0.0752 | g_loss: 6.6414\n",
            "Epoch [   55/  100] | d_loss: 0.0487 | g_loss: 8.8452\n",
            "Epoch [   56/  100] | d_loss: 0.0711 | g_loss: 7.4588\n",
            "Epoch [   56/  100] | d_loss: 0.0830 | g_loss: 9.0153\n",
            "Epoch [   57/  100] | d_loss: 0.0933 | g_loss: 8.1948\n",
            "Epoch [   57/  100] | d_loss: 0.0477 | g_loss: 9.0360\n",
            "Epoch [   58/  100] | d_loss: 0.0424 | g_loss: 8.0089\n",
            "Epoch [   58/  100] | d_loss: 0.0782 | g_loss: 9.5529\n",
            "Epoch [   59/  100] | d_loss: 0.0703 | g_loss: 8.4773\n",
            "Epoch [   59/  100] | d_loss: 0.0283 | g_loss: 11.1370\n",
            "Epoch [   60/  100] | d_loss: 0.0274 | g_loss: 6.3978\n",
            "Epoch [   60/  100] | d_loss: 0.0400 | g_loss: 9.1548\n",
            "Epoch [   61/  100] | d_loss: 0.0782 | g_loss: 9.4328\n",
            "Epoch [   61/  100] | d_loss: 0.0769 | g_loss: 9.6482\n",
            "Epoch [   62/  100] | d_loss: 0.0942 | g_loss: 7.2956\n",
            "Epoch [   62/  100] | d_loss: 0.0281 | g_loss: 6.7047\n",
            "Epoch [   63/  100] | d_loss: 0.0354 | g_loss: 8.6407\n",
            "Epoch [   63/  100] | d_loss: 0.0440 | g_loss: 11.0716\n",
            "Epoch [   64/  100] | d_loss: 0.0557 | g_loss: 5.7476\n",
            "Epoch [   64/  100] | d_loss: 0.0630 | g_loss: 6.4845\n",
            "Epoch [   65/  100] | d_loss: 0.0253 | g_loss: 6.9112\n",
            "Epoch [   65/  100] | d_loss: 0.0191 | g_loss: 6.6334\n",
            "Epoch [   66/  100] | d_loss: 0.0451 | g_loss: 9.7655\n",
            "Epoch [   66/  100] | d_loss: 0.0252 | g_loss: 9.4365\n",
            "Epoch [   67/  100] | d_loss: 0.0555 | g_loss: 8.9672\n",
            "Epoch [   67/  100] | d_loss: 0.0323 | g_loss: 5.0176\n",
            "Epoch [   68/  100] | d_loss: 0.0168 | g_loss: 9.0297\n",
            "Epoch [   68/  100] | d_loss: 0.0784 | g_loss: 10.2277\n",
            "Epoch [   69/  100] | d_loss: 0.0341 | g_loss: 5.5594\n",
            "Epoch [   69/  100] | d_loss: 0.0112 | g_loss: 8.5215\n",
            "Epoch [   70/  100] | d_loss: 0.0341 | g_loss: 7.8237\n",
            "Epoch [   70/  100] | d_loss: 0.0085 | g_loss: 9.1716\n",
            "Epoch [   71/  100] | d_loss: 0.0254 | g_loss: 10.8000\n",
            "Epoch [   71/  100] | d_loss: 0.1081 | g_loss: 7.9559\n",
            "Epoch [   72/  100] | d_loss: 0.0226 | g_loss: 10.3641\n",
            "Epoch [   72/  100] | d_loss: 0.0266 | g_loss: 9.7316\n",
            "Epoch [   73/  100] | d_loss: 0.0456 | g_loss: 10.7315\n",
            "Epoch [   73/  100] | d_loss: 0.0358 | g_loss: 7.8878\n",
            "Epoch [   74/  100] | d_loss: 0.0516 | g_loss: 8.1105\n",
            "Epoch [   74/  100] | d_loss: 0.0158 | g_loss: 8.4618\n",
            "Epoch [   75/  100] | d_loss: 0.0858 | g_loss: 8.0288\n",
            "Epoch [   75/  100] | d_loss: 0.0311 | g_loss: 8.8059\n",
            "Epoch [   76/  100] | d_loss: 0.0646 | g_loss: 9.6516\n",
            "Epoch [   76/  100] | d_loss: 0.0194 | g_loss: 8.6056\n",
            "Epoch [   77/  100] | d_loss: 0.0599 | g_loss: 10.1209\n",
            "Epoch [   77/  100] | d_loss: 0.0934 | g_loss: 8.5063\n",
            "Epoch [   78/  100] | d_loss: 0.0666 | g_loss: 9.3409\n",
            "Epoch [   78/  100] | d_loss: 0.0179 | g_loss: 8.9281\n",
            "Epoch [   79/  100] | d_loss: 0.0939 | g_loss: 6.5584\n",
            "Epoch [   79/  100] | d_loss: 0.0406 | g_loss: 10.4356\n",
            "Epoch [   80/  100] | d_loss: 0.0200 | g_loss: 8.5533\n",
            "Epoch [   80/  100] | d_loss: 0.0259 | g_loss: 10.4749\n",
            "Epoch [   81/  100] | d_loss: 0.0559 | g_loss: 7.5666\n",
            "Epoch [   81/  100] | d_loss: 0.0555 | g_loss: 9.4386\n",
            "Epoch [   82/  100] | d_loss: 0.0413 | g_loss: 12.0465\n",
            "Epoch [   82/  100] | d_loss: 0.0427 | g_loss: 9.5465\n",
            "Epoch [   83/  100] | d_loss: 0.0891 | g_loss: 10.2184\n",
            "Epoch [   83/  100] | d_loss: 0.0046 | g_loss: 9.3879\n",
            "Epoch [   84/  100] | d_loss: 0.0264 | g_loss: 9.8681\n",
            "Epoch [   84/  100] | d_loss: 0.0080 | g_loss: 9.7587\n",
            "Epoch [   85/  100] | d_loss: 0.0361 | g_loss: 8.2009\n",
            "Epoch [   85/  100] | d_loss: 0.0144 | g_loss: 8.8366\n",
            "Epoch [   86/  100] | d_loss: 0.0300 | g_loss: 6.7823\n",
            "Epoch [   86/  100] | d_loss: 0.1078 | g_loss: 8.3130\n",
            "Epoch [   87/  100] | d_loss: 0.0406 | g_loss: 9.0352\n",
            "Epoch [   87/  100] | d_loss: 0.0181 | g_loss: 7.9782\n",
            "Epoch [   88/  100] | d_loss: 0.0313 | g_loss: 10.2293\n",
            "Epoch [   88/  100] | d_loss: 0.0139 | g_loss: 7.7667\n",
            "Epoch [   89/  100] | d_loss: 0.0173 | g_loss: 8.3604\n",
            "Epoch [   89/  100] | d_loss: 0.0183 | g_loss: 10.9590\n",
            "Epoch [   90/  100] | d_loss: 1.9453 | g_loss: 5.4089\n",
            "Epoch [   90/  100] | d_loss: 0.0198 | g_loss: 9.7975\n",
            "Epoch [   91/  100] | d_loss: 0.0489 | g_loss: 9.6088\n",
            "Epoch [   91/  100] | d_loss: 0.0151 | g_loss: 8.7978\n",
            "Epoch [   92/  100] | d_loss: 0.0805 | g_loss: 7.6690\n",
            "Epoch [   92/  100] | d_loss: 0.0483 | g_loss: 9.3075\n",
            "Epoch [   93/  100] | d_loss: 0.0099 | g_loss: 10.4304\n",
            "Epoch [   93/  100] | d_loss: 0.0229 | g_loss: 9.2439\n",
            "Epoch [   94/  100] | d_loss: 0.0079 | g_loss: 9.4638\n",
            "Epoch [   94/  100] | d_loss: 0.0219 | g_loss: 9.6461\n",
            "Epoch [   95/  100] | d_loss: 0.0183 | g_loss: 7.2902\n",
            "Epoch [   95/  100] | d_loss: 0.0099 | g_loss: 11.1609\n",
            "Epoch [   96/  100] | d_loss: 0.0359 | g_loss: 10.6836\n",
            "Epoch [   96/  100] | d_loss: 0.0029 | g_loss: 10.4487\n",
            "Epoch [   97/  100] | d_loss: 0.0093 | g_loss: 11.6322\n",
            "Epoch [   97/  100] | d_loss: 0.0037 | g_loss: 9.4435\n",
            "Epoch [   98/  100] | d_loss: 0.0297 | g_loss: 9.6307\n",
            "Epoch [   98/  100] | d_loss: 0.0165 | g_loss: 8.1868\n",
            "Epoch [   99/  100] | d_loss: 0.0179 | g_loss: 10.0524\n",
            "Epoch [   99/  100] | d_loss: 0.0751 | g_loss: 11.1411\n",
            "Epoch [  100/  100] | d_loss: 0.0964 | g_loss: 8.9882\n",
            "Epoch [  100/  100] | d_loss: 0.0028 | g_loss: 11.9605\n"
          ],
          "name": "stdout"
        }
      ]
    },
    {
      "cell_type": "markdown",
      "metadata": {
        "collapsed": true,
        "id": "71dzbjnnmweN",
        "colab_type": "text"
      },
      "source": [
        "## Training loss\n",
        "\n",
        "Plot the training losses for the generator and discriminator, recorded after each epoch."
      ]
    },
    {
      "cell_type": "code",
      "metadata": {
        "id": "_0ibhtNhmweO",
        "colab_type": "code",
        "colab": {
          "base_uri": "https://localhost:8080/",
          "height": 298
        },
        "outputId": "474a05a3-7c11-4ec4-fa13-986724940e4c"
      },
      "source": [
        "fig, ax = plt.subplots()\n",
        "losses = np.array(losses)\n",
        "plt.plot(losses.T[0], label='Discriminator', alpha=0.5)\n",
        "plt.plot(losses.T[1], label='Generator', alpha=0.5)\n",
        "plt.title(\"Training Losses\")\n",
        "plt.legend()"
      ],
      "execution_count": 141,
      "outputs": [
        {
          "output_type": "execute_result",
          "data": {
            "text/plain": [
              "<matplotlib.legend.Legend at 0x7fa671425128>"
            ]
          },
          "metadata": {
            "tags": []
          },
          "execution_count": 141
        },
        {
          "output_type": "display_data",
          "data": {
            "image/png": "[encoded data removed]",
            "text/plain": [
              "<Figure size 432x288 with 1 Axes>"
            ]
          },
          "metadata": {
            "tags": []
          }
        }
      ]
    },
    {
      "cell_type": "markdown",
      "metadata": {
        "collapsed": true,
        "id": "CeL4ap7HmweQ",
        "colab_type": "text"
      },
      "source": [
        "## Generator samples from training\n",
        "\n",
        "View samples of images from the generator, and answer a question about the strengths and weaknesses of your trained models."
      ]
    },
    {
      "cell_type": "code",
      "metadata": {
        "id": "vI1V-SsQmweQ",
        "colab_type": "code",
        "colab": {}
      },
      "source": [
        "# helper function for viewing a list of passed in sample images\n",
        "def view_samples(epoch, samples):\n",
        "    fig, axes = plt.subplots(figsize=(16,4), nrows=2, ncols=8, sharey=True, sharex=True)\n",
        "    for ax, img in zip(axes.flatten(), samples[epoch]):\n",
        "        img = img.detach().cpu().numpy()\n",
        "        img = np.transpose(img, (1, 2, 0))\n",
        "        img = ((img + 1)*255 / (2)).astype(np.uint8)\n",
        "        ax.xaxis.set_visible(False)\n",
        "        ax.yaxis.set_visible(False)\n",
        "        im = ax.imshow(img.reshape((32,32,3)))"
      ],
      "execution_count": 0,
      "outputs": []
    },
    {
      "cell_type": "code",
      "metadata": {
        "id": "bNz7f3eUmweS",
        "colab_type": "code",
        "colab": {}
      },
      "source": [
        "# Load samples from generator, taken while training\n",
        "with open('train_samples.pkl', 'rb') as f:\n",
        "    samples = pkl.load(f)"
      ],
      "execution_count": 0,
      "outputs": []
    },
    {
      "cell_type": "code",
      "metadata": {
        "id": "34CioqR5mweU",
        "colab_type": "code",
        "colab": {
          "base_uri": "https://localhost:8080/",
          "height": 281
        },
        "outputId": "52a24796-c94b-43fc-a2c5-f137e54786c1"
      },
      "source": [
        "_ = view_samples(-1, samples)\n",
        "samples[0].shape"
      ],
      "execution_count": 144,
      "outputs": [
        {
          "output_type": "execute_result",
          "data": {
            "text/plain": [
              "torch.Size([16, 3, 32, 32])"
            ]
          },
          "metadata": {
            "tags": []
          },
          "execution_count": 144
        },
        {
          "output_type": "display_data",
          "data": {
            "image/png": "[encoded data removed]",
            "text/plain": [
              "<Figure size 1152x288 with 16 Axes>"
            ]
          },
          "metadata": {
            "tags": []
          }
        }
      ]
    },
    {
      "cell_type": "markdown",
      "metadata": {
        "id": "DeCJ2hH2mweV",
        "colab_type": "text"
      },
      "source": [
        "### Question: What do you notice about your generated samples and how might you improve this model?\n",
        "When you answer this question, consider the following factors:\n",
        "* The dataset is biased; it is made of \"celebrity\" faces that are mostly white\n",
        "* Model size; larger models have the opportunity to learn more features in a data feature space\n",
        "* Optimization strategy; optimizers and number of epochs affect your final result\n"
      ]
    },
    {
      "cell_type": "markdown",
      "metadata": {
        "id": "AuS2vJINmweW",
        "colab_type": "text"
      },
      "source": [
        "**Answer:** (Write your answer in this cell)"
      ]
    },
    {
      "cell_type": "markdown",
      "metadata": {
        "id": "UWh-2lnemweX",
        "colab_type": "text"
      },
      "source": [
        "### Submitting This Project\n",
        "When submitting this project, make sure to run all the cells before saving the notebook. Save the notebook file as \"dlnd_face_generation.ipynb\" and save it as a HTML file under \"File\" -> \"Download as\". Include the \"problem_unittests.py\" files in your submission."
      ]
    }
  ]
}