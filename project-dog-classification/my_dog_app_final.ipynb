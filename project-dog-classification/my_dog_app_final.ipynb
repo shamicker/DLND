{
 "cells": [
  {
   "cell_type": "code",
   "execution_count": 1,
   "metadata": {
    "colab": {},
    "colab_type": "code",
    "id": "UGKxVls4-s2K"
   },
   "outputs": [
    {
     "name": "stdout",
     "output_type": "stream",
     "text": [
      "unzip:  cannot find or open dogImages.zip, dogImages.zip.zip or dogImages.zip.ZIP.\n",
      "mv: cannot stat 'dogImages': No such file or directory\n",
      "rm: cannot remove 'dogImages.zip': No such file or directory\n",
      "unzip:  cannot find or open lfw.zip, lfw.zip.zip or lfw.zip.ZIP.\n",
      "mv: cannot stat 'lfw': No such file or directory\n",
      "rm: cannot remove 'lfw.zip': No such file or directory\n",
      "/home/ubuntu\n"
     ]
    }
   ],
   "source": [
    "## This is the Dog Classification Project\n",
    "folder = \"DOGS\"\n",
    "\n",
    "# test if your_file does not (!) exist (-e), and import if true\n",
    "!test ! -e deep-learning-v2-pytorch && git clone https://github.com/udacity/deep-learning-v2-pytorch.git\n",
    "    \n",
    "# create asset folder\n",
    "!test ! -e {folder} && mkdir {folder}\n",
    "\n",
    "# since we can't cd to the folder, move the folder to us (we're at /content)\n",
    "!test ! -e {folder}/haarcascades/ && mv deep-learning-v2-pytorch/project-dog-classification/* {folder}/;\n",
    "!test ! -e images && mv {folder}/images images/;\n",
    "\n",
    "# get dog dataset\n",
    "!test ! -e {folder}/dogImages && wget -c https://s3-us-west-1.amazonaws.com/udacity-aind/dog-project/dogImages.zip;\n",
    "!unzip -qq dogImages.zip;\n",
    "!mv dogImages {folder}/dogImages || true;\n",
    "!rm dogImages.zip;\n",
    "\n",
    "# get human dataset\n",
    "!test ! -e {folder}/lfw && wget -c https://s3-us-west-1.amazonaws.com/udacity-aind/dog-project/lfw.zip;\n",
    "!unzip -qq lfw.zip;\n",
    "!mv lfw {folder}/lfw;\n",
    "!rm lfw.zip;\n",
    "\n",
    "# import torchsummary\n",
    "# !git clone https://github.com/sksq96/pytorch-summary\n",
    "\n",
    "# remove this folder or it'll ask us each time if we want to save duplicates!\n",
    "!test -e __MACOSX && rm -r __MACOSX*;\n",
    "\n",
    "!pwd"
   ]
  },
  {
   "cell_type": "markdown",
   "metadata": {
    "colab_type": "text",
    "id": "GGoXCMwN-XJe",
    "slideshow": {
     "slide_type": "-"
    }
   },
   "source": [
    "# Convolutional Neural Networks\n",
    "\n",
    "## Project: Write an Algorithm for a Dog Identification App \n",
    "\n",
    "---\n",
    "\n",
    "In this notebook, some template code has already been provided for you, and you will need to implement additional functionality to successfully complete this project. You will not need to modify the included code beyond what is requested. Sections that begin with **'(IMPLEMENTATION)'** in the header indicate that the following block of code will require additional functionality which you must provide. Instructions will be provided for each section, and the specifics of the implementation are marked in the code block with a 'TODO' statement. Please be sure to read the instructions carefully! \n",
    "\n",
    "> **Note**: Once you have completed all of the code implementations, you need to finalize your work by exporting the Jupyter Notebook as an HTML document. Before exporting the notebook to html, all of the code cells need to have been run so that reviewers can see the final implementation and output. You can then export the notebook by using the menu above and navigating to **File -> Download as -> HTML (.html)**. Include the finished document along with this notebook as your submission.\n",
    "\n",
    "In addition to implementing code, there will be questions that you must answer which relate to the project and your implementation. Each section where you will answer a question is preceded by a **'Question X'** header. Carefully read each question and provide thorough answers in the following text boxes that begin with **'Answer:'**. Your project submission will be evaluated based on your answers to each of the questions and the implementation you provide.\n",
    "\n",
    ">**Note:** Code and Markdown cells can be executed using the **Shift + Enter** keyboard shortcut.  Markdown cells can be edited by double-clicking the cell to enter edit mode.\n",
    "\n",
    "The rubric contains _optional_ \"Stand Out Suggestions\" for enhancing the project beyond the minimum requirements. If you decide to pursue the \"Stand Out Suggestions\", you should include the code in this Jupyter notebook.\n",
    "\n",
    "\n",
    "\n",
    "---\n",
    "### Why We're Here \n",
    "\n",
    "In this notebook, you will make the first steps towards developing an algorithm that could be used as part of a mobile or web app.  At the end of this project, your code will accept any user-supplied image as input.  If a dog is detected in the image, it will provide an estimate of the dog's breed.  If a human is detected, it will provide an estimate of the dog breed that is most resembling.  The image below displays potential sample output of your finished project (... but we expect that each student's algorithm will behave differently!). \n",
    "\n",
    "![Sample Dog Output](images/sample_dog_output.png)\n",
    "\n",
    "In this real-world setting, you will need to piece together a series of models to perform different tasks; for instance, the algorithm that detects humans in an image will be different from the CNN that infers dog breed.  There are many points of possible failure, and no perfect algorithm exists.  Your imperfect solution will nonetheless create a fun user experience!\n",
    "\n",
    "### The Road Ahead\n",
    "\n",
    "We break the notebook into separate steps.  Feel free to use the links below to navigate the notebook.\n",
    "\n",
    "* [Step 0](#step0): Import Datasets\n",
    "* [Step 1](#step1): Detect Humans\n",
    "* [Step 2](#step2): Detect Dogs\n",
    "* [Step 3](#step3): Create a CNN to Classify Dog Breeds (from Scratch)\n",
    "* [Step 4](#step4): Create a CNN to Classify Dog Breeds (using Transfer Learning)\n",
    "* [Step 5](#step5): Write your Algorithm\n",
    "* [Step 6](#step6): Test Your Algorithm\n",
    "\n",
    "---\n",
    "<a id='step0'></a>\n",
    "## Step 0: Import Datasets\n",
    "\n",
    "Make sure that you've downloaded the required human and dog datasets:\n",
    "* Download the [dog dataset](https://s3-us-west-1.amazonaws.com/udacity-aind/dog-project/dogImages.zip).  Unzip the folder and place it in this project's home directory, at the location `/dogImages`. \n",
    "\n",
    "* Download the [human dataset](https://s3-us-west-1.amazonaws.com/udacity-aind/dog-project/lfw.zip).  Unzip the folder and place it in the home diretcory, at location `/lfw`.  \n",
    "\n",
    "*Note: If you are using a Windows machine, you are encouraged to use [7zip](http://www.7-zip.org/) to extract the folder.*\n",
    "\n",
    "In the code cell below, we save the file paths for both the human (LFW) dataset and dog dataset in the numpy arrays `human_files` and `dog_files`."
   ]
  },
  {
   "cell_type": "code",
   "execution_count": 2,
   "metadata": {
    "colab": {
     "base_uri": "https://localhost:8080/",
     "height": 54
    },
    "colab_type": "code",
    "id": "i9STSd8M-XJg",
    "outputId": "1620b8fc-fd5e-4252-bdf4-d67c376291c8"
   },
   "outputs": [
    {
     "name": "stdout",
     "output_type": "stream",
     "text": [
      "There are 13233 total human images.\n",
      "There are 8351 total dog images.\n"
     ]
    }
   ],
   "source": [
    "import numpy as np\n",
    "from glob import glob\n",
    "\n",
    "# load filenames for human and dog images\n",
    "human_files = np.array(glob(\"DOGS/lfw/*/*\"))\n",
    "dog_files = np.array(glob(\"DOGS/dogImages/*/*/*\"))\n",
    "\n",
    "# print number of images in each dataset\n",
    "print('There are %d total human images.' % len(human_files))\n",
    "print('There are %d total dog images.' % len(dog_files))"
   ]
  },
  {
   "cell_type": "code",
   "execution_count": 3,
   "metadata": {
    "colab": {
     "base_uri": "https://localhost:8080/",
     "height": 54
    },
    "colab_type": "code",
    "id": "D8YRydew-XJm",
    "outputId": "abd7a683-1f9b-41ce-d4d4-360a831cac66"
   },
   "outputs": [
    {
     "name": "stdout",
     "output_type": "stream",
     "text": [
      "DOGS/lfw/Dominic_Monaghan/Dominic_Monaghan_0001.jpg\n",
      "DOGS/dogImages/valid/130.Welsh_springer_spaniel/Welsh_springer_spaniel_08240.jpg\n"
     ]
    }
   ],
   "source": [
    "print(human_files[0])\n",
    "print(dog_files[0])"
   ]
  },
  {
   "cell_type": "markdown",
   "metadata": {
    "colab_type": "text",
    "id": "XCW8X0pW-XJp"
   },
   "source": [
    "<a id='step1'></a>\n",
    "## Step 1: Detect Humans\n",
    "\n",
    "In this section, we use OpenCV's implementation of [Haar feature-based cascade classifiers](http://docs.opencv.org/trunk/d7/d8b/tutorial_py_face_detection.html) to detect human faces in images.  \n",
    "\n",
    "OpenCV provides many pre-trained face detectors, stored as XML files on [github](https://github.com/opencv/opencv/tree/master/data/haarcascades).  We have downloaded one of these detectors and stored it in the `haarcascades` directory.  In the next code cell, we demonstrate how to use this detector to find human faces in a sample image."
   ]
  },
  {
   "cell_type": "code",
   "execution_count": 4,
   "metadata": {
    "colab": {},
    "colab_type": "code",
    "id": "hzIwhaaTDORa"
   },
   "outputs": [],
   "source": [
    "#import time\n",
    "#time.asctime()"
   ]
  },
  {
   "cell_type": "code",
   "execution_count": 5,
   "metadata": {
    "colab": {
     "base_uri": "https://localhost:8080/",
     "height": 287
    },
    "colab_type": "code",
    "id": "Gjo_ilCb-XJq",
    "outputId": "7c43c394-8a5f-4580-ddfa-eee597435d21"
   },
   "outputs": [
    {
     "name": "stdout",
     "output_type": "stream",
     "text": [
      "Number of faces detected: 1\n"
     ]
    },
    {
     "data": {
      "image/png": "[encoded data removed]",
      "text/plain": [
       "<Figure size 432x288 with 1 Axes>"
      ]
     },
     "metadata": {},
     "output_type": "display_data"
    }
   ],
   "source": [
    "import cv2\n",
    "import matplotlib.pyplot as plt                        \n",
    "%matplotlib inline\n",
    "\n",
    "# extract pre-trained face detector\n",
    "face_cascade = cv2.CascadeClassifier('DOGS/haarcascades/haarcascade_frontalface_alt.xml')\n",
    "\n",
    "# load color (BGR) image\n",
    "img = cv2.imread(human_files[0])\n",
    "# img = cv2.imread(dog_files[1])\n",
    "\n",
    "# convert BGR image to grayscale\n",
    "gray = cv2.cvtColor(img, cv2.COLOR_BGR2GRAY)\n",
    "\n",
    "# find faces in image\n",
    "faces = face_cascade.detectMultiScale(gray)\n",
    "\n",
    "# print number of faces detected in the image\n",
    "print('Number of faces detected:', len(faces))\n",
    "\n",
    "# get bounding box for each detected face\n",
    "for (x,y,w,h) in faces:\n",
    "    # add bounding box to color image\n",
    "    cv2.rectangle(img,(x,y),(x+w,y+h),(255,0,0),2)\n",
    "    \n",
    "# convert BGR image to RGB for plotting\n",
    "cv_rgb = cv2.cvtColor(img, cv2.COLOR_BGR2RGB)\n",
    "\n",
    "# display the image, along with bounding box\n",
    "plt.imshow(cv_rgb)\n",
    "plt.axis('off') # remove gridlines\n",
    "plt.show()"
   ]
  },
  {
   "cell_type": "code",
   "execution_count": 6,
   "metadata": {
    "colab": {
     "base_uri": "https://localhost:8080/",
     "height": 35
    },
    "colab_type": "code",
    "id": "YK48osCh-XJt",
    "outputId": "0486a089-8a33-4957-d455-b8ec9d63a90d"
   },
   "outputs": [
    {
     "data": {
      "text/plain": [
       "array([[ 73,  72, 106, 106]], dtype=int32)"
      ]
     },
     "execution_count": 6,
     "metadata": {},
     "output_type": "execute_result"
    }
   ],
   "source": [
    "faces"
   ]
  },
  {
   "cell_type": "markdown",
   "metadata": {
    "colab_type": "text",
    "id": "jM6A79j9-XJw"
   },
   "source": [
    "Before using any of the face detectors, it is standard procedure to convert the images to grayscale.  The `detectMultiScale` function executes the classifier stored in `face_cascade` and takes the grayscale image as a parameter.  \n",
    "\n",
    "In the above code, `faces` is a numpy array of detected faces, where each row corresponds to a detected face.  Each detected face is a 1D array with four entries that specifies the bounding box of the detected face.  The first two entries in the array (extracted in the above code as `x` and `y`) specify the horizontal and vertical positions of the top left corner of the bounding box.  The last two entries in the array (extracted here as `w` and `h`) specify the width and height of the box.\n",
    "\n",
    "### Write a Human Face Detector\n",
    "\n",
    "We can use this procedure to write a function that returns `True` if a human face is detected in an image and `False` otherwise.  This function, aptly named `face_detector`, takes a string-valued file path to an image as input and appears in the code block below."
   ]
  },
  {
   "cell_type": "code",
   "execution_count": 7,
   "metadata": {
    "colab": {},
    "colab_type": "code",
    "id": "Nwv8Ch_a-XJx"
   },
   "outputs": [],
   "source": [
    "# returns \"True\" if face is detected in image stored at img_path\n",
    "def face_detector(img_path):\n",
    "    img = cv2.imread(img_path)\n",
    "    gray = cv2.cvtColor(img, cv2.COLOR_BGR2GRAY)\n",
    "    faces = face_cascade.detectMultiScale(gray)\n",
    "    return len(faces) > 0"
   ]
  },
  {
   "cell_type": "markdown",
   "metadata": {
    "colab_type": "text",
    "id": "DeOlM4Eq-XJ3"
   },
   "source": [
    "### (IMPLEMENTATION) Assess the Human Face Detector\n",
    "\n",
    "__Question 1:__ Use the code cell below to test the performance of the `face_detector` function.  \n",
    "- What percentage of the first 100 images in `human_files` have a detected human face?  \n",
    "- What percentage of the first 100 images in `dog_files` have a detected human face? \n",
    "\n",
    "Ideally, we would like 100% of human images with a detected face and 0% of dog images with a detected face.  You will see that our algorithm falls short of this goal, but still gives acceptable performance.  We extract the file paths for the first 100 images from each of the datasets and store them in the numpy arrays `human_files_short` and `dog_files_short`."
   ]
  },
  {
   "cell_type": "markdown",
   "metadata": {
    "colab_type": "text",
    "id": "uJkJrBAj-XJ4"
   },
   "source": [
    "__Answer:__ \n",
    "(You can print out your results and/or write your percentages in this cell)"
   ]
  },
  {
   "cell_type": "code",
   "execution_count": 8,
   "metadata": {
    "colab": {
     "base_uri": "https://localhost:8080/",
     "height": 54
    },
    "colab_type": "code",
    "id": "7v4JkvxZ-XJ6",
    "outputId": "b79606d4-5d14-48d9-9ac3-d3e27261c813"
   },
   "outputs": [
    {
     "name": "stdout",
     "output_type": "stream",
     "text": [
      "100% human faces found.\n",
      "9% human faces found.\n"
     ]
    }
   ],
   "source": [
    "from tqdm import tqdm\n",
    "\n",
    "human_files_short = human_files[:100]\n",
    "dog_files_short = dog_files[:100]\n",
    "\n",
    "#-#-# Do NOT modify the code above this line. #-#-#\n",
    "\n",
    "## TODO: Test the performance of the face_detector algorithm \n",
    "## on the images in human_files_short and dog_files_short.\n",
    "# def percentage_faces(face_file):\n",
    "#     num_faces = 0\n",
    "#     for face in face_file:\n",
    "#         if face_detector(face) == True:\n",
    "#             num_faces += 1\n",
    "#     return num_faces * 100 / len(face_file)\n",
    "\n",
    "# Better and more effective, faster implementation!\n",
    "# Use python packages!\n",
    "# as per @andreiliphd's webinar https://www.youtube.com/watch?v=K165trYeqQo&feature=youtu.be\n",
    "def percentage_faces(file_list):\n",
    "    return '{:.0%} human faces found.'.format( sum(map(face_detector, file_list)) / len(file_list))\n",
    "\n",
    "print(percentage_faces(human_files_short))\n",
    "print(percentage_faces(dog_files_short))"
   ]
  },
  {
   "cell_type": "markdown",
   "metadata": {
    "colab_type": "text",
    "id": "pAgD2jik-XKB"
   },
   "source": [
    "We suggest the face detector from OpenCV as a potential way to detect human images in your algorithm, but you are free to explore other approaches, especially approaches that make use of deep learning :).  Please use the code cell below to design and test your own face detection algorithm.  If you decide to pursue this _optional_ task, report performance on `human_files_short` and `dog_files_short`."
   ]
  },
  {
   "cell_type": "code",
   "execution_count": 9,
   "metadata": {
    "colab": {},
    "colab_type": "code",
    "id": "5lVRpR3s-XKD"
   },
   "outputs": [],
   "source": [
    "### (Optional) \n",
    "### TODO: Test performance of anotherface detection algorithm.\n",
    "### Feel free to use as many code cells as needed."
   ]
  },
  {
   "cell_type": "markdown",
   "metadata": {
    "colab_type": "text",
    "id": "stTA3Jlm-XKH"
   },
   "source": [
    "---\n",
    "<a id='step2'></a>\n",
    "## Step 2: Detect Dogs\n",
    "\n",
    "In this section, we use a [pre-trained model](http://pytorch.org/docs/master/torchvision/models.html) to detect dogs in images.  \n",
    "\n",
    "### Obtain Pre-trained VGG-16 Model\n",
    "\n",
    "The code cell below downloads the VGG-16 model, along with weights that have been trained on [ImageNet](http://www.image-net.org/), a very large, very popular dataset used for image classification and other vision tasks.  ImageNet contains over 10 million URLs, each linking to an image containing an object from one of [1000 categories](https://gist.github.com/yrevar/942d3a0ac09ec9e5eb3a).  "
   ]
  },
  {
   "cell_type": "code",
   "execution_count": 10,
   "metadata": {
    "colab": {
     "base_uri": "https://localhost:8080/",
     "height": 72
    },
    "colab_type": "code",
    "id": "tpdMstu5-XKI",
    "outputId": "f172b136-07d5-415c-bf88-582f4e8bee72"
   },
   "outputs": [
    {
     "name": "stdout",
     "output_type": "stream",
     "text": [
      "True\n"
     ]
    }
   ],
   "source": [
    "import torch\n",
    "import torchvision.models as models\n",
    "\n",
    "# define VGG16 model\n",
    "VGG16 = models.vgg16(pretrained=True)\n",
    "\n",
    "# check if CUDA is available\n",
    "use_cuda = torch.cuda.is_available()\n",
    "\n",
    "# move model to GPU if CUDA is available\n",
    "if use_cuda:\n",
    "    VGG16 = VGG16.cuda()\n",
    "    \n",
    "print(use_cuda)"
   ]
  },
  {
   "cell_type": "markdown",
   "metadata": {
    "colab_type": "text",
    "id": "UKK4yjpq-XKP"
   },
   "source": [
    "Given an image, this pre-trained VGG-16 model returns a prediction (derived from the 1000 possible categories in ImageNet) for the object that is contained in the image."
   ]
  },
  {
   "cell_type": "markdown",
   "metadata": {
    "colab_type": "text",
    "id": "UidqX1e8-XKR"
   },
   "source": [
    "### (IMPLEMENTATION) Making Predictions with a Pre-trained Model\n",
    "\n",
    "In the next code cell, you will write a function that accepts a path to an image (such as `'dogImages/train/001.Affenpinscher/Affenpinscher_00001.jpg'`) as input and returns the index corresponding to the ImageNet class that is predicted by the pre-trained VGG-16 model.  The output should always be an integer between 0 and 999, inclusive.\n",
    "\n",
    "Before writing the function, make sure that you take the time to learn  how to appropriately pre-process tensors for pre-trained models in the [PyTorch documentation](http://pytorch.org/docs/stable/torchvision/models.html)."
   ]
  },
  {
   "cell_type": "code",
   "execution_count": 11,
   "metadata": {
    "colab": {},
    "colab_type": "code",
    "id": "AaDYwy9Z-XKT"
   },
   "outputs": [],
   "source": [
    "from PIL import Image, ImageFile\n",
    "ImageFile.LOAD_TRUNCATED_IMAGES = True\n",
    "import torchvision.transforms as transforms\n",
    "\n",
    "def VGG16_predict(img_path):\n",
    "    '''\n",
    "    Use pre-trained VGG-16 model to obtain index corresponding to \n",
    "    predicted ImageNet class for image at specified path\n",
    "    \n",
    "    Args:\n",
    "        img_path: path to an image\n",
    "        \n",
    "    Returns:\n",
    "        Index corresponding to VGG-16 model's prediction\n",
    "    '''\n",
    "    \n",
    "    ## TODO: Complete the function.\n",
    "    ## Load and pre-process an image from the given img_path\n",
    "    ## Return the *index* of the predicted class for that image\n",
    "    \n",
    "    # define image pre-processing\n",
    "    t = transforms.Compose([\n",
    "        transforms.CenterCrop(224),\n",
    "        transforms.ToTensor(),\n",
    "        transforms.Normalize(mean=[0.485, 0.456, 0.406],\n",
    "                             std=[0.229, 0.224, 0.225])\n",
    "    ])\n",
    "    \n",
    "    # load image\n",
    "    img = Image.open(img_path).convert('RGB')\n",
    "    img = t(img)\n",
    "    \n",
    "    if torch.cuda.is_available():\n",
    "        img = img.to('cuda')\n",
    "    \n",
    "    # run image through `VGG16` model\n",
    "    outputs = VGG16(img.view(1, *img.shape))\n",
    "\n",
    "    # .item() pulls the number out as an integer!\n",
    "    return torch.argmax(outputs).item() # predicted class index"
   ]
  },
  {
   "cell_type": "code",
   "execution_count": 12,
   "metadata": {
    "colab": {
     "base_uri": "https://localhost:8080/",
     "height": 126
    },
    "colab_type": "code",
    "id": "S7iT8oVx-XKh",
    "outputId": "8a267630-e49f-45df-f5b9-d54cd240be33"
   },
   "outputs": [
    {
     "name": "stdout",
     "output_type": "stream",
     "text": [
      "mv: cannot stat '942d3a0ac09ec9e5eb3a': No such file or directory\n",
      "\n",
      "sanity check: (151, 'Chihuahua') through to: (268, 'Mexican hairless') --> so a list of 118 types of dogs.\n"
     ]
    }
   ],
   "source": [
    "# Get the class names for the indices\n",
    "import ast\n",
    "\n",
    "!test ! -e {folder}/942d3a0ac09ec9e5eb3a && git clone https://gist.github.com/942d3a0ac09ec9e5eb3a.git\n",
    "!mv 942d3a0ac09ec9e5eb3a {folder}/942d3a0ac09ec9e5eb3a\n",
    "\n",
    "with open('DOGS/942d3a0ac09ec9e5eb3a/imagenet1000_clsidx_to_labels.txt', 'r') as f:\n",
    "    # As seen in the next section, we only need indices 151-268 inclusive (they're the dog portion)\n",
    "    dog_names = {x: y for x,y in ast.literal_eval(f.read()).items() if x > 150 and x < 269}\n",
    "\n",
    "print('\\nsanity check:', min(dog_names.items()), 'through to:', max(dog_names.items()), '--> so a list of', len(dog_names), 'types of dogs.' )"
   ]
  },
  {
   "cell_type": "code",
   "execution_count": 13,
   "metadata": {
    "colab": {
     "base_uri": "https://localhost:8080/",
     "height": 72
    },
    "colab_type": "code",
    "id": "wj5e6u9X-XKs",
    "outputId": "3e6ccd37-9446-4446-b057-5fb1cecd2150"
   },
   "outputs": [
    {
     "name": "stdout",
     "output_type": "stream",
     "text": [
      "DOGS/dogImages/valid/130.Welsh_springer_spaniel/Welsh_springer_spaniel_08240.jpg\n",
      "218\n",
      "Welsh springer spaniel\n"
     ]
    }
   ],
   "source": [
    "guess = VGG16_predict(dog_files[0])\n",
    "print(dog_files[0])\n",
    "print(guess)\n",
    "print(dog_names[guess])"
   ]
  },
  {
   "cell_type": "markdown",
   "metadata": {
    "colab_type": "text",
    "id": "9mms5ohh-XLY"
   },
   "source": [
    "### (IMPLEMENTATION) Write a Dog Detector\n",
    "\n",
    "While looking at the [dictionary](https://gist.github.com/yrevar/942d3a0ac09ec9e5eb3a), you will notice that the categories corresponding to dogs appear in an uninterrupted sequence and correspond to dictionary keys 151-268, inclusive, to include all categories from `'Chihuahua'` to `'Mexican hairless'`.  Thus, in order to check to see if an image is predicted to contain a dog by the pre-trained VGG-16 model, we need only check if the pre-trained model predicts an index between 151 and 268 (inclusive).\n",
    "\n",
    "Use these ideas to complete the `dog_detector` function below, which returns `True` if a dog is detected in an image (and `False` if not)."
   ]
  },
  {
   "cell_type": "code",
   "execution_count": 15,
   "metadata": {
    "colab": {},
    "colab_type": "code",
    "id": "1QSYTOX7-XLa"
   },
   "outputs": [],
   "source": [
    "### returns \"True\" if a dog is detected in the image stored at img_path\n",
    "# def dog_detector(img_path):\n",
    "#     ## TODO: Complete the function.\n",
    "#     ind = VGG16_predict(img_path)\n",
    "#     if ind in dog_names:\n",
    "#         return True\n",
    "#     return False # true/false\n",
    "\n",
    "def dog_detector(img_path):\n",
    "    return VGG16_predict(img_path) in dog_names"
   ]
  },
  {
   "cell_type": "code",
   "execution_count": 16,
   "metadata": {
    "colab": {
     "base_uri": "https://localhost:8080/",
     "height": 35
    },
    "colab_type": "code",
    "id": "2pbbGdGh-XLj",
    "outputId": "e37f477b-e521-4eab-d8b9-d113a2ba8438"
   },
   "outputs": [
    {
     "name": "stdout",
     "output_type": "stream",
     "text": [
      "True False\n"
     ]
    }
   ],
   "source": [
    "dog = dog_detector(dog_files[0])\n",
    "aaron = dog_detector(human_files[0])\n",
    "\n",
    "print(dog, aaron)"
   ]
  },
  {
   "cell_type": "markdown",
   "metadata": {
    "colab_type": "text",
    "id": "GyKQyPLo-XLx"
   },
   "source": [
    "### (IMPLEMENTATION) Assess the Dog Detector\n",
    "\n",
    "__Question 2:__ Use the code cell below to test the performance of your `dog_detector` function.  \n",
    "- What percentage of the images in `human_files_short` have a detected dog?  \n",
    "- What percentage of the images in `dog_files_short` have a detected dog?"
   ]
  },
  {
   "cell_type": "markdown",
   "metadata": {
    "colab_type": "text",
    "id": "FOPiOa6f-XLz"
   },
   "source": [
    "__Answer:__ \n",
    "shown below (printed out)"
   ]
  },
  {
   "cell_type": "code",
   "execution_count": 17,
   "metadata": {
    "colab": {
     "base_uri": "https://localhost:8080/",
     "height": 54
    },
    "colab_type": "code",
    "id": "Bhz2lV5R-XL1",
    "outputId": "4e614ac6-24dc-4388-872a-6a7256809b18"
   },
   "outputs": [
    {
     "name": "stdout",
     "output_type": "stream",
     "text": [
      "0% dogs detected.\n",
      "96% dogs detected.\n"
     ]
    }
   ],
   "source": [
    "### TODO: Test the performance of the dog_detector function\n",
    "### on the images in human_files_short and dog_files_short.\n",
    "# def percentage_dogs(file_list):\n",
    "#     count = 0\n",
    "#     for img in file_list:\n",
    "#         if dog_detector(img):\n",
    "#             count += 1\n",
    "#     return count * 100 / len(file_list)\n",
    "\n",
    "def percentage_dogs(file_list):\n",
    "    return '{:.0%} dogs detected.'.format( sum(map(dog_detector, file_list)) / len(file_list))\n",
    "\n",
    "print(percentage_dogs(human_files_short))\n",
    "print(percentage_dogs(dog_files_short))"
   ]
  },
  {
   "cell_type": "markdown",
   "metadata": {
    "colab_type": "text",
    "id": "fj1Qx_JM-XMC"
   },
   "source": [
    "We suggest VGG-16 as a potential network to detect dog images in your algorithm, but you are free to explore other pre-trained networks (such as [Inception-v3](http://pytorch.org/docs/master/torchvision/models.html#inception-v3), [ResNet-50](http://pytorch.org/docs/master/torchvision/models.html#id3), etc).  Please use the code cell below to test other pre-trained PyTorch models.  If you decide to pursue this _optional_ task, report performance on `human_files_short` and `dog_files_short`."
   ]
  },
  {
   "cell_type": "code",
   "execution_count": 18,
   "metadata": {
    "colab": {},
    "colab_type": "code",
    "id": "_NXbsD0H-XME"
   },
   "outputs": [],
   "source": [
    "### (Optional) \n",
    "### TODO: Report the performance of another pre-trained network.\n",
    "### Feel free to use as many code cells as needed."
   ]
  },
  {
   "cell_type": "markdown",
   "metadata": {
    "colab_type": "text",
    "id": "Wjxok8MI-XMJ"
   },
   "source": [
    "---\n",
    "<a id='step3'></a>\n",
    "## Step 3: Create a CNN to Classify Dog Breeds (from Scratch)\n",
    "\n",
    "Now that we have functions for detecting humans and dogs in images, we need a way to predict breed from images.  In this step, you will create a CNN that classifies dog breeds.  You must create your CNN _from scratch_ (so, you can't use transfer learning _yet_!), and you must attain a test accuracy of at least 10%.  In Step 4 of this notebook, you will have the opportunity to use transfer learning to create a CNN that attains greatly improved accuracy.\n",
    "\n",
    "We mention that the task of assigning breed to dogs from images is considered exceptionally challenging.  To see why, consider that *even a human* would have trouble distinguishing between a Brittany and a Welsh Springer Spaniel.  \n",
    "\n",
    "Brittany | Welsh Springer Spaniel\n",
    "- | - \n",
    "<img src=\"images/Brittany_02625.jpg\" width=\"100\"> | <img src=\"images/Welsh_springer_spaniel_08203.jpg\" width=\"200\">\n",
    "\n",
    "It is not difficult to find other dog breed pairs with minimal inter-class variation (for instance, Curly-Coated Retrievers and American Water Spaniels).  \n",
    "\n",
    "Curly-Coated Retriever | American Water Spaniel\n",
    "- | -\n",
    "<img src=\"images/Curly-coated_retriever_03896.jpg\" width=\"200\"> | <img src=\"images/American_water_spaniel_00648.jpg\" width=\"200\">\n",
    "\n",
    "\n",
    "Likewise, recall that labradors come in yellow, chocolate, and black.  Your vision-based algorithm will have to conquer this high intra-class variation to determine how to classify all of these different shades as the same breed.  \n",
    "\n",
    "Yellow Labrador | Chocolate Labrador | Black Labrador\n",
    "- | -\n",
    "<img src=\"images/Labrador_retriever_06457.jpg\" width=\"150\"> | <img src=\"images/Labrador_retriever_06455.jpg\" width=\"240\"> | <img src=\"images/Labrador_retriever_06449.jpg\" width=\"220\">\n",
    "\n",
    "We also mention that random chance presents an exceptionally low bar: setting aside the fact that the classes are slightly imabalanced, a random guess will provide a correct answer roughly 1 in 133 times, which corresponds to an accuracy of less than 1%.  \n",
    "\n",
    "Remember that the practice is far ahead of the theory in deep learning.  Experiment with many different architectures, and trust your intuition.  And, of course, have fun!\n",
    "\n",
    "### (IMPLEMENTATION) Specify Data Loaders for the Dog Dataset\n",
    "\n",
    "Use the code cell below to write three separate [data loaders](http://pytorch.org/docs/stable/data.html#torch.utils.data.DataLoader) for the training, validation, and test datasets of dog images (located at `dogImages/train`, `dogImages/valid`, and `dogImages/test`, respectively).  You may find [this documentation on custom datasets](http://pytorch.org/docs/stable/torchvision/datasets.html) to be a useful resource.  If you are interested in augmenting your training and/or validation data, check out the wide variety of [transforms](http://pytorch.org/docs/stable/torchvision/transforms.html?highlight=transform)!"
   ]
  },
  {
   "cell_type": "code",
   "execution_count": 19,
   "metadata": {
    "colab": {
     "base_uri": "https://localhost:8080/",
     "height": 35
    },
    "colab_type": "code",
    "id": "uieyQzXSlULE",
    "outputId": "ab147fa4-7d01-494e-e58e-15a4cc057a2b"
   },
   "outputs": [],
   "source": [
    "# from google.colab import drive\n",
    "# drive.mount('/content/gdrive')"
   ]
  },
  {
   "cell_type": "code",
   "execution_count": 20,
   "metadata": {
    "colab": {
     "base_uri": "https://localhost:8080/",
     "height": 72
    },
    "colab_type": "code",
    "id": "_yihF-IM6nc4",
    "outputId": "164549e6-6761-4095-9f3f-7c8081f2b725"
   },
   "outputs": [
    {
     "name": "stdout",
     "output_type": "stream",
     "text": [
      "['DOGS/dogImages/valid/' 'DOGS/dogImages/test/' 'DOGS/dogImages/train/']\n"
     ]
    }
   ],
   "source": [
    "# These are the number of breeds! Got it.\n",
    "import numpy as np\n",
    "from glob import glob\n",
    "\n",
    "dog_folders = np.array(glob(\"DOGS/dogImages/*/\"))\n",
    "\n",
    "dog_train = np.array(glob(dog_folders[2] + \"/*\"))\n",
    "print(dog_folders)"
   ]
  },
  {
   "cell_type": "code",
   "execution_count": 65,
   "metadata": {
    "colab": {},
    "colab_type": "code",
    "id": "y11cXe3--XML"
   },
   "outputs": [
    {
     "name": "stdout",
     "output_type": "stream",
     "text": [
      "3\n"
     ]
    }
   ],
   "source": [
    "import os\n",
    "from PIL import ImageFile\n",
    "ImageFile.LOAD_TRUNCATED_IMAGES = True\n",
    "import Cython\n",
    "from torchvision import datasets, models, transforms\n",
    "import torch\n",
    "# torch, models, transforms already imported\n",
    "\n",
    "\n",
    "### TODO: Write data loaders for training, validation, and test sets\n",
    "## Specify appropriate transforms, and batch_sizes\n",
    "\n",
    "# pre-trained layers\n",
    "# mean=[0.485, 0.456, 0.406]\n",
    "# std=[0.229, 0.224, 0.225]\n",
    "# for my model\n",
    "mean = [0.5, 0.5, 0.5]\n",
    "std = [0.5, 0.5, 0.5]\n",
    "\n",
    "# defined transforms\n",
    "transform_train = transforms.Compose([\n",
    "    transforms.RandomRotation(30),\n",
    "    transforms.RandomVerticalFlip(),\n",
    "    transforms.RandomHorizontalFlip(),\n",
    "    transforms.RandomResizedCrop(224),\n",
    "    transforms.ToTensor(),\n",
    "    transforms.Normalize(mean, std)\n",
    "])\n",
    "transform_valid = transforms.Compose([\n",
    "    transforms.Resize(256),\n",
    "    transforms.CenterCrop(224),\n",
    "    transforms.ToTensor(),\n",
    "    transforms.Normalize(mean, std)\n",
    "])\n",
    "transform_test = transforms.Compose([\n",
    "    transforms.Resize(256),\n",
    "    transforms.CenterCrop(224),\n",
    "    transforms.ToTensor(),\n",
    "    transforms.Normalize(mean, std)\n",
    "])\n",
    "\n",
    "batch_size = 64\n",
    "\n",
    "# define the data, specifying transforms\n",
    "dog_data = {}\n",
    "dog_data['train'] = datasets.ImageFolder(dog_folders[2], transform=transform_train)\n",
    "dog_data['valid'] = datasets.ImageFolder(dog_folders[0], transform=transform_valid)\n",
    "dog_data['test'] = datasets.ImageFolder(dog_folders[1], transform=transform_test)\n",
    "\n",
    "\n",
    "# load data\n",
    "loaders_scratch = {\n",
    "    'train': torch.utils.data.DataLoader(dog_data['train'], batch_size=batch_size, shuffle=True, drop_last=True),\n",
    "    'valid': torch.utils.data.DataLoader(dog_data['valid'], batch_size=batch_size, shuffle=False, drop_last=True),\n",
    "    'test': torch.utils.data.DataLoader(dog_data['test'], batch_size=batch_size, shuffle=False, drop_last=True)}\n",
    "\n",
    "print(len(loaders_scratch))"
   ]
  },
  {
   "cell_type": "markdown",
   "metadata": {
    "colab_type": "text",
    "id": "9QMcmKUL-XMa"
   },
   "source": [
    "\n",
    "**Question 3:** Describe your chosen procedure for preprocessing the data. \n",
    "- How does your code resize the images (by cropping, stretching, etc)?  What size did you pick for the input tensor, and why?\n",
    "- Did you decide to augment the dataset?  If so, how (through translations, flips, rotations, etc)?  If not, why not?\n"
   ]
  },
  {
   "cell_type": "markdown",
   "metadata": {
    "colab_type": "text",
    "id": "sfWPQCsH-XMb"
   },
   "source": [
    "**Answer**:  \n",
    "- I resized the images to 256x256 in case some are really small or really big (ie kind of normalize the sizes), then center crop them to the appropriate size (224x224 for VGG16).  \n",
    "- To make sure I don't overcomplicate things at first, I start off with these basics: only resize, crop, and normalize.\n",
    "- Later on, I added random vertical and horizontal flips and random rotation (to 30 degrees) to increase the learning difficulty. I chose not to add greyscale since distinguishing between dog breeds depends, sometimes, on colour."
   ]
  },
  {
   "cell_type": "markdown",
   "metadata": {
    "colab_type": "text",
    "id": "KOuJKaGC-XMd"
   },
   "source": [
    "### (IMPLEMENTATION) Model Architecture\n",
    "\n",
    "Create a CNN to classify dog breed.  Use the template in the code cell below."
   ]
  },
  {
   "cell_type": "code",
   "execution_count": 22,
   "metadata": {
    "colab": {},
    "colab_type": "code",
    "id": "h6Wydm_S-XMl"
   },
   "outputs": [],
   "source": [
    "import torch\n",
    "import torch.nn as nn\n",
    "import torch.nn.functional as F\n",
    "\n",
    "# define the CNN architecture\n",
    "class Net(nn.Module):\n",
    "    ### TODO: choose an architecture, and complete the class\n",
    "    def __init__(self):\n",
    "        super(Net, self).__init__()\n",
    "        ## Define layers of a CNN\n",
    "        self.conv1 = nn.Conv2d(3, 16, 5, padding=2) # 224x224, depth=3 -> 16\n",
    "        self.conv2 = nn.Conv2d(16, 32, 3, padding=1)\n",
    "        self.conv3 = nn.Conv2d(32, 64, 3, padding=1)\n",
    "        self.pool1 = nn.MaxPool2d(2,4)\n",
    "        self.pool2 = nn.MaxPool2d(2,2)\n",
    "        self.fc1 = nn.Linear(64*7*7, 3000)\n",
    "        self.fc2 = nn.Linear(3000, 1000)\n",
    "        self.fc3 = nn.Linear(1000, len(dog_train) ) # 133 breeds\n",
    "        self.dropout = nn.Dropout(0.3)\n",
    "    \n",
    "    def forward(self, x):\n",
    "        ## Define forward behavior\n",
    "        \n",
    "        # [_, 3, 224, 224]\n",
    "        x = F.relu(self.conv1(x))\n",
    "        x = self.pool1(x) # /4\n",
    "        \n",
    "        # [_, 16, 56, 56]\n",
    "        x = F.relu(self.conv2(x))\n",
    "        x = self.pool1(x) # /4\n",
    "        \n",
    "        # [_, 32, 14, 14]\n",
    "        x = F.relu(self.conv3(x))\n",
    "        x = self.pool2(x) # /2\n",
    "        \n",
    "        # Flatten to [_, 64, 7, 7]\n",
    "        x = x.view(x.shape[0], -1)\n",
    "        \n",
    "        x = self.dropout(x)\n",
    "        x = F.relu(self.fc1(x))\n",
    "        \n",
    "        x = self.dropout(x)\n",
    "        x = F.relu(self.fc2(x))\n",
    "        \n",
    "        x = self.dropout(x)\n",
    "        x = self.fc3(x)\n",
    "        \n",
    "        return x\n",
    "\n",
    "#-#-# You so NOT have to modify the code below this line. #-#-#\n",
    "\n",
    "# instantiate the CNN\n",
    "model_scratch = Net()\n",
    "\n",
    "# move tensors to GPU if CUDA is available\n",
    "have_cuda = torch.cuda.is_available()\n",
    "if have_cuda:\n",
    "    model_scratch.cuda()"
   ]
  },
  {
   "cell_type": "code",
   "execution_count": 23,
   "metadata": {
    "colab": {
     "base_uri": "https://localhost:8080/",
     "height": 272
    },
    "colab_type": "code",
    "id": "xly695VphkGO",
    "outputId": "9240217b-b7e0-4707-c568-8f699c5c6eb7"
   },
   "outputs": [
    {
     "name": "stdout",
     "output_type": "stream",
     "text": [
      "True\n"
     ]
    },
    {
     "data": {
      "text/plain": [
       "Net(\n",
       "  (conv1): Conv2d(3, 16, kernel_size=(5, 5), stride=(1, 1), padding=(2, 2))\n",
       "  (conv2): Conv2d(16, 32, kernel_size=(3, 3), stride=(1, 1), padding=(1, 1))\n",
       "  (conv3): Conv2d(32, 64, kernel_size=(3, 3), stride=(1, 1), padding=(1, 1))\n",
       "  (pool1): MaxPool2d(kernel_size=2, stride=4, padding=0, dilation=1, ceil_mode=False)\n",
       "  (pool2): MaxPool2d(kernel_size=2, stride=2, padding=0, dilation=1, ceil_mode=False)\n",
       "  (fc1): Linear(in_features=3136, out_features=3000, bias=True)\n",
       "  (fc2): Linear(in_features=3000, out_features=1000, bias=True)\n",
       "  (fc3): Linear(in_features=1000, out_features=133, bias=True)\n",
       "  (dropout): Dropout(p=0.3)\n",
       ")"
      ]
     },
     "execution_count": 23,
     "metadata": {},
     "output_type": "execute_result"
    }
   ],
   "source": [
    "print(have_cuda)\n",
    "model_scratch"
   ]
  },
  {
   "cell_type": "markdown",
   "metadata": {
    "colab_type": "text",
    "id": "CVgdIN-k-XMt"
   },
   "source": [
    "__Question 4:__ Outline the steps you took to get to your final CNN architecture and your reasoning at each step.  "
   ]
  },
  {
   "cell_type": "markdown",
   "metadata": {
    "colab_type": "text",
    "id": "nxBaFh9h-XMw"
   },
   "source": [
    "__Answer:__ \n",
    "I first tried a fairly complicated architecture, with about 5 convolutional layers with maxpooling after each, and 5 or 6 linear layers with no dropout. I wanted the maxpooling layer after each conv layer to halve the dimensions (aiming for about 7x7), but I also wanted the depth to be 128. \n",
    "\n",
    "After a bit of struggling and andreiliphd's video's suggestion to keep it simple, I simplified it to 3 convolutional layers with maxpooling, only 3 linear layers, and changed the arguments (of the first conv and the first two maxpool layers) to still reach these. I eventually added dropout too. \n",
    "\n",
    "After lots and lots of struggling, losing motivation, implementing and un-implementing various suggestions (still wanting to keep it simple and to understand what I implemented), I finally figured out that I had the incorrect mean and standard deviation numbers for the transform normalizing. After that, it was fairly easy.\n",
    "\n",
    "I hope this is enough detail. I whittled away at this for weeks, probably changing every single possible parameter. Initially I kept track of each change, but I lost some of my versions and eventually gave up (not that anything was improving, just changing)."
   ]
  },
  {
   "cell_type": "markdown",
   "metadata": {
    "colab_type": "text",
    "id": "8vvrHg_R-XM2"
   },
   "source": [
    "### (IMPLEMENTATION) Specify Loss Function and Optimizer\n",
    "\n",
    "Use the next code cell to specify a [loss function](http://pytorch.org/docs/stable/nn.html#loss-functions) and [optimizer](http://pytorch.org/docs/stable/optim.html).  Save the chosen loss function as `criterion_scratch`, and the optimizer as `optimizer_scratch` below."
   ]
  },
  {
   "cell_type": "code",
   "execution_count": 24,
   "metadata": {
    "colab": {},
    "colab_type": "code",
    "id": "YEHmy_XN-XM4"
   },
   "outputs": [],
   "source": [
    "import torch.optim as optim\n",
    "\n",
    "### TODO: select loss function\n",
    "criterion_scratch = nn.CrossEntropyLoss()\n",
    "\n",
    "### TODO: select optimizer\n",
    "optimizer_scratch = optim.Adam(model_scratch.parameters())\n",
    "\n",
    "# If lr is too high, loss is NaN! Beware."
   ]
  },
  {
   "cell_type": "markdown",
   "metadata": {
    "colab_type": "text",
    "id": "zSPfbv7h-XM8"
   },
   "source": [
    "### (IMPLEMENTATION) Train and Validate the Model\n",
    "\n",
    "Train and validate your model in the code cell below.  [Save the final model parameters](http://pytorch.org/docs/master/notes/serialization.html) at filepath `'model_scratch.pt'`."
   ]
  },
  {
   "cell_type": "code",
   "execution_count": 25,
   "metadata": {
    "colab": {
     "base_uri": "https://localhost:8080/",
     "height": 799
    },
    "colab_type": "code",
    "id": "KN76gF14-XM9",
    "outputId": "6fe4de77-5fc5-4c1d-9019-b9a9965c4adb",
    "scrolled": false
   },
   "outputs": [],
   "source": [
    "def train(n_epochs, loaders, model, optimizer, criterion, use_cuda, save_path):\n",
    "    \"\"\"returns trained model\"\"\"\n",
    "    # initialize tracker for minimum validation loss\n",
    "    valid_loss_min = np.Inf\n",
    "    n_epochs_without_new_min_loss = 0\n",
    "    \n",
    "    for epoch in range(1, n_epochs+1):\n",
    "        # initialize variables to monitor training and validation loss\n",
    "        train_loss = 0.0\n",
    "        valid_loss = 0.0\n",
    "        \n",
    "        ###################\n",
    "        # train the model #\n",
    "        ###################\n",
    "        model.train()\n",
    "        for batch_idx, (data, target) in enumerate(loaders['train']):\n",
    "            # move to GPU\n",
    "            if use_cuda:\n",
    "                data, target = data.cuda(), target.cuda()\n",
    "\n",
    "            ## find the loss and update the model parameters accordingly\n",
    "            # zero the optimizer's gradient memory\n",
    "            optimizer.zero_grad()\n",
    "\n",
    "            # forward step\n",
    "            guessed_classes = model(data)\n",
    "            # calculate loss\n",
    "            loss = criterion(guessed_classes, target)\n",
    "            \n",
    "            # back step\n",
    "            loss.backward()\n",
    "            # optimize weights\n",
    "            optimizer.step()\n",
    "\n",
    "            ## record the average training loss, using something like \n",
    "            ## train_loss = train_loss + ((1 / (batch_idx + 1)) * (loss.data - train_loss))\n",
    "            train_loss += (1 / (batch_idx + 1)) * (loss.data - train_loss)\n",
    "#             train_loss += loss.item() * data.size(0)\n",
    "            \n",
    "        ######################    \n",
    "        # validate the model #\n",
    "        ######################\n",
    "        model.eval()\n",
    "        for batch_idx, (data, target) in enumerate(loaders['valid']):\n",
    "            # move to GPU\n",
    "            if use_cuda:\n",
    "                data, target = data.cuda(), target.cuda()\n",
    "            ## update the average validation loss\n",
    "\n",
    "            # forward step\n",
    "            guessed_classes = model(data)\n",
    "            loss = criterion(guessed_classes, target)\n",
    "            # no back steps\n",
    "\n",
    "            valid_loss += (1 / (batch_idx + 1)) * (loss.data - valid_loss)\n",
    "                \n",
    "        # print training/validation statistics \n",
    "        print('Epoch: {} \\tTraining Loss: {:.6f} \\tValidation Loss: {:.6f}'.format(\n",
    "            epoch, \n",
    "            train_loss,\n",
    "            valid_loss\n",
    "            ))\n",
    "        \n",
    "        ## TODO: save the model if validation loss has decreased\n",
    "        # count epochs without new minimum\n",
    "        if valid_loss <= valid_loss_min:\n",
    "            n_epochs_without_new_min_loss = 0 # restart count\n",
    "            torch.save(model.state_dict(), save_path)\n",
    "            # don't forget to save the new minimum!\n",
    "            valid_loss_min = valid_loss\n",
    "            print('New low achieved! New model saved at {}.'.format(save_path))\n",
    "        else:\n",
    "            n_epochs_without_new_min_loss += 1\n",
    "        \n",
    "        # stop the model if loss hasn't been achieved in  epochs\n",
    "        if n_epochs_without_new_min_loss >= 6:\n",
    "            print(\"There hasn't been any validation loss in {} epochs. Stopping the model now.\".format(n_epochs_without_new_min_loss))\n",
    "            return model\n",
    "            \n",
    "    # return trained model\n",
    "    return model"
   ]
  },
  {
   "cell_type": "code",
   "execution_count": 26,
   "metadata": {},
   "outputs": [
    {
     "name": "stdout",
     "output_type": "stream",
     "text": [
      "Epoch: 1 \tTraining Loss: 4.882272 \tValidation Loss: 4.872960\n",
      "New low achieved! New model saved at dog_model_scratch.pth.\n",
      "Epoch: 2 \tTraining Loss: 4.830311 \tValidation Loss: 4.721996\n",
      "New low achieved! New model saved at dog_model_scratch.pth.\n",
      "Epoch: 3 \tTraining Loss: 4.681838 \tValidation Loss: 4.531796\n",
      "New low achieved! New model saved at dog_model_scratch.pth.\n",
      "Epoch: 4 \tTraining Loss: 4.585427 \tValidation Loss: 4.434715\n",
      "New low achieved! New model saved at dog_model_scratch.pth.\n",
      "Epoch: 5 \tTraining Loss: 4.525882 \tValidation Loss: 4.364022\n",
      "New low achieved! New model saved at dog_model_scratch.pth.\n",
      "Epoch: 6 \tTraining Loss: 4.466084 \tValidation Loss: 4.314240\n",
      "New low achieved! New model saved at dog_model_scratch.pth.\n",
      "Epoch: 7 \tTraining Loss: 4.400634 \tValidation Loss: 4.262836\n",
      "New low achieved! New model saved at dog_model_scratch.pth.\n",
      "Epoch: 8 \tTraining Loss: 4.348143 \tValidation Loss: 4.173913\n",
      "New low achieved! New model saved at dog_model_scratch.pth.\n",
      "Epoch: 9 \tTraining Loss: 4.334436 \tValidation Loss: 4.144690\n",
      "New low achieved! New model saved at dog_model_scratch.pth.\n",
      "Epoch: 10 \tTraining Loss: 4.278350 \tValidation Loss: 4.136329\n",
      "New low achieved! New model saved at dog_model_scratch.pth.\n",
      "Epoch: 11 \tTraining Loss: 4.249088 \tValidation Loss: 4.182712\n",
      "Epoch: 12 \tTraining Loss: 4.212493 \tValidation Loss: 4.035125\n",
      "New low achieved! New model saved at dog_model_scratch.pth.\n",
      "Epoch: 13 \tTraining Loss: 4.172858 \tValidation Loss: 4.021113\n",
      "New low achieved! New model saved at dog_model_scratch.pth.\n",
      "Epoch: 14 \tTraining Loss: 4.144850 \tValidation Loss: 4.027474\n",
      "Epoch: 15 \tTraining Loss: 4.129981 \tValidation Loss: 3.981382\n",
      "New low achieved! New model saved at dog_model_scratch.pth.\n",
      "Epoch: 16 \tTraining Loss: 4.112614 \tValidation Loss: 3.971142\n",
      "New low achieved! New model saved at dog_model_scratch.pth.\n",
      "Epoch: 17 \tTraining Loss: 4.063435 \tValidation Loss: 3.936759\n",
      "New low achieved! New model saved at dog_model_scratch.pth.\n",
      "Epoch: 18 \tTraining Loss: 4.075790 \tValidation Loss: 3.921591\n",
      "New low achieved! New model saved at dog_model_scratch.pth.\n",
      "Epoch: 19 \tTraining Loss: 4.018123 \tValidation Loss: 3.894456\n",
      "New low achieved! New model saved at dog_model_scratch.pth.\n",
      "Epoch: 20 \tTraining Loss: 4.009877 \tValidation Loss: 3.900682\n",
      "Epoch: 21 \tTraining Loss: 3.985888 \tValidation Loss: 3.870018\n",
      "New low achieved! New model saved at dog_model_scratch.pth.\n",
      "Epoch: 22 \tTraining Loss: 3.963007 \tValidation Loss: 3.818213\n",
      "New low achieved! New model saved at dog_model_scratch.pth.\n",
      "Epoch: 23 \tTraining Loss: 3.929153 \tValidation Loss: 3.779400\n",
      "New low achieved! New model saved at dog_model_scratch.pth.\n",
      "Epoch: 24 \tTraining Loss: 3.910645 \tValidation Loss: 3.796910\n",
      "Epoch: 25 \tTraining Loss: 3.888498 \tValidation Loss: 3.791579\n",
      "Epoch: 26 \tTraining Loss: 3.887000 \tValidation Loss: 3.792618\n",
      "Epoch: 27 \tTraining Loss: 3.854233 \tValidation Loss: 3.746435\n",
      "New low achieved! New model saved at dog_model_scratch.pth.\n",
      "Epoch: 28 \tTraining Loss: 3.841811 \tValidation Loss: 3.746810\n",
      "Epoch: 29 \tTraining Loss: 3.823287 \tValidation Loss: 3.726403\n",
      "New low achieved! New model saved at dog_model_scratch.pth.\n",
      "Epoch: 30 \tTraining Loss: 3.801543 \tValidation Loss: 3.762551\n",
      "Epoch: 31 \tTraining Loss: 3.778347 \tValidation Loss: 3.706603\n",
      "New low achieved! New model saved at dog_model_scratch.pth.\n",
      "Epoch: 32 \tTraining Loss: 3.779778 \tValidation Loss: 3.652549\n",
      "New low achieved! New model saved at dog_model_scratch.pth.\n",
      "Epoch: 33 \tTraining Loss: 3.756080 \tValidation Loss: 3.737223\n",
      "Epoch: 34 \tTraining Loss: 3.746727 \tValidation Loss: 3.671519\n",
      "Epoch: 35 \tTraining Loss: 3.711914 \tValidation Loss: 3.657403\n",
      "Epoch: 36 \tTraining Loss: 3.726899 \tValidation Loss: 3.648886\n",
      "New low achieved! New model saved at dog_model_scratch.pth.\n",
      "Epoch: 37 \tTraining Loss: 3.717764 \tValidation Loss: 3.624797\n",
      "New low achieved! New model saved at dog_model_scratch.pth.\n",
      "Epoch: 38 \tTraining Loss: 3.682402 \tValidation Loss: 3.627897\n",
      "Epoch: 39 \tTraining Loss: 3.668569 \tValidation Loss: 3.656433\n",
      "Epoch: 40 \tTraining Loss: 3.619263 \tValidation Loss: 3.593451\n",
      "New low achieved! New model saved at dog_model_scratch.pth.\n",
      "Epoch: 41 \tTraining Loss: 3.640253 \tValidation Loss: 3.563753\n",
      "New low achieved! New model saved at dog_model_scratch.pth.\n",
      "Epoch: 42 \tTraining Loss: 3.645730 \tValidation Loss: 3.621074\n",
      "Epoch: 43 \tTraining Loss: 3.598358 \tValidation Loss: 3.579742\n",
      "Epoch: 44 \tTraining Loss: 3.590037 \tValidation Loss: 3.554243\n",
      "New low achieved! New model saved at dog_model_scratch.pth.\n",
      "Epoch: 45 \tTraining Loss: 3.599287 \tValidation Loss: 3.592026\n",
      "Epoch: 46 \tTraining Loss: 3.577726 \tValidation Loss: 3.584935\n",
      "Epoch: 47 \tTraining Loss: 3.597686 \tValidation Loss: 3.559910\n",
      "Epoch: 48 \tTraining Loss: 3.598529 \tValidation Loss: 3.594175\n",
      "Epoch: 49 \tTraining Loss: 3.549194 \tValidation Loss: 3.553970\n",
      "New low achieved! New model saved at dog_model_scratch.pth.\n",
      "Epoch: 50 \tTraining Loss: 3.552762 \tValidation Loss: 3.557663\n",
      "Epoch: 51 \tTraining Loss: 3.529883 \tValidation Loss: 3.617086\n",
      "Epoch: 52 \tTraining Loss: 3.527300 \tValidation Loss: 3.590418\n",
      "Epoch: 53 \tTraining Loss: 3.513408 \tValidation Loss: 3.552917\n",
      "New low achieved! New model saved at dog_model_scratch.pth.\n",
      "Epoch: 54 \tTraining Loss: 3.482123 \tValidation Loss: 3.538325\n",
      "New low achieved! New model saved at dog_model_scratch.pth.\n",
      "Epoch: 55 \tTraining Loss: 3.481189 \tValidation Loss: 3.576685\n",
      "Epoch: 56 \tTraining Loss: 3.525357 \tValidation Loss: 3.591778\n",
      "Epoch: 57 \tTraining Loss: 3.505816 \tValidation Loss: 3.524638\n",
      "New low achieved! New model saved at dog_model_scratch.pth.\n",
      "Epoch: 58 \tTraining Loss: 3.457718 \tValidation Loss: 3.558413\n",
      "Epoch: 59 \tTraining Loss: 3.471793 \tValidation Loss: 3.499650\n",
      "New low achieved! New model saved at dog_model_scratch.pth.\n",
      "Epoch: 60 \tTraining Loss: 3.470110 \tValidation Loss: 3.508976\n",
      "Epoch: 61 \tTraining Loss: 3.418287 \tValidation Loss: 3.507713\n",
      "Epoch: 62 \tTraining Loss: 3.433331 \tValidation Loss: 3.509985\n",
      "Epoch: 63 \tTraining Loss: 3.431209 \tValidation Loss: 3.422174\n",
      "New low achieved! New model saved at dog_model_scratch.pth.\n",
      "Epoch: 64 \tTraining Loss: 3.421511 \tValidation Loss: 3.517389\n",
      "Epoch: 65 \tTraining Loss: 3.425340 \tValidation Loss: 3.457656\n",
      "Epoch: 66 \tTraining Loss: 3.381197 \tValidation Loss: 3.525996\n",
      "Epoch: 67 \tTraining Loss: 3.384873 \tValidation Loss: 3.481896\n",
      "Epoch: 68 \tTraining Loss: 3.386753 \tValidation Loss: 3.457666\n",
      "Epoch: 69 \tTraining Loss: 3.384064 \tValidation Loss: 3.529821\n",
      "There hasn't been any validation loss in 6 epochs. Stopping the model now.\n"
     ]
    }
   ],
   "source": [
    "# name the checkpoint\n",
    "# scratch_checkpoint = 'gdrive/My Drive/PyTorch!/DLND/dog_model_scratch.pt'\n",
    "scratch_checkpoint = 'dog_model_scratch.pth'\n",
    "\n",
    "# train the model\n",
    "model_scratch = train(100, loaders_scratch, model_scratch, optimizer_scratch, \n",
    "                      criterion_scratch, torch.cuda.is_available(), scratch_checkpoint)\n",
    "\n",
    "# load the model that got the best validation accuracy\n",
    "# model_scratch.load_state_dict(torch.load(scratch_checkpoint))"
   ]
  },
  {
   "cell_type": "markdown",
   "metadata": {
    "colab_type": "text",
    "id": "Yu2MDI-R-XNI"
   },
   "source": [
    "### (IMPLEMENTATION) Test the Model\n",
    "\n",
    "Try out your model on the test dataset of dog images.  Use the code cell below to calculate and print the test loss and accuracy.  Ensure that your test accuracy is greater than 10%."
   ]
  },
  {
   "cell_type": "code",
   "execution_count": 27,
   "metadata": {
    "colab": {
     "base_uri": "https://localhost:8080/",
     "height": 90
    },
    "colab_type": "code",
    "id": "-8SHKEYi-XNK",
    "outputId": "4a7d06ba-3868-4b68-b224-b4247b8353e7"
   },
   "outputs": [
    {
     "name": "stdout",
     "output_type": "stream",
     "text": [
      "Test Loss: 3.475947\n",
      "\n",
      "\n",
      "Test Accuracy: 16% (139/832)\n"
     ]
    }
   ],
   "source": [
    "# load the model that got the best validation accuracy\n",
    "scratch_checkpoint = 'dog_model_scratch.pth'\n",
    "model_scratch.load_state_dict(torch.load(scratch_checkpoint))\n",
    "\n",
    "def test(loaders, model, criterion, use_cuda):\n",
    "\n",
    "    # monitor test loss and accuracy\n",
    "    test_loss = 0.\n",
    "    correct = 0.\n",
    "    total = 0.\n",
    "\n",
    "    model.eval()\n",
    "    for batch_idx, (data, target) in enumerate(loaders['test']):\n",
    "        # move to GPU\n",
    "        if use_cuda:\n",
    "            data, target = data.cuda(), target.cuda()\n",
    "        # forward pass: compute predicted outputs by passing inputs to the model\n",
    "        output = model(data)\n",
    "        # calculate the loss\n",
    "        loss = criterion(output, target)\n",
    "        # update average test loss \n",
    "        test_loss = test_loss + ((1 / (batch_idx + 1)) * (loss.data - test_loss))\n",
    "        # convert output probabilities to predicted class\n",
    "        pred = output.data.max(1, keepdim=True)[1]\n",
    "        # compare predictions to true label\n",
    "        correct += np.sum(np.squeeze(pred.eq(target.data.view_as(pred))).cpu().numpy())\n",
    "        total += data.size(0)\n",
    "            \n",
    "    print('Test Loss: {:.6f}\\n'.format(test_loss))\n",
    "\n",
    "    print('\\nTest Accuracy: %2d%% (%2d/%2d)' % (\n",
    "        100. * correct / total, correct, total))\n",
    "\n",
    "# call test function    \n",
    "test(loaders_scratch, model_scratch, criterion_scratch, torch.cuda.is_available())"
   ]
  },
  {
   "cell_type": "markdown",
   "metadata": {
    "colab_type": "text",
    "id": "WI2BHlCt-XNP"
   },
   "source": [
    "---\n",
    "<a id='step4'></a>\n",
    "## Step 4: Create a CNN to Classify Dog Breeds (using Transfer Learning)\n",
    "\n",
    "You will now use transfer learning to create a CNN that can identify dog breed from images.  Your CNN must attain at least 60% accuracy on the test set.\n",
    "\n",
    "### (IMPLEMENTATION) Specify Data Loaders for the Dog Dataset\n",
    "\n",
    "Use the code cell below to write three separate [data loaders](http://pytorch.org/docs/master/data.html#torch.utils.data.DataLoader) for the training, validation, and test datasets of dog images (located at `dogImages/train`, `dogImages/valid`, and `dogImages/test`, respectively). \n",
    "\n",
    "If you like, **you are welcome to use the same data loaders from the previous step**, when you created a CNN from scratch."
   ]
  },
  {
   "cell_type": "code",
   "execution_count": 28,
   "metadata": {
    "colab": {},
    "colab_type": "code",
    "id": "zYHEtOIT-XNY"
   },
   "outputs": [
    {
     "name": "stdout",
     "output_type": "stream",
     "text": [
      "3\n"
     ]
    }
   ],
   "source": [
    "## TODO: Specify data loaders\n",
    "import numpy as np\n",
    "from glob import glob\n",
    "\n",
    "dog_folders = np.array(glob(\"DOGS/dogImages/*/\"))\n",
    "\n",
    "import os\n",
    "from PIL import ImageFile\n",
    "ImageFile.LOAD_TRUNCATED_IMAGES = True\n",
    "import torch\n",
    "from torchvision import datasets, models, transforms\n",
    "\n",
    "# pre-trained layers\n",
    "mean=[0.485, 0.456, 0.406]\n",
    "std=[0.229, 0.224, 0.225]\n",
    "# for my model\n",
    "# mean = [0.5, 0.5, 0.5]\n",
    "# std = [0.5, 0.5, 0.5]\n",
    "\n",
    "# defined transforms\n",
    "transform_train = transforms.Compose([\n",
    "    transforms.RandomRotation(30),\n",
    "    transforms.RandomVerticalFlip(),\n",
    "    transforms.RandomHorizontalFlip(),\n",
    "#     transforms.RandomGrayscale(),\n",
    "    transforms.RandomResizedCrop(224),\n",
    "    transforms.ToTensor(),\n",
    "    transforms.Normalize(mean, std)\n",
    "])\n",
    "transform_valid = transforms.Compose([\n",
    "    transforms.Resize(256),\n",
    "    transforms.CenterCrop(224),\n",
    "    transforms.ToTensor(),\n",
    "    transforms.Normalize(mean, std)\n",
    "])\n",
    "transform_test = transforms.Compose([\n",
    "    transforms.Resize(256),\n",
    "    transforms.CenterCrop(224),\n",
    "    transforms.ToTensor(),\n",
    "    transforms.Normalize(mean, std)\n",
    "])\n",
    "\n",
    "batch_size = 64\n",
    "\n",
    "# define the data, specifying transforms\n",
    "dog_data = {}\n",
    "dog_data['train'] = datasets.ImageFolder(dog_folders[2], transform=transform_train)\n",
    "dog_data['valid'] = datasets.ImageFolder(dog_folders[0], transform=transform_valid)\n",
    "dog_data['test'] = datasets.ImageFolder(dog_folders[1], transform=transform_test)\n",
    "\n",
    "\n",
    "# load data\n",
    "loaders_transfer = {\n",
    "    'train': torch.utils.data.DataLoader(dog_data['train'], batch_size=batch_size, shuffle=True, drop_last=True),\n",
    "    'valid': torch.utils.data.DataLoader(dog_data['valid'], batch_size=batch_size, shuffle=False, drop_last=True),\n",
    "    'test': torch.utils.data.DataLoader(dog_data['test'], batch_size=batch_size, shuffle=False, drop_last=True)}\n",
    "\n",
    "print(len(loaders_transfer))"
   ]
  },
  {
   "cell_type": "markdown",
   "metadata": {
    "colab_type": "text",
    "id": "iuDeDxu2-XNc"
   },
   "source": [
    "### (IMPLEMENTATION) Model Architecture\n",
    "\n",
    "Use transfer learning to create a CNN to classify dog breed.  Use the code cell below, and save your initialized model as the variable `model_transfer`."
   ]
  },
  {
   "cell_type": "code",
   "execution_count": 29,
   "metadata": {
    "colab": {},
    "colab_type": "code",
    "id": "AMtceO9U-XNd",
    "scrolled": false
   },
   "outputs": [
    {
     "name": "stdout",
     "output_type": "stream",
     "text": [
      "True\n"
     ]
    }
   ],
   "source": [
    "import torchvision.models as models\n",
    "from torch import nn, optim\n",
    "\n",
    "## TODO: Specify model architecture \n",
    "model_transfer = models.vgg19_bn(pretrained=True)\n",
    "# print(model_transfer)\n",
    "# print(model_transfer.classifier[6])\n",
    "\n",
    "# freeze all original layers\n",
    "for param in model_transfer.parameters():\n",
    "    param.requires_grad = False\n",
    "\n",
    "# replace last linear layer\n",
    "layer6 = nn.Linear(4096, 133)\n",
    "model_transfer.classifier[6] = layer6\n",
    "# print(\"\\n\",model_transfer)\n",
    "\n",
    "use_cuda = torch.cuda.is_available()\n",
    "if use_cuda:\n",
    "    model_transfer = model_transfer.cuda()\n",
    "    print(use_cuda)"
   ]
  },
  {
   "cell_type": "markdown",
   "metadata": {
    "colab_type": "text",
    "id": "6nkLItO--XNj"
   },
   "source": [
    "__Question 5:__ Outline the steps you took to get to your final CNN architecture and your reasoning at each step.  Describe why you think the architecture is suitable for the current problem."
   ]
  },
  {
   "cell_type": "markdown",
   "metadata": {
    "colab_type": "text",
    "id": "AFhWSSfy-XNp"
   },
   "source": [
    "__Answer:__ \n",
    "I decided to try VGG19 with batch normalization. I've heard that batch normalization helps with CNN accuracy and I haven't tried training anything with it before. I froze all of the layers to prevent re-training, and replaced the model's final linear layer with a layer that has the appropriate out_features.\n",
    "\n",
    "This is the \"Small Data Set, Similar Data\" approach. The original model was trained on ImageNet, which is 1000 types of images including dogs. So the data I'm using is similar to the ImageNet data. My data is also a relatively small dataset; if a person knew their dog breeds and went through each photo, they could probably whiz through these and achieve great results in roughly the same amount of time as a model would go through and learn. To me, this comparable time indicates a small data set."
   ]
  },
  {
   "cell_type": "markdown",
   "metadata": {
    "colab_type": "text",
    "id": "KLOAqjTl-XNq"
   },
   "source": [
    "### (IMPLEMENTATION) Specify Loss Function and Optimizer\n",
    "\n",
    "Use the next code cell to specify a [loss function](http://pytorch.org/docs/master/nn.html#loss-functions) and [optimizer](http://pytorch.org/docs/master/optim.html).  Save the chosen loss function as `criterion_transfer`, and the optimizer as `optimizer_transfer` below."
   ]
  },
  {
   "cell_type": "code",
   "execution_count": 30,
   "metadata": {
    "colab": {},
    "colab_type": "code",
    "id": "JuA8d2Dn-XNs"
   },
   "outputs": [],
   "source": [
    "criterion_transfer = nn.CrossEntropyLoss()\n",
    "\n",
    "optimizer_transfer = optim.Adam(model_transfer.parameters())"
   ]
  },
  {
   "cell_type": "markdown",
   "metadata": {
    "colab_type": "text",
    "id": "xXJt3J5b-XNw"
   },
   "source": [
    "### (IMPLEMENTATION) Train and Validate the Model\n",
    "\n",
    "Train and validate your model in the code cell below.  [Save the final model parameters](http://pytorch.org/docs/master/notes/serialization.html) at filepath `'model_transfer.pt'`."
   ]
  },
  {
   "cell_type": "code",
   "execution_count": 31,
   "metadata": {},
   "outputs": [],
   "source": [
    "def train(n_epochs, loaders, model, optimizer, criterion, use_cuda, save_path):\n",
    "    \"\"\"returns trained model\"\"\"\n",
    "    # initialize tracker for minimum validation loss\n",
    "    valid_loss_min = np.Inf\n",
    "    n_epochs_without_new_min_loss = 0\n",
    "    \n",
    "    for epoch in range(1, n_epochs+1):\n",
    "        # initialize variables to monitor training and validation loss\n",
    "        train_loss = 0.0\n",
    "        valid_loss = 0.0\n",
    "        \n",
    "        ###################\n",
    "        # train the model #\n",
    "        ###################\n",
    "        model.train()\n",
    "        for batch_idx, (data, target) in enumerate(loaders['train']):\n",
    "            # move to GPU\n",
    "            if use_cuda:\n",
    "                data, target = data.cuda(), target.cuda()\n",
    "\n",
    "            ## find the loss and update the model parameters accordingly\n",
    "            # zero the optimizer's gradient memory\n",
    "            optimizer.zero_grad()\n",
    "\n",
    "            # forward step\n",
    "            guessed_classes = model(data)\n",
    "            # calculate loss\n",
    "            loss = criterion(guessed_classes, target)\n",
    "            \n",
    "            # back step\n",
    "            loss.backward()\n",
    "            # optimize weights\n",
    "            optimizer.step()\n",
    "\n",
    "            ## record the average training loss, using something like \n",
    "            ## train_loss = train_loss + ((1 / (batch_idx + 1)) * (loss.data - train_loss))\n",
    "            train_loss += (1 / (batch_idx + 1)) * (loss.data - train_loss)\n",
    "#             train_loss += loss.item() * data.size(0)\n",
    "            \n",
    "        ######################    \n",
    "        # validate the model #\n",
    "        ######################\n",
    "        model.eval()\n",
    "        for batch_idx, (data, target) in enumerate(loaders['valid']):\n",
    "            # move to GPU\n",
    "            if use_cuda:\n",
    "                data, target = data.cuda(), target.cuda()\n",
    "            ## update the average validation loss\n",
    "\n",
    "            # forward step\n",
    "            guessed_classes = model(data)\n",
    "            loss = criterion(guessed_classes, target)\n",
    "            # no back steps\n",
    "\n",
    "            valid_loss += (1 / (batch_idx + 1)) * (loss.data - valid_loss)\n",
    "                \n",
    "        # print training/validation statistics \n",
    "        print('Epoch: {} \\tTraining Loss: {:.6f} \\tValidation Loss: {:.6f}'.format(\n",
    "            epoch, \n",
    "            train_loss,\n",
    "            valid_loss\n",
    "            ))\n",
    "        \n",
    "        ## TODO: save the model if validation loss has decreased\n",
    "        # count epochs without new minimum\n",
    "        if valid_loss <= valid_loss_min:\n",
    "            n_epochs_without_new_min_loss = 0 # restart count\n",
    "            torch.save(model.state_dict(), save_path)\n",
    "            # don't forget to save the new minimum!\n",
    "            valid_loss_min = valid_loss\n",
    "            print('New low achieved! New model saved at {}.'.format(save_path))\n",
    "        else:\n",
    "            n_epochs_without_new_min_loss += 1\n",
    "        \n",
    "        # stop the model if loss hasn't been achieved in  epochs\n",
    "        if n_epochs_without_new_min_loss >= 6:\n",
    "            print(\"There hasn't been any validation loss in {} epochs. Stopping the model now.\".format(n_epochs_without_new_min_loss))\n",
    "            return model\n",
    "            \n",
    "    # return trained model\n",
    "    return model"
   ]
  },
  {
   "cell_type": "code",
   "execution_count": 32,
   "metadata": {
    "colab": {},
    "colab_type": "code",
    "id": "xFvLaiOV-XN5",
    "scrolled": false
   },
   "outputs": [
    {
     "name": "stdout",
     "output_type": "stream",
     "text": [
      "Epoch: 1 \tTraining Loss: 2.753108 \tValidation Loss: 0.747139\n",
      "New low achieved! New model saved at model_transfer.pt.\n",
      "Epoch: 2 \tTraining Loss: 1.819873 \tValidation Loss: 0.569836\n",
      "New low achieved! New model saved at model_transfer.pt.\n",
      "Epoch: 3 \tTraining Loss: 1.694273 \tValidation Loss: 0.545906\n",
      "New low achieved! New model saved at model_transfer.pt.\n",
      "Epoch: 4 \tTraining Loss: 1.622307 \tValidation Loss: 0.511449\n",
      "New low achieved! New model saved at model_transfer.pt.\n",
      "Epoch: 5 \tTraining Loss: 1.591009 \tValidation Loss: 0.504050\n",
      "New low achieved! New model saved at model_transfer.pt.\n",
      "Epoch: 6 \tTraining Loss: 1.600560 \tValidation Loss: 0.493915\n",
      "New low achieved! New model saved at model_transfer.pt.\n",
      "Epoch: 7 \tTraining Loss: 1.551601 \tValidation Loss: 0.490286\n",
      "New low achieved! New model saved at model_transfer.pt.\n",
      "Epoch: 8 \tTraining Loss: 1.568927 \tValidation Loss: 0.489142\n",
      "New low achieved! New model saved at model_transfer.pt.\n",
      "Epoch: 9 \tTraining Loss: 1.522873 \tValidation Loss: 0.486717\n",
      "New low achieved! New model saved at model_transfer.pt.\n",
      "Epoch: 10 \tTraining Loss: 1.515319 \tValidation Loss: 0.479591\n",
      "New low achieved! New model saved at model_transfer.pt.\n",
      "Epoch: 11 \tTraining Loss: 1.504432 \tValidation Loss: 0.496916\n",
      "Epoch: 12 \tTraining Loss: 1.507681 \tValidation Loss: 0.460103\n",
      "New low achieved! New model saved at model_transfer.pt.\n",
      "Epoch: 13 \tTraining Loss: 1.508030 \tValidation Loss: 0.476920\n",
      "Epoch: 14 \tTraining Loss: 1.484973 \tValidation Loss: 0.457349\n",
      "New low achieved! New model saved at model_transfer.pt.\n",
      "Epoch: 15 \tTraining Loss: 1.502960 \tValidation Loss: 0.457129\n",
      "New low achieved! New model saved at model_transfer.pt.\n",
      "Epoch: 16 \tTraining Loss: 1.486324 \tValidation Loss: 0.454348\n",
      "New low achieved! New model saved at model_transfer.pt.\n",
      "Epoch: 17 \tTraining Loss: 1.540984 \tValidation Loss: 0.456987\n",
      "Epoch: 18 \tTraining Loss: 1.510206 \tValidation Loss: 0.431412\n",
      "New low achieved! New model saved at model_transfer.pt.\n",
      "Epoch: 19 \tTraining Loss: 1.496566 \tValidation Loss: 0.433314\n",
      "Epoch: 20 \tTraining Loss: 1.513860 \tValidation Loss: 0.431792\n",
      "Epoch: 21 \tTraining Loss: 1.458516 \tValidation Loss: 0.448456\n",
      "Epoch: 22 \tTraining Loss: 1.492401 \tValidation Loss: 0.474939\n",
      "Epoch: 23 \tTraining Loss: 1.476761 \tValidation Loss: 0.441266\n",
      "Epoch: 24 \tTraining Loss: 1.464534 \tValidation Loss: 0.470557\n",
      "There hasn't been any validation loss in 6 epochs. Stopping the model now.\n"
     ]
    }
   ],
   "source": [
    "# train the model\n",
    "n_epochs = 100\n",
    "model_transfer = train(n_epochs, loaders_transfer, model_transfer, optimizer_transfer, criterion_transfer, use_cuda, 'model_transfer.pt')"
   ]
  },
  {
   "cell_type": "markdown",
   "metadata": {
    "colab_type": "text",
    "id": "356140Rl-XOA"
   },
   "source": [
    "### (IMPLEMENTATION) Test the Model\n",
    "\n",
    "Try out your model on the test dataset of dog images. Use the code cell below to calculate and print the test loss and accuracy.  Ensure that your test accuracy is greater than 60%."
   ]
  },
  {
   "cell_type": "code",
   "execution_count": 33,
   "metadata": {},
   "outputs": [],
   "source": [
    "def test(loaders, model, criterion, use_cuda):\n",
    "\n",
    "    # monitor test loss and accuracy\n",
    "    test_loss = 0.\n",
    "    correct = 0.\n",
    "    total = 0.\n",
    "\n",
    "    model.eval()\n",
    "    for batch_idx, (data, target) in enumerate(loaders['test']):\n",
    "        # move to GPU\n",
    "        if use_cuda:\n",
    "            data, target = data.cuda(), target.cuda()\n",
    "        # forward pass: compute predicted outputs by passing inputs to the model\n",
    "        output = model(data)\n",
    "        # calculate the loss\n",
    "        loss = criterion(output, target)\n",
    "        # update average test loss \n",
    "        test_loss = test_loss + ((1 / (batch_idx + 1)) * (loss.data - test_loss))\n",
    "        # convert output probabilities to predicted class\n",
    "        pred = output.data.max(1, keepdim=True)[1]\n",
    "        # compare predictions to true label\n",
    "        correct += np.sum(np.squeeze(pred.eq(target.data.view_as(pred))).cpu().numpy())\n",
    "        total += data.size(0)\n",
    "            \n",
    "    print('Test Loss: {:.6f}\\n'.format(test_loss))\n",
    "\n",
    "    print('\\nTest Accuracy: %2d%% (%2d/%2d)' % (\n",
    "        100. * correct / total, correct, total))"
   ]
  },
  {
   "cell_type": "code",
   "execution_count": 34,
   "metadata": {
    "colab": {},
    "colab_type": "code",
    "id": "32EEwooO-XOE"
   },
   "outputs": [
    {
     "name": "stdout",
     "output_type": "stream",
     "text": [
      "Test Loss: 0.508443\n",
      "\n",
      "\n",
      "Test Accuracy: 85% (709/832)\n"
     ]
    }
   ],
   "source": [
    "# load the model that got the best validation accuracy (uncomment the line below)\n",
    "model_transfer.load_state_dict(torch.load('model_transfer.pt'))\n",
    "\n",
    "test(loaders_transfer, model_transfer, criterion_transfer, use_cuda)"
   ]
  },
  {
   "cell_type": "markdown",
   "metadata": {
    "colab_type": "text",
    "id": "udr41dmj-XOe"
   },
   "source": [
    "### (IMPLEMENTATION) Predict Dog Breed with the Model\n",
    "\n",
    "Write a function that takes an image path as input and returns the dog breed (`Affenpinscher`, `Afghan hound`, etc) that is predicted by your model.  "
   ]
  },
  {
   "cell_type": "code",
   "execution_count": 35,
   "metadata": {},
   "outputs": [],
   "source": [
    "def predict_dogs(img_path):\n",
    "    # define image pre-processing\n",
    "    t = transforms.Compose([\n",
    "        transforms.Resize(256),\n",
    "        transforms.CenterCrop(224),\n",
    "        transforms.ToTensor(),\n",
    "        transforms.Normalize(mean=[0.485, 0.456, 0.406],\n",
    "                             std=[0.229, 0.224, 0.225])\n",
    "    ])\n",
    "    \n",
    "    # load image\n",
    "    img = Image.open(img_path).convert('RGB')\n",
    "    img = t(img)\n",
    "    \n",
    "    if torch.cuda.is_available():\n",
    "        img = img.to('cuda')\n",
    "    \n",
    "    # run image through `VGG16` model\n",
    "    outputs = model_transfer(img.view(1, *img.shape))\n",
    "\n",
    "    # .item() pulls the number out as an integer!\n",
    "    return torch.argmax(outputs).item() # predicted class index"
   ]
  },
  {
   "cell_type": "code",
   "execution_count": 66,
   "metadata": {
    "scrolled": true
   },
   "outputs": [],
   "source": [
    "# list of class names by index, i.e. a name can be accessed like class_names[0]\n",
    "class_names = [item[4:].replace(\"_\", \" \") for item in dog_data['train'].classes]\n",
    "# class_names"
   ]
  },
  {
   "cell_type": "code",
   "execution_count": 37,
   "metadata": {
    "colab": {},
    "colab_type": "code",
    "id": "ddMyVEqb-XOj"
   },
   "outputs": [],
   "source": [
    "### TODO: Write a function that takes a path to an image as input\n",
    "### and returns the dog breed that is predicted by the model.\n",
    "\n",
    "def predict_breed_transfer(img_path):\n",
    "    # load the image and return the predicted breed\n",
    "    result = predict_dogs(img_path)\n",
    "    return class_names[result]"
   ]
  },
  {
   "cell_type": "code",
   "execution_count": 38,
   "metadata": {},
   "outputs": [
    {
     "name": "stdout",
     "output_type": "stream",
     "text": [
      "DOGS/dogImages/valid/130.Welsh_springer_spaniel/Welsh_springer_spaniel_08240.jpg\n",
      "guess: Welsh springer spaniel\n"
     ]
    }
   ],
   "source": [
    "# image = human_files[0]\n",
    "image = dog_files[0]\n",
    "\n",
    "guess = predict_breed_transfer(image)\n",
    "\n",
    "print(image)\n",
    "print(\"guess:\", guess)"
   ]
  },
  {
   "cell_type": "markdown",
   "metadata": {
    "colab_type": "text",
    "id": "kDURD3Wj-XOr"
   },
   "source": [
    "---\n",
    "<a id='step5'></a>\n",
    "## Step 5: Write your Algorithm\n",
    "\n",
    "Write an algorithm that accepts a file path to an image and first determines whether the image contains a human, dog, or neither.  Then,\n",
    "- if a __dog__ is detected in the image, return the predicted breed.\n",
    "- if a __human__ is detected in the image, return the resembling dog breed.\n",
    "- if __neither__ is detected in the image, provide output that indicates an error.\n",
    "\n",
    "You are welcome to write your own functions for detecting humans and dogs in images, but feel free to use the `face_detector` and `human_detector` functions developed above.  You are __required__ to use your CNN from Step 4 to predict dog breed.  \n",
    "\n",
    "Some sample output for our algorithm is provided below, but feel free to design your own user experience!\n",
    "\n",
    "![Sample Human Output](images/sample_human_output.png)\n",
    "\n",
    "\n",
    "### (IMPLEMENTATION) Write your Algorithm"
   ]
  },
  {
   "cell_type": "code",
   "execution_count": 67,
   "metadata": {
    "colab": {},
    "colab_type": "code",
    "id": "qFeywElM-XOs"
   },
   "outputs": [],
   "source": [
    "### TODO: Write your algorithm.\n",
    "### Feel free to use as many code cells as needed.\n",
    "\n",
    "def run_app(img_path):\n",
    "    ## handle cases for a human face, dog, and neither\n",
    "\n",
    "    if dog_detector(img_path):\n",
    "        return predict_breed_transfer(img_path)\n",
    "    if face_detector(img_path):\n",
    "        return \"This human looks like a/n {}.\".format(predict_breed_transfer(img_path))\n",
    "    else:\n",
    "        return \"Neither dog nor human face were detected.\""
   ]
  },
  {
   "cell_type": "markdown",
   "metadata": {
    "colab_type": "text",
    "id": "smhwPK3C-XO5"
   },
   "source": [
    "---\n",
    "<a id='step6'></a>\n",
    "## Step 6: Test Your Algorithm\n",
    "\n",
    "In this section, you will take your new algorithm for a spin!  What kind of dog does the algorithm think that _you_ look like?  If you have a dog, does it predict your dog's breed accurately?  If you have a cat, does it mistakenly think that your cat is a dog?\n",
    "\n",
    "### (IMPLEMENTATION) Test Your Algorithm on Sample Images!\n",
    "\n",
    "Test your algorithm at least six images on your computer.  Feel free to use any images you like.  Use at least two human and two dog images.  \n",
    "\n",
    "__Question 6:__ Is the output better than you expected :) ?  Or worse :( ?  Provide at least three possible points of improvement for your algorithm."
   ]
  },
  {
   "cell_type": "markdown",
   "metadata": {
    "colab_type": "text",
    "id": "LSmWhwKn-XO9"
   },
   "source": [
    "__Answer:__ (Three possible points for improvement)\n",
    "- The output is better than I expected! \n",
    "- Getting a better result:\n",
    "    - Create a better training model\n",
    "        - Could be done by altering the augmentations, choosing a different pre-trained model, choosing a different optimizer, and/or tweaking each hyperparameter.\n",
    "    - Try out a different face detector, either using another one from OpenCV or from elsewhere\n",
    "    - Train on a much bigger dataset, thereby increasing the learning scope and accuracy."
   ]
  },
  {
   "cell_type": "code",
   "execution_count": 70,
   "metadata": {
    "colab": {},
    "colab_type": "code",
    "id": "w2Effs4G-XO_"
   },
   "outputs": [
    {
     "name": "stdout",
     "output_type": "stream",
     "text": [
      "DOGS/lfw/Dominic_Monaghan/Dominic_Monaghan_0001.jpg --> This human looks like a/n American water spaniel.\n",
      "DOGS/lfw/Stan_Kasten/Stan_Kasten_0001.jpg --> This human looks like a/n Silky terrier.\n",
      "DOGS/lfw/Lisa_Stone/Lisa_Stone_0001.jpg --> This human looks like a/n Silky terrier.\n",
      "DOGS/dogImages/valid/130.Welsh_springer_spaniel/Welsh_springer_spaniel_08240.jpg --> Welsh springer spaniel\n",
      "DOGS/dogImages/valid/130.Welsh_springer_spaniel/Welsh_springer_spaniel_08235.jpg --> Welsh springer spaniel\n",
      "DOGS/dogImages/valid/130.Welsh_springer_spaniel/Welsh_springer_spaniel_08228.jpg --> Doberman pinscher\n",
      "\n",
      "\n",
      "DOGS/personal images/tiny_kitten.jpg --> Neither dog nor human face were detected.\n",
      "DOGS/personal images/great_pyrenees.jpg --> Great pyrenees\n",
      "DOGS/personal images/leonberger.jpg --> Leonberger\n",
      "DOGS/personal images/kitty_rain-princess.jpg --> Neither dog nor human face were detected.\n",
      "DOGS/personal images/kitton_profile.jpg --> Japanese chin\n",
      "DOGS/personal images/self_delauney.png --> This human looks like a/n Chinese crested.\n",
      "DOGS/personal images/cavalier_king_charles_spaniel.jpg --> Cavalier king charles spaniel\n",
      "DOGS/personal images/kitties_closeup.jpg --> Neither dog nor human face were detected.\n",
      "DOGS/personal images/max_the_cat.jpg --> Neither dog nor human face were detected.\n",
      "DOGS/personal images/penguin.png --> Neither dog nor human face were detected.\n",
      "DOGS/personal images/cocker-spaniel.jpg --> Pekingese\n",
      "DOGS/personal images/swedishVallhundMaybe.jpg --> Cardigan welsh corgi\n",
      "DOGS/personal images/english_bulldog.jpg --> Bulldog\n",
      "DOGS/personal images/kyrgyzian_sight_hound.jpg --> Canaan dog\n",
      "DOGS/personal images/rachelle.jpg --> This human looks like a/n Finnish spitz.\n",
      "DOGS/personal images/round_fluff.jpg --> Dandie dinmont terrier\n",
      "DOGS/personal images/silly_face.jpg --> This human looks like a/n Silky terrier.\n",
      "DOGS/personal images/shiba_inu.jpg --> Neither dog nor human face were detected.\n"
     ]
    }
   ],
   "source": [
    "## TODO: Execute your algorithm from Step 6 on\n",
    "## at least 6 images on your computer.\n",
    "## Feel free to use as many code cells as needed.\n",
    "\n",
    "pic_path = np.array(glob(\"DOGS/personal images/*\"))\n",
    "\n",
    "## suggested code, below\n",
    "for file in np.hstack((human_files[:3], dog_files[:3])):\n",
    "    print(file, '-->', run_app(file))\n",
    "\n",
    "print('\\n')\n",
    "\n",
    "for file in np.hstack(pic_path):\n",
    "    print(file, '-->', run_app(file))"
   ]
  },
  {
   "cell_type": "code",
   "execution_count": null,
   "metadata": {},
   "outputs": [],
   "source": []
  }
 ],
 "metadata": {
  "accelerator": "GPU",
  "colab": {
   "collapsed_sections": [
    "xXJt3J5b-XNw",
    "356140Rl-XOA"
   ],
   "name": "dog_app.ipynb",
   "provenance": [],
   "toc_visible": true,
   "version": "0.3.2"
  },
  "kernelspec": {
   "display_name": "Python 3",
   "language": "python",
   "name": "python3"
  },
  "language_info": {
   "codemirror_mode": {
    "name": "ipython",
    "version": 3
   },
   "file_extension": ".py",
   "mimetype": "text/x-python",
   "name": "python",
   "nbconvert_exporter": "python",
   "pygments_lexer": "ipython3",
   "version": "3.6.5"
  }
 },
 "nbformat": 4,
 "nbformat_minor": 2
}
