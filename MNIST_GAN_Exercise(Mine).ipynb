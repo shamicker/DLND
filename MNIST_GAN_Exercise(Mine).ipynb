{
  "nbformat": 4,
  "nbformat_minor": 0,
  "metadata": {
    "colab": {
      "name": "MNIST_GAN_Exercise(Mine).ipynb",
      "version": "0.3.2",
      "provenance": [],
      "collapsed_sections": [],
      "include_colab_link": true
    },
    "language_info": {
      "codemirror_mode": {
        "name": "ipython",
        "version": 3
      },
      "file_extension": ".py",
      "mimetype": "text/x-python",
      "name": "python",
      "nbconvert_exporter": "python",
      "pygments_lexer": "ipython3",
      "version": "3.6.3"
    },
    "kernelspec": {
      "name": "python3",
      "display_name": "Python 3"
    },
    "accelerator": "GPU"
  },
  "cells": [
    {
      "cell_type": "markdown",
      "metadata": {
        "id": "view-in-github",
        "colab_type": "text"
      },
      "source": [
        "<a href=\"https://colab.research.google.com/github/shamicker/DLND/blob/generate_faces/MNIST_GAN_Exercise(Mine).ipynb\" target=\"_parent\"><img src=\"https://colab.research.google.com/assets/colab-badge.svg\" alt=\"Open In Colab\"/></a>"
      ]
    },
    {
      "cell_type": "markdown",
      "metadata": {
        "id": "JJlwLc-2s7ok",
        "colab_type": "text"
      },
      "source": [
        "# Generative Adversarial Network\n",
        "\n",
        "In this notebook, we'll be building a generative adversarial network (GAN) trained on the MNIST dataset. From this, we'll be able to generate new handwritten digits!\n",
        "\n",
        "GANs were [first reported on](https://arxiv.org/abs/1406.2661) in 2014 from Ian Goodfellow and others in Yoshua Bengio's lab. Since then, GANs have exploded in popularity. Here are a few examples to check out:\n",
        "\n",
        "* [Pix2Pix](https://affinelayer.com/pixsrv/) \n",
        "* [CycleGAN & Pix2Pix in PyTorch, Jun-Yan Zhu](https://github.com/junyanz/pytorch-CycleGAN-and-pix2pix)\n",
        "* [A list of generative models](https://github.com/wiseodd/generative-models)\n",
        "\n",
        "The idea behind GANs is that you have two networks, a generator $G$ and a discriminator $D$, competing against each other. The generator makes \"fake\" data to pass to the discriminator. The discriminator also sees real training data and predicts if the data it's received is real or fake. \n",
        "> * The generator is trained to fool the discriminator, it wants to output data that looks _as close as possible_ to real, training data. \n",
        "* The discriminator is a classifier that is trained to figure out which data is real and which is fake. \n",
        "\n",
        "What ends up happening is that the generator learns to make data that is indistinguishable from real data to the discriminator.\n",
        "\n",
        "<img src='https://github.com/shamicker/DLND/blob/generate_faces/gan-mnist/assets/gan_pipeline.png?raw=1' width=70% />\n",
        "\n",
        "The general structure of a GAN is shown in the diagram above, using MNIST images as data. The latent sample is a random vector that the generator uses to construct its fake images. This is often called a **latent vector** and that vector space is called **latent space**. As the generator trains, it figures out how to map latent vectors to recognizable images that can fool the discriminator.\n",
        "\n",
        "If you're interested in generating only new images, you can throw out the discriminator after training. In this notebook, I'll show you how to define and train these adversarial networks in PyTorch and generate new images!"
      ]
    },
    {
      "cell_type": "code",
      "metadata": {
        "id": "fHwBFJ_9s7oq",
        "colab_type": "code",
        "colab": {}
      },
      "source": [
        "%matplotlib inline\n",
        "\n",
        "import numpy as np\n",
        "import torch\n",
        "import matplotlib.pyplot as plt"
      ],
      "execution_count": 0,
      "outputs": []
    },
    {
      "cell_type": "code",
      "metadata": {
        "id": "mV-iUnjqs7o1",
        "colab_type": "code",
        "colab": {
          "base_uri": "https://localhost:8080/",
          "height": 275
        },
        "outputId": "90a29f66-dd26-4ba7-c49c-cd0a6d9a933f"
      },
      "source": [
        "from torchvision import datasets\n",
        "import torchvision.transforms as transforms\n",
        "\n",
        "# number of subprocesses to use for data loading\n",
        "num_workers = 0\n",
        "# how many samples per batch to load\n",
        "batch_size = 64\n",
        "\n",
        "# convert data to torch.FloatTensor\n",
        "transform = transforms.ToTensor()\n",
        "\n",
        "# get the training datasets\n",
        "train_data = datasets.MNIST(root='data', train=True,\n",
        "                                   download=True, transform=transform)\n",
        "\n",
        "# prepare data loader\n",
        "train_loader = torch.utils.data.DataLoader(train_data, batch_size=batch_size,\n",
        "                                           num_workers=num_workers)"
      ],
      "execution_count": 2,
      "outputs": [
        {
          "output_type": "stream",
          "text": [
            "\r0it [00:00, ?it/s]"
          ],
          "name": "stderr"
        },
        {
          "output_type": "stream",
          "text": [
            "Downloading http://yann.lecun.com/exdb/mnist/train-images-idx3-ubyte.gz to data/MNIST/raw/train-images-idx3-ubyte.gz\n"
          ],
          "name": "stdout"
        },
        {
          "output_type": "stream",
          "text": [
            "9920512it [00:01, 8632358.61it/s]                            \n"
          ],
          "name": "stderr"
        },
        {
          "output_type": "stream",
          "text": [
            "Extracting data/MNIST/raw/train-images-idx3-ubyte.gz\n"
          ],
          "name": "stdout"
        },
        {
          "output_type": "stream",
          "text": [
            "  0%|          | 0/28881 [00:00<?, ?it/s]"
          ],
          "name": "stderr"
        },
        {
          "output_type": "stream",
          "text": [
            "Downloading http://yann.lecun.com/exdb/mnist/train-labels-idx1-ubyte.gz to data/MNIST/raw/train-labels-idx1-ubyte.gz\n"
          ],
          "name": "stdout"
        },
        {
          "output_type": "stream",
          "text": [
            "32768it [00:00, 129700.87it/s]           \n",
            "  0%|          | 0/1648877 [00:00<?, ?it/s]"
          ],
          "name": "stderr"
        },
        {
          "output_type": "stream",
          "text": [
            "Extracting data/MNIST/raw/train-labels-idx1-ubyte.gz\n",
            "Downloading http://yann.lecun.com/exdb/mnist/t10k-images-idx3-ubyte.gz to data/MNIST/raw/t10k-images-idx3-ubyte.gz\n"
          ],
          "name": "stdout"
        },
        {
          "output_type": "stream",
          "text": [
            "1654784it [00:00, 2150945.66it/s]                            \n",
            "0it [00:00, ?it/s]"
          ],
          "name": "stderr"
        },
        {
          "output_type": "stream",
          "text": [
            "Extracting data/MNIST/raw/t10k-images-idx3-ubyte.gz\n",
            "Downloading http://yann.lecun.com/exdb/mnist/t10k-labels-idx1-ubyte.gz to data/MNIST/raw/t10k-labels-idx1-ubyte.gz\n"
          ],
          "name": "stdout"
        },
        {
          "output_type": "stream",
          "text": [
            "8192it [00:00, 49195.47it/s]            \n"
          ],
          "name": "stderr"
        },
        {
          "output_type": "stream",
          "text": [
            "Extracting data/MNIST/raw/t10k-labels-idx1-ubyte.gz\n",
            "Processing...\n",
            "Done!\n"
          ],
          "name": "stdout"
        }
      ]
    },
    {
      "cell_type": "markdown",
      "metadata": {
        "id": "mjG92eH8s7o4",
        "colab_type": "text"
      },
      "source": [
        "### Visualize the data"
      ]
    },
    {
      "cell_type": "code",
      "metadata": {
        "id": "bvuHE6X-s7o5",
        "colab_type": "code",
        "colab": {
          "base_uri": "https://localhost:8080/",
          "height": 231
        },
        "outputId": "149615c3-510e-4389-edc1-9f8b35d38245"
      },
      "source": [
        "# obtain one batch of training images\n",
        "dataiter = iter(train_loader)\n",
        "images, labels = dataiter.next()\n",
        "images = images.numpy()\n",
        "\n",
        "# get one image from the batch\n",
        "img = np.squeeze(images[0])\n",
        "\n",
        "fig = plt.figure(figsize = (3,3)) \n",
        "ax = fig.add_subplot(111)\n",
        "ax.imshow(img, cmap='gray')"
      ],
      "execution_count": 3,
      "outputs": [
        {
          "output_type": "execute_result",
          "data": {
            "text/plain": [
              "<matplotlib.image.AxesImage at 0x7f88de95f940>"
            ]
          },
          "metadata": {
            "tags": []
          },
          "execution_count": 3
        },
        {
          "output_type": "display_data",
          "data": {
            "image/png": "[encoded data removed]",
            "text/plain": [
              "<Figure size 216x216 with 1 Axes>"
            ]
          },
          "metadata": {
            "tags": []
          }
        }
      ]
    },
    {
      "cell_type": "markdown",
      "metadata": {
        "id": "Jd73iGC7s7o_",
        "colab_type": "text"
      },
      "source": [
        "---\n",
        "# Define the Model\n",
        "\n",
        "A GAN is comprised of two adversarial networks, a discriminator and a generator."
      ]
    },
    {
      "cell_type": "markdown",
      "metadata": {
        "id": "HDXM6UO9s7pA",
        "colab_type": "text"
      },
      "source": [
        "## Discriminator\n",
        "\n",
        "The discriminator network is going to be a pretty typical linear classifier. To make this network a universal function approximator, we'll need at least one hidden layer, and these hidden layers should have one key attribute:\n",
        "> All hidden layers will have a [Leaky ReLu](https://pytorch.org/docs/stable/nn.html#torch.nn.LeakyReLU) activation function applied to their outputs.\n",
        "\n",
        "<img src='https://github.com/shamicker/DLND/blob/generate_faces/gan-mnist/assets/gan_network.png?raw=1' width=70% />\n",
        "\n",
        "#### Leaky ReLu\n",
        "\n",
        "We should use a leaky ReLU to allow gradients to flow backwards through the layer unimpeded. A leaky ReLU is like a normal ReLU, except that there is a small non-zero output for negative input values.\n",
        "\n",
        "<img src='https://github.com/shamicker/DLND/blob/generate_faces/gan-mnist/assets/leaky_relu.png?raw=1' width=40% />\n",
        "\n",
        "#### Sigmoid Output\n",
        "\n",
        "We'll also take the approach of using a more numerically stable loss function on the outputs. Recall that we want the discriminator to output a value 0-1 indicating whether an image is _real or fake_. \n",
        "> We will ultimately use [BCEWithLogitsLoss](https://pytorch.org/docs/stable/nn.html#bcewithlogitsloss), which combines a `sigmoid` activation function **and** and binary cross entropy loss in one function. \n",
        "\n",
        "So, our final output layer should not have any activation function applied to it."
      ]
    },
    {
      "cell_type": "code",
      "metadata": {
        "id": "kwiRw5_5y6hF",
        "colab_type": "code",
        "colab": {
          "base_uri": "https://localhost:8080/",
          "height": 51
        },
        "outputId": "32eb534f-7814-4371-e919-485bb2278d02"
      },
      "source": [
        "print(images.shape)\n",
        "print(labels.shape)"
      ],
      "execution_count": 4,
      "outputs": [
        {
          "output_type": "stream",
          "text": [
            "(64, 1, 28, 28)\n",
            "torch.Size([64])\n"
          ],
          "name": "stdout"
        }
      ]
    },
    {
      "cell_type": "code",
      "metadata": {
        "id": "ISuwB_Grs7pA",
        "colab_type": "code",
        "colab": {}
      },
      "source": [
        "import torch.nn as nn\n",
        "import torch.nn.functional as F\n",
        "\n",
        "class Discriminator(nn.Module):\n",
        "\n",
        "    def __init__(self, input_size, hidden_dim, output_size):\n",
        "        super(Discriminator, self).__init__()\n",
        "        \n",
        "        # define all layers\n",
        "        ## IF using more than 1 hidden layer, multiply by factors of 2 for each layer until reduced to hidden_dim size (which is the FINAL hidden layer size)\n",
        "        ## So for 3 hidden layers:\n",
        "        ## self.fc1 = nn.Linear(input_size, hidden_dim*4)\n",
        "        ## self.fc2 = nn.Linear(hidden_dim*4, hidden_dim*2)\n",
        "        ## self.fc3 = nn.Linear(hidden_dim*2, hidden_dim)\n",
        "        ## and then the final output layer:\n",
        "        ## self.fc4 = nn.Linear(hidden_dim, output_size)\n",
        "        ##\n",
        "        self.fc1 = nn.Linear(input_size, hidden_dim)\n",
        "        self.fc2 = nn.Linear(hidden_dim, output_size)\n",
        "        \n",
        "        ## Generally good practice to place Dropout layers between Linear layers!\n",
        "        self.dropout = nn.Dropout(p=0.4)\n",
        "        \n",
        "        \n",
        "    def forward(self, x):\n",
        "        # flatten image\n",
        "        x = x.view(-1, 28*28)\n",
        "        \n",
        "        # pass x through all layers\n",
        "        # apply leaky relu activation to all hidden layers\n",
        "        x = F.leaky_relu(self.fc1(x), 0.2) ## (input, negative_slope=0.2)\n",
        "        x = self.dropout(x)\n",
        "        x = self.fc2(x)\n",
        "\n",
        "        return x\n"
      ],
      "execution_count": 0,
      "outputs": []
    },
    {
      "cell_type": "markdown",
      "metadata": {
        "id": "m0zz_iE6s7pF",
        "colab_type": "text"
      },
      "source": [
        "## Generator\n",
        "\n",
        "The generator network will be almost exactly the same as the discriminator network, except that we're applying a [tanh activation function](https://pytorch.org/docs/stable/nn.html#tanh) to our output layer.\n",
        "\n",
        "#### tanh Output\n",
        "The generator has been found to perform the best with $tanh$ for the generator output, which scales the output to be between -1 and 1, instead of 0 and 1. \n",
        "\n",
        "<img src='https://github.com/shamicker/DLND/blob/generate_faces/gan-mnist/assets/tanh_fn.png?raw=1' width=40% />\n",
        "\n",
        "Recall that we also want these outputs to be comparable to the *real* input pixel values, which are read in as normalized values between 0 and 1. \n",
        "> So, we'll also have to **scale our real input images to have pixel values between -1 and 1** when we train the discriminator. \n",
        "\n",
        "I'll do this in the training loop, later on."
      ]
    },
    {
      "cell_type": "code",
      "metadata": {
        "id": "LbDA6nMhs7pH",
        "colab_type": "code",
        "colab": {}
      },
      "source": [
        "class Generator(nn.Module):\n",
        "\n",
        "    def __init__(self, input_size, hidden_dim, output_size):\n",
        "        super(Generator, self).__init__()\n",
        "        \n",
        "        # define all layers\n",
        "        ## For 3 hidden layers:\n",
        "        ## self.fc1 = nn.Linear(input_size, hidden_dim)\n",
        "        ## self.fc2 = nn.Linear(hidden_dim, hidden_dim*2)\n",
        "        ## self.fc3 = nn.Linear(hidden_dim*2, hidden_dim*4)\n",
        "        ## self.fc4 = nn.Linear(hidden_dim*4, output_size)\n",
        "        ##\n",
        "        self.fc1 = nn.Linear(input_size, hidden_dim)\n",
        "        self.fc2 = nn.Linear(hidden_dim, output_size)\n",
        "        self.lrelu = nn.LeakyReLU(0.2)\n",
        "        self.tanh = nn.Tanh()\n",
        "        \n",
        "        ## Dropout is always a good idea for linear layers\n",
        "        self.dropout = nn.Dropout(0.3)        \n",
        "\n",
        "    def forward(self, x):\n",
        "        # pass x through all layers\n",
        "        x = self.fc1(x)\n",
        "        x = self.lrelu(x)\n",
        "        x = self.dropout(x)\n",
        "        x = self.fc2(x)\n",
        "        # final layer should have tanh applied\n",
        "        x = self.tanh(x) # scales values to between -1 and 1\n",
        "        \n",
        "        return x"
      ],
      "execution_count": 0,
      "outputs": []
    },
    {
      "cell_type": "markdown",
      "metadata": {
        "id": "OBx5m0tPs7pL",
        "colab_type": "text"
      },
      "source": [
        "## Model hyperparameters"
      ]
    },
    {
      "cell_type": "code",
      "metadata": {
        "id": "aoaYo19Fs7pL",
        "colab_type": "code",
        "colab": {}
      },
      "source": [
        "# Discriminator hyperparams\n",
        "\n",
        "# Size of input image to discriminator (28*28)\n",
        "input_size = 28*28\n",
        "# Size of discriminator output (real or fake)\n",
        "d_output_size = 1\n",
        "# Size of *last* hidden layer in the discriminator\n",
        "d_hidden_size = 128 ## if I put the 3 hidden layers, it would go from 784 -> 128 -> 64 -> 32\n",
        "\n",
        "# Generator hyperparams\n",
        "\n",
        "# Size of latent vector to give to generator\n",
        "z_size = 100\n",
        "# Size of discriminator output (generated image)\n",
        "g_output_size = 28*28\n",
        "# Size of *first* hidden layer in the generator\n",
        "g_hidden_size = 128"
      ],
      "execution_count": 0,
      "outputs": []
    },
    {
      "cell_type": "markdown",
      "metadata": {
        "id": "_mDGgC1vs7pN",
        "colab_type": "text"
      },
      "source": [
        "## Build complete network\n",
        "\n",
        "Now we're instantiating the discriminator and generator from the classes defined above. Make sure you've passed in the correct input arguments."
      ]
    },
    {
      "cell_type": "code",
      "metadata": {
        "id": "VfpDX9KKs7pO",
        "colab_type": "code",
        "colab": {
          "base_uri": "https://localhost:8080/",
          "height": 238
        },
        "outputId": "3252f8c7-3416-460d-84da-94df4b49883f"
      },
      "source": [
        "# instantiate discriminator and generator\n",
        "D = Discriminator(input_size, d_hidden_size, d_output_size)\n",
        "G = Generator(z_size, g_hidden_size, g_output_size)\n",
        "\n",
        "# check that they are as you expect\n",
        "print(D)\n",
        "print()\n",
        "print(G)"
      ],
      "execution_count": 8,
      "outputs": [
        {
          "output_type": "stream",
          "text": [
            "Discriminator(\n",
            "  (fc1): Linear(in_features=784, out_features=128, bias=True)\n",
            "  (fc2): Linear(in_features=128, out_features=1, bias=True)\n",
            "  (dropout): Dropout(p=0.4)\n",
            ")\n",
            "\n",
            "Generator(\n",
            "  (fc1): Linear(in_features=100, out_features=128, bias=True)\n",
            "  (fc2): Linear(in_features=128, out_features=784, bias=True)\n",
            "  (lrelu): LeakyReLU(negative_slope=0.2)\n",
            "  (tanh): Tanh()\n",
            "  (dropout): Dropout(p=0.3)\n",
            ")\n"
          ],
          "name": "stdout"
        }
      ]
    },
    {
      "cell_type": "markdown",
      "metadata": {
        "id": "GFLz16dws7pQ",
        "colab_type": "text"
      },
      "source": [
        "---\n",
        "## Discriminator and Generator Losses\n",
        "\n",
        "Now we need to calculate the losses. \n",
        "\n",
        "### Discriminator Losses\n",
        "\n",
        "> * For the discriminator, the total loss is the sum of the losses for real and fake images, `d_loss = d_real_loss + d_fake_loss`. \n",
        "* Remember that we want the discriminator to output 1 for real images and 0 for fake images, so we need to set up the losses to reflect that.\n",
        "\n",
        "<img src='https://github.com/shamicker/DLND/blob/generate_faces/gan-mnist/assets/gan_pipeline.png?raw=1' width=70% />\n",
        "\n",
        "The losses will by binary cross entropy loss with logits, which we can get with [BCEWithLogitsLoss](https://pytorch.org/docs/stable/nn.html#bcewithlogitsloss). This combines a `sigmoid` activation function **and** and binary cross entropy loss in one function.\n",
        "\n",
        "For the real images, we want `D(real_images) = 1`. That is, we want the discriminator to classify the the real images with a label = 1, indicating that these are real. To help the discriminator generalize better, the labels are **reduced a bit from 1.0 to 0.9**. For this, we'll use the parameter `smooth`; if True, then we should smooth our labels. In PyTorch, this looks like `labels = torch.ones(size) * 0.9`\n",
        "\n",
        "The discriminator loss for the fake data is similar. We want `D(fake_images) = 0`, where the fake images are the _generator output_, `fake_images = G(z)`. \n",
        "\n",
        "### Generator Loss\n",
        "\n",
        "The generator loss will look similar only with flipped labels. The generator's goal is to get `D(fake_images) = 1`. In this case, the labels are **flipped** to represent that the generator is trying to fool the discriminator into thinking that the images it generates (fakes) are real!"
      ]
    },
    {
      "cell_type": "code",
      "metadata": {
        "id": "dIjIukYns7pS",
        "colab_type": "code",
        "colab": {}
      },
      "source": [
        "# Calculate losses\n",
        "def real_loss(D_out, smooth=False):\n",
        "    # compare logits to real labels\n",
        "    # smooth labels if smooth=True\n",
        "    real_labels = torch.ones(D_out.shape[0])\n",
        "    if smooth:\n",
        "        real_labels *= 0.9\n",
        "    bce = nn.BCEWithLogitsLoss()\n",
        "    loss = bce(D_out.squeeze(), real_labels) # probably should have D_out.squeeze()\n",
        "    return loss\n",
        "\n",
        "### D_out should be squeezed, or else this error message happens:\n",
        "### \"ValueError: Target size (torch.Size([64])) must be the same as input size (torch.Size([64, 1]))\"\n",
        "\n",
        "def fake_loss(D_out):\n",
        "    # compare logits to fake labels\n",
        "    fake_labels = torch.zeros(D_out.shape[0])\n",
        "    bce = nn.BCEWithLogitsLoss()\n",
        "    loss =  bce(D_out.squeeze(), fake_labels) # probably should have D_out.squeeze()\n",
        "    return loss"
      ],
      "execution_count": 0,
      "outputs": []
    },
    {
      "cell_type": "markdown",
      "metadata": {
        "id": "H0aYeWv3s7pV",
        "colab_type": "text"
      },
      "source": [
        "## Optimizers\n",
        "\n",
        "We want to update the generator and discriminator variables separately. So, we'll define two separate Adam optimizers."
      ]
    },
    {
      "cell_type": "code",
      "metadata": {
        "scrolled": true,
        "id": "WUT6Fb0Os7pW",
        "colab_type": "code",
        "colab": {}
      },
      "source": [
        "import torch.optim as optim\n",
        "\n",
        "# learning rate for optimizers\n",
        "lr = 0.002\n",
        "\n",
        "# Create optimizers for the discriminator and generator\n",
        "d_optimizer = optim.Adam(D.parameters(), lr)\n",
        "g_optimizer = optim.Adam(G.parameters(), lr)"
      ],
      "execution_count": 0,
      "outputs": []
    },
    {
      "cell_type": "markdown",
      "metadata": {
        "id": "4hSvnwCPs7pY",
        "colab_type": "text"
      },
      "source": [
        "---\n",
        "## Training\n",
        "\n",
        "Training will involve alternating between training the discriminator and the generator. We'll use our functions `real_loss` and `fake_loss` to help us calculate the discriminator losses in all of the following cases.\n",
        "\n",
        "### Discriminator training\n",
        "1. Compute the discriminator loss on real, training images        \n",
        "2. Generate fake images\n",
        "3. Compute the discriminator loss on fake, generated images     \n",
        "4. Add up real and fake loss\n",
        "5. Perform backpropagation + an optimization step to update the discriminator's weights\n",
        "\n",
        "### Generator training\n",
        "1. Generate fake images\n",
        "2. Compute the discriminator loss on fake images, using **flipped** labels!\n",
        "3. Perform backpropagation + an optimization step to update the generator's weights\n",
        "\n",
        "#### Saving Samples\n",
        "\n",
        "As we train, we'll also print out some loss statistics and save some generated \"fake\" samples."
      ]
    },
    {
      "cell_type": "code",
      "metadata": {
        "scrolled": true,
        "id": "Cl09H68gs7pb",
        "colab_type": "code",
        "colab": {
          "base_uri": "https://localhost:8080/",
          "height": 2057
        },
        "outputId": "7e866862-31f2-4494-937d-7733c0f3c82e"
      },
      "source": [
        "import pickle as pkl\n",
        "\n",
        "# training hyperparams\n",
        "num_epochs = 40\n",
        "\n",
        "# keep track of loss and generated, \"fake\" samples\n",
        "samples = []\n",
        "losses = []\n",
        "\n",
        "print_every = 400\n",
        "\n",
        "# Get some fixed data for sampling. These are images that are held\n",
        "# constant throughout training, and allow us to inspect the model's performance\n",
        "sample_size=16\n",
        "fixed_z = np.random.uniform(-1, 1, size=(sample_size, z_size))\n",
        "fixed_z = torch.from_numpy(fixed_z).float()\n",
        "\n",
        "# train the network\n",
        "D.train()\n",
        "G.train()\n",
        "for epoch in range(num_epochs):\n",
        "    \n",
        "    for batch_i, (real_images, _) in enumerate(train_loader):\n",
        "                \n",
        "        batch_size = real_images.size(0)\n",
        "        \n",
        "        ## Important rescaling step ## \n",
        "        real_images = real_images*2 - 1  # rescale input images from [0,1) to [-1, 1)\n",
        "        \n",
        "        # ============================================\n",
        "        #            TRAIN THE DISCRIMINATOR\n",
        "        # ============================================\n",
        "                \n",
        "        # 1. Train with real images\n",
        "        \n",
        "        ## Zero out gradients on optimizer!\n",
        "        d_optimizer.zero_grad()\n",
        "\n",
        "        # Compute the discriminator losses on real images\n",
        "        # use smoothed labels\n",
        "        D_out = D(real_images)\n",
        "        r_loss = real_loss(D_out, smooth=True)        \n",
        "        \n",
        "        # 2. Train with fake images\n",
        "        \n",
        "        # Generate fake images\n",
        "        z = np.random.uniform(-1, 1, size=(batch_size, z_size))\n",
        "        z = torch.from_numpy(z).float()\n",
        "        fake_images = G(z)\n",
        "        \n",
        "        # Compute the discriminator losses on fake images\n",
        "        D_out = D(fake_images)\n",
        "        f_loss = fake_loss(D_out)\n",
        "        \n",
        "        # add up real and fake losses and perform backprop\n",
        "        d_loss = r_loss + f_loss\n",
        "        \n",
        "        d_loss.backward()\n",
        "        d_optimizer.step()\n",
        "        \n",
        "        \n",
        "        # =========================================\n",
        "        #            TRAIN THE GENERATOR\n",
        "        # =========================================\n",
        "        \n",
        "        # 1. Train with fake images and flipped labels\n",
        "        \n",
        "        ## Zero out gradients on optimizer!\n",
        "        g_optimizer.zero_grad()\n",
        "        \n",
        "        # Generate fake images\n",
        "        z = np.random.uniform(-1, 1, size=(batch_size, z_size))\n",
        "        z = torch.from_numpy(z).float()\n",
        "        fake_images = G(z)\n",
        "        \n",
        "        # Compute the discriminator losses on fake images \n",
        "        # using flipped labels!\n",
        "        D_out = D(fake_images)\n",
        "        f_loss = real_loss(D_out)\n",
        "        \n",
        "        # perform backprop\n",
        "        g_loss = f_loss\n",
        "        g_loss.backward()\n",
        "        g_optimizer.step()        \n",
        "\n",
        "        # Print some loss stats\n",
        "        if batch_i % print_every == 0:\n",
        "            # print discriminator and generator loss\n",
        "            print('Epoch [{:5d}/{:5d}] | d_loss: {:6.4f} | g_loss: {:6.4f}'.format(\n",
        "                    epoch+1, num_epochs, d_loss.item(), g_loss.item()))\n",
        "\n",
        "    \n",
        "    ## AFTER EACH EPOCH##\n",
        "    # append discriminator loss and generator loss\n",
        "    losses.append((d_loss.item(), g_loss.item()))\n",
        "    \n",
        "    # generate and save sample, fake images\n",
        "    G.eval() # eval mode for generating samples\n",
        "    samples_z = G(fixed_z)\n",
        "    samples.append(samples_z)\n",
        "    G.train() # back to train mode\n",
        "\n",
        "\n",
        "# Save training generator samples\n",
        "with open('train_samples.pkl', 'wb') as f:\n",
        "    pkl.dump(samples, f)"
      ],
      "execution_count": 11,
      "outputs": [
        {
          "output_type": "stream",
          "text": [
            "Epoch [    1/   40] | d_loss: 1.3508 | g_loss: 0.7348\n",
            "Epoch [    1/   40] | d_loss: 0.8823 | g_loss: 14.4535\n",
            "Epoch [    1/   40] | d_loss: 1.0031 | g_loss: 3.0329\n",
            "Epoch [    2/   40] | d_loss: 0.8836 | g_loss: 6.9916\n",
            "Epoch [    2/   40] | d_loss: 0.8703 | g_loss: 2.4663\n",
            "Epoch [    2/   40] | d_loss: 1.1456 | g_loss: 2.1667\n",
            "Epoch [    3/   40] | d_loss: 1.3180 | g_loss: 1.8332\n",
            "Epoch [    3/   40] | d_loss: 0.7998 | g_loss: 1.9797\n",
            "Epoch [    3/   40] | d_loss: 1.3163 | g_loss: 2.0195\n",
            "Epoch [    4/   40] | d_loss: 1.2138 | g_loss: 1.8026\n",
            "Epoch [    4/   40] | d_loss: 0.9913 | g_loss: 1.5509\n",
            "Epoch [    4/   40] | d_loss: 1.1327 | g_loss: 1.3180\n",
            "Epoch [    5/   40] | d_loss: 1.2507 | g_loss: 1.4472\n",
            "Epoch [    5/   40] | d_loss: 1.0350 | g_loss: 1.7803\n",
            "Epoch [    5/   40] | d_loss: 1.2689 | g_loss: 1.0717\n",
            "Epoch [    6/   40] | d_loss: 1.1428 | g_loss: 1.4661\n",
            "Epoch [    6/   40] | d_loss: 1.2054 | g_loss: 1.0260\n",
            "Epoch [    6/   40] | d_loss: 1.2586 | g_loss: 1.0496\n",
            "Epoch [    7/   40] | d_loss: 1.2626 | g_loss: 0.9373\n",
            "Epoch [    7/   40] | d_loss: 1.3255 | g_loss: 1.3864\n",
            "Epoch [    7/   40] | d_loss: 1.0681 | g_loss: 1.1875\n",
            "Epoch [    8/   40] | d_loss: 1.2121 | g_loss: 1.2787\n",
            "Epoch [    8/   40] | d_loss: 1.2761 | g_loss: 1.2285\n",
            "Epoch [    8/   40] | d_loss: 1.3006 | g_loss: 1.0661\n",
            "Epoch [    9/   40] | d_loss: 1.3921 | g_loss: 0.8590\n",
            "Epoch [    9/   40] | d_loss: 1.1843 | g_loss: 1.5027\n",
            "Epoch [    9/   40] | d_loss: 1.3624 | g_loss: 1.5871\n",
            "Epoch [   10/   40] | d_loss: 1.3669 | g_loss: 1.9162\n",
            "Epoch [   10/   40] | d_loss: 1.2185 | g_loss: 1.4061\n",
            "Epoch [   10/   40] | d_loss: 1.2439 | g_loss: 0.9510\n",
            "Epoch [   11/   40] | d_loss: 1.3586 | g_loss: 0.9883\n",
            "Epoch [   11/   40] | d_loss: 1.2468 | g_loss: 1.0789\n",
            "Epoch [   11/   40] | d_loss: 1.4810 | g_loss: 1.1898\n",
            "Epoch [   12/   40] | d_loss: 1.3722 | g_loss: 1.2707\n",
            "Epoch [   12/   40] | d_loss: 1.0729 | g_loss: 1.8476\n",
            "Epoch [   12/   40] | d_loss: 1.5486 | g_loss: 1.3359\n",
            "Epoch [   13/   40] | d_loss: 1.2317 | g_loss: 1.1969\n",
            "Epoch [   13/   40] | d_loss: 1.1769 | g_loss: 1.1747\n",
            "Epoch [   13/   40] | d_loss: 1.4119 | g_loss: 1.0937\n",
            "Epoch [   14/   40] | d_loss: 1.4668 | g_loss: 0.8186\n",
            "Epoch [   14/   40] | d_loss: 1.2969 | g_loss: 1.3373\n",
            "Epoch [   14/   40] | d_loss: 1.2292 | g_loss: 0.9258\n",
            "Epoch [   15/   40] | d_loss: 1.3123 | g_loss: 1.5628\n",
            "Epoch [   15/   40] | d_loss: 1.3465 | g_loss: 1.2492\n",
            "Epoch [   15/   40] | d_loss: 1.3484 | g_loss: 1.2020\n",
            "Epoch [   16/   40] | d_loss: 1.2490 | g_loss: 0.8607\n",
            "Epoch [   16/   40] | d_loss: 1.1321 | g_loss: 1.1389\n",
            "Epoch [   16/   40] | d_loss: 1.4340 | g_loss: 1.2297\n",
            "Epoch [   17/   40] | d_loss: 1.1629 | g_loss: 1.2525\n",
            "Epoch [   17/   40] | d_loss: 1.4277 | g_loss: 0.9281\n",
            "Epoch [   17/   40] | d_loss: 1.2986 | g_loss: 0.8236\n",
            "Epoch [   18/   40] | d_loss: 1.3262 | g_loss: 1.1740\n",
            "Epoch [   18/   40] | d_loss: 1.2539 | g_loss: 1.1398\n",
            "Epoch [   18/   40] | d_loss: 1.4130 | g_loss: 1.0175\n",
            "Epoch [   19/   40] | d_loss: 1.4372 | g_loss: 0.9336\n",
            "Epoch [   19/   40] | d_loss: 1.4077 | g_loss: 0.8955\n",
            "Epoch [   19/   40] | d_loss: 1.4458 | g_loss: 1.0308\n",
            "Epoch [   20/   40] | d_loss: 1.3928 | g_loss: 0.9694\n",
            "Epoch [   20/   40] | d_loss: 1.2168 | g_loss: 1.0478\n",
            "Epoch [   20/   40] | d_loss: 1.3444 | g_loss: 1.0831\n",
            "Epoch [   21/   40] | d_loss: 1.3490 | g_loss: 1.1197\n",
            "Epoch [   21/   40] | d_loss: 1.2623 | g_loss: 0.9648\n",
            "Epoch [   21/   40] | d_loss: 1.2780 | g_loss: 0.8850\n",
            "Epoch [   22/   40] | d_loss: 1.4034 | g_loss: 1.0100\n",
            "Epoch [   22/   40] | d_loss: 1.4060 | g_loss: 1.3395\n",
            "Epoch [   22/   40] | d_loss: 1.1824 | g_loss: 1.0291\n",
            "Epoch [   23/   40] | d_loss: 1.4740 | g_loss: 1.2968\n",
            "Epoch [   23/   40] | d_loss: 1.2317 | g_loss: 1.0530\n",
            "Epoch [   23/   40] | d_loss: 1.4081 | g_loss: 1.1907\n",
            "Epoch [   24/   40] | d_loss: 1.4125 | g_loss: 1.1458\n",
            "Epoch [   24/   40] | d_loss: 1.3246 | g_loss: 0.9682\n",
            "Epoch [   24/   40] | d_loss: 1.3985 | g_loss: 1.0449\n",
            "Epoch [   25/   40] | d_loss: 1.3860 | g_loss: 1.1434\n",
            "Epoch [   25/   40] | d_loss: 1.5057 | g_loss: 1.0694\n",
            "Epoch [   25/   40] | d_loss: 1.5517 | g_loss: 1.0849\n",
            "Epoch [   26/   40] | d_loss: 1.2364 | g_loss: 1.2242\n",
            "Epoch [   26/   40] | d_loss: 1.2798 | g_loss: 1.3907\n",
            "Epoch [   26/   40] | d_loss: 1.3271 | g_loss: 1.1545\n",
            "Epoch [   27/   40] | d_loss: 1.2916 | g_loss: 1.6828\n",
            "Epoch [   27/   40] | d_loss: 1.2376 | g_loss: 0.9849\n",
            "Epoch [   27/   40] | d_loss: 1.3217 | g_loss: 0.9592\n",
            "Epoch [   28/   40] | d_loss: 1.3728 | g_loss: 0.9482\n",
            "Epoch [   28/   40] | d_loss: 1.3137 | g_loss: 1.0094\n",
            "Epoch [   28/   40] | d_loss: 1.4634 | g_loss: 1.0790\n",
            "Epoch [   29/   40] | d_loss: 1.3072 | g_loss: 0.8554\n",
            "Epoch [   29/   40] | d_loss: 1.3729 | g_loss: 1.1596\n",
            "Epoch [   29/   40] | d_loss: 1.3802 | g_loss: 1.0078\n",
            "Epoch [   30/   40] | d_loss: 1.3477 | g_loss: 1.1125\n",
            "Epoch [   30/   40] | d_loss: 1.4408 | g_loss: 0.8658\n",
            "Epoch [   30/   40] | d_loss: 1.5343 | g_loss: 0.6741\n",
            "Epoch [   31/   40] | d_loss: 1.3274 | g_loss: 0.9303\n",
            "Epoch [   31/   40] | d_loss: 1.3442 | g_loss: 1.1579\n",
            "Epoch [   31/   40] | d_loss: 1.4857 | g_loss: 0.9552\n",
            "Epoch [   32/   40] | d_loss: 1.2457 | g_loss: 1.0336\n",
            "Epoch [   32/   40] | d_loss: 1.2318 | g_loss: 1.0548\n",
            "Epoch [   32/   40] | d_loss: 1.3383 | g_loss: 1.1160\n",
            "Epoch [   33/   40] | d_loss: 1.3339 | g_loss: 1.1980\n",
            "Epoch [   33/   40] | d_loss: 1.2580 | g_loss: 1.2798\n",
            "Epoch [   33/   40] | d_loss: 1.3497 | g_loss: 1.1564\n",
            "Epoch [   34/   40] | d_loss: 1.3288 | g_loss: 1.1393\n",
            "Epoch [   34/   40] | d_loss: 1.3289 | g_loss: 0.9590\n",
            "Epoch [   34/   40] | d_loss: 1.3576 | g_loss: 1.0627\n",
            "Epoch [   35/   40] | d_loss: 1.3352 | g_loss: 1.0093\n",
            "Epoch [   35/   40] | d_loss: 1.2229 | g_loss: 1.3080\n",
            "Epoch [   35/   40] | d_loss: 1.4948 | g_loss: 1.2008\n",
            "Epoch [   36/   40] | d_loss: 1.3001 | g_loss: 1.1474\n",
            "Epoch [   36/   40] | d_loss: 1.3097 | g_loss: 1.2390\n",
            "Epoch [   36/   40] | d_loss: 1.3967 | g_loss: 1.0622\n",
            "Epoch [   37/   40] | d_loss: 1.3749 | g_loss: 1.0130\n",
            "Epoch [   37/   40] | d_loss: 1.2913 | g_loss: 1.1095\n",
            "Epoch [   37/   40] | d_loss: 1.3886 | g_loss: 1.2476\n",
            "Epoch [   38/   40] | d_loss: 1.3714 | g_loss: 0.9235\n",
            "Epoch [   38/   40] | d_loss: 1.3166 | g_loss: 1.0762\n",
            "Epoch [   38/   40] | d_loss: 1.4426 | g_loss: 1.1298\n",
            "Epoch [   39/   40] | d_loss: 1.3658 | g_loss: 0.9514\n",
            "Epoch [   39/   40] | d_loss: 1.2896 | g_loss: 0.8349\n",
            "Epoch [   39/   40] | d_loss: 1.5174 | g_loss: 0.9667\n",
            "Epoch [   40/   40] | d_loss: 1.4909 | g_loss: 0.9531\n",
            "Epoch [   40/   40] | d_loss: 1.3011 | g_loss: 1.0766\n",
            "Epoch [   40/   40] | d_loss: 1.4154 | g_loss: 1.1885\n"
          ],
          "name": "stdout"
        }
      ]
    },
    {
      "cell_type": "markdown",
      "metadata": {
        "id": "lLS7aFcis7pf",
        "colab_type": "text"
      },
      "source": [
        "## Training loss\n",
        "\n",
        "Here we'll plot the training losses for the generator and discriminator, recorded after each epoch."
      ]
    },
    {
      "cell_type": "code",
      "metadata": {
        "id": "AcaSE9fCs7pg",
        "colab_type": "code",
        "colab": {
          "base_uri": "https://localhost:8080/",
          "height": 298
        },
        "outputId": "6abf43e2-5874-4f4d-d3ed-cdee4b99c398"
      },
      "source": [
        "fig, ax = plt.subplots()\n",
        "losses = np.array(losses)\n",
        "plt.plot(losses.T[0], label='Discriminator')\n",
        "plt.plot(losses.T[1], label='Generator')\n",
        "plt.title(\"Training Losses\")\n",
        "plt.legend()"
      ],
      "execution_count": 12,
      "outputs": [
        {
          "output_type": "execute_result",
          "data": {
            "text/plain": [
              "<matplotlib.legend.Legend at 0x7f88d3d3acf8>"
            ]
          },
          "metadata": {
            "tags": []
          },
          "execution_count": 12
        },
        {
          "output_type": "display_data",
          "data": {
            "image/png": "[encoded data removed]",
            "text/plain": [
              "<Figure size 432x288 with 1 Axes>"
            ]
          },
          "metadata": {
            "tags": []
          }
        }
      ]
    },
    {
      "cell_type": "markdown",
      "metadata": {
        "id": "oRNjNNtis7pi",
        "colab_type": "text"
      },
      "source": [
        "## Generator samples from training\n",
        "\n",
        "Here we can view samples of images from the generator. First we'll look at the images we saved during training."
      ]
    },
    {
      "cell_type": "code",
      "metadata": {
        "id": "rNq8u8HVs7pi",
        "colab_type": "code",
        "colab": {}
      },
      "source": [
        "# helper function for viewing a list of passed in sample images\n",
        "def view_samples(epoch, samples):\n",
        "    fig, axes = plt.subplots(figsize=(7,7), nrows=4, ncols=4, sharey=True, sharex=True)\n",
        "    for ax, img in zip(axes.flatten(), samples[epoch]):\n",
        "        img = img.detach()\n",
        "        ax.xaxis.set_visible(False)\n",
        "        ax.yaxis.set_visible(False)\n",
        "        im = ax.imshow(img.reshape((28,28)), cmap='Greys_r')"
      ],
      "execution_count": 0,
      "outputs": []
    },
    {
      "cell_type": "code",
      "metadata": {
        "id": "wzkDkSJns7pk",
        "colab_type": "code",
        "colab": {}
      },
      "source": [
        "# Load samples from generator, taken while training\n",
        "with open('train_samples.pkl', 'rb') as f:\n",
        "    samples = pkl.load(f)"
      ],
      "execution_count": 0,
      "outputs": []
    },
    {
      "cell_type": "markdown",
      "metadata": {
        "id": "sBNKiqrEs7pp",
        "colab_type": "text"
      },
      "source": [
        "These are samples from the final training epoch. You can see the generator is able to reproduce numbers like 1, 7, 3, 2. Since this is just a sample, it isn't representative of the full range of images this generator can make."
      ]
    },
    {
      "cell_type": "code",
      "metadata": {
        "id": "WZLGe7OJs7pp",
        "colab_type": "code",
        "colab": {
          "base_uri": "https://localhost:8080/",
          "height": 411
        },
        "outputId": "b7887569-99bf-4e8f-dbb8-a8dfaca8e99d"
      },
      "source": [
        "# -1 indicates final epoch's samples (the last in the list)\n",
        "view_samples(-1, samples)"
      ],
      "execution_count": 15,
      "outputs": [
        {
          "output_type": "display_data",
          "data": {
            "image/png": "[encoded data removed]",
            "text/plain": [
              "<Figure size 504x504 with 16 Axes>"
            ]
          },
          "metadata": {
            "tags": []
          }
        }
      ]
    },
    {
      "cell_type": "markdown",
      "metadata": {
        "id": "RWiX44jas7pu",
        "colab_type": "text"
      },
      "source": [
        "Below I'm showing the generated images as the network was training, every 10 epochs."
      ]
    },
    {
      "cell_type": "code",
      "metadata": {
        "id": "M59lhFp7s7pv",
        "colab_type": "code",
        "colab": {
          "base_uri": "https://localhost:8080/",
          "height": 683
        },
        "outputId": "0abdd316-15d7-4ca3-80ce-080e941bc019"
      },
      "source": [
        "rows = 10 # split epochs into 10, so 100/10 = every 10 epochs\n",
        "cols = 6\n",
        "fig, axes = plt.subplots(figsize=(7,12), nrows=rows, ncols=cols, sharex=True, sharey=True)\n",
        "\n",
        "for sample, ax_row in zip(samples[::int(len(samples)/rows)], axes):\n",
        "    for img, ax in zip(sample[::int(len(sample)/cols)], ax_row):\n",
        "        img = img.detach()\n",
        "        ax.imshow(img.reshape((28,28)), cmap='Greys_r')\n",
        "        ax.xaxis.set_visible(False)\n",
        "        ax.yaxis.set_visible(False)"
      ],
      "execution_count": 16,
      "outputs": [
        {
          "output_type": "display_data",
          "data": {
            "image/png": "[encoded data removed]",
            "text/plain": [
              "<Figure size 504x864 with 60 Axes>"
            ]
          },
          "metadata": {
            "tags": []
          }
        }
      ]
    },
    {
      "cell_type": "markdown",
      "metadata": {
        "id": "7aQD0ElDs7pz",
        "colab_type": "text"
      },
      "source": [
        "It starts out as all noise. Then it learns to make only the center white and the rest black. You can start to see some number like structures appear out of the noise like 1s and 9s."
      ]
    },
    {
      "cell_type": "markdown",
      "metadata": {
        "id": "Y4efOJHXs7p0",
        "colab_type": "text"
      },
      "source": [
        "## Sampling from the generator\n",
        "\n",
        "We can also get completely new images from the generator by using the checkpoint we saved after training. **We just need to pass in a new latent vector $z$ and we'll get new samples**!"
      ]
    },
    {
      "cell_type": "code",
      "metadata": {
        "id": "RC_wMJtzs7p1",
        "colab_type": "code",
        "colab": {
          "base_uri": "https://localhost:8080/",
          "height": 411
        },
        "outputId": "0a7f2168-fe85-4f8a-c448-9b7df78070e5"
      },
      "source": [
        "# randomly generated, new latent vectors\n",
        "sample_size=16\n",
        "rand_z = np.random.uniform(-1, 1, size=(sample_size, z_size))\n",
        "rand_z = torch.from_numpy(rand_z).float()\n",
        "\n",
        "G.eval() # eval mode\n",
        "# generated samples\n",
        "rand_images = G(rand_z)\n",
        "\n",
        "# 0 indicates the first set of samples in the passed in list\n",
        "# and we only have one batch of samples, here\n",
        "view_samples(0, [rand_images])"
      ],
      "execution_count": 17,
      "outputs": [
        {
          "output_type": "display_data",
          "data": {
            "image/png": "[encoded data removed]",
            "text/plain": [
              "<Figure size 504x504 with 16 Axes>"
            ]
          },
          "metadata": {
            "tags": []
          }
        }
      ]
    },
    {
      "cell_type": "code",
      "metadata": {
        "id": "c0EFf_Nvw5hO",
        "colab_type": "code",
        "colab": {}
      },
      "source": [
        ""
      ],
      "execution_count": 0,
      "outputs": []
    }
  ]
}