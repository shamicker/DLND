{
 "cells": [
  {
   "cell_type": "markdown",
   "metadata": {
    "colab_type": "text",
    "id": "sYGOTpbSx7f4"
   },
   "source": [
    "# **Deep Learning**\n",
    "inside the field of machine learning, using massive datasets, accelerated computing on GPU (graphics processing units)"
   ]
  },
  {
   "cell_type": "markdown",
   "metadata": {
    "colab_type": "text",
    "id": "9VL8MDP3x7f6"
   },
   "source": [
    "## **PyTorch**\n",
    "- open-source Python framework\n",
    "- from Facebook's AI Research team (FAIR)\n",
    "- used for developing deep neural networks"
   ]
  },
  {
   "cell_type": "markdown",
   "metadata": {
    "colab_type": "text",
    "id": "qmC4h0Sgx7f7"
   },
   "source": [
    "## **Neural Network**\n",
    "\n",
    "- imitates how a brain works\n",
    "- in the same way as in a brain\n",
    "    - the *input* nodes are one-way streets to a calculation node\n",
    "    - some decision happens there, and produces a one-way action to the output\n",
    "        - in a brain it happens or it doesn't, but here it should always happen but with different results\n",
    "\n",
    "\n",
    "- basically, it finds a boundary between different categories (like flower species)"
   ]
  },
  {
   "cell_type": "markdown",
   "metadata": {
    "colab_type": "text",
    "id": "GtyJXTNZx7f8"
   },
   "source": [
    "## General deep learning terms"
   ]
  },
  {
   "cell_type": "markdown",
   "metadata": {
    "colab_type": "text",
    "id": "5fjJEeTff2Fu"
   },
   "source": [
    "### **Features**\n",
    "- inputs\n",
    "- the data that is input into a neural network for it to study\n",
    "- `features.shape` gives `n_records`, `n_inputs`\n",
    "    - `n_records` is the number of, say, students in a class\n",
    "    - `n_inputs` is the number of inputs per student"
   ]
  },
  {
   "cell_type": "markdown",
   "metadata": {
    "colab_type": "text",
    "id": "97UD5T4Xf4eD"
   },
   "source": [
    "### **Targets** \n",
    "- the desired outcomes, usually already known in order to train a model\n",
    "- denoted by $y$"
   ]
  },
  {
   "cell_type": "markdown",
   "metadata": {
    "colab_type": "text",
    "id": "DMKSNlsBf8Je"
   },
   "source": [
    "### **Prediction** \n",
    "- the output; the prediction of how items are categorized\n",
    "- aka **score**\n",
    "- aka **logits**\n",
    "- denoted by $\\hat{y}$\n",
    "- basically the weights times the features\n",
    "    - $\\hat{y} = Wx$ or $\\hat{y} = f(Wx)$\n",
    "    - often put through an activation function, but not always (depends what you need the output to be)\n",
    "    - for any specific weight located at $i$: $\\hat{y} = f(\\sum_i w_{i}x_{i})$ \n"
   ]
  },
  {
   "cell_type": "markdown",
   "metadata": {
    "colab_type": "text",
    "id": "VLfSDtvd3WeC"
   },
   "source": [
    "### **Activation Functions**\n",
    "- a way of presenting output; preparing it for the next step"
   ]
  },
  {
   "cell_type": "markdown",
   "metadata": {
    "colab_type": "text",
    "id": "YkjB4uC7x7f8"
   },
   "source": [
    "### **Linear Boundaries**\n",
    "\n",
    "- a boundary that's linear\n",
    "- this is the simplest solution/output produced by a neural network (ie to differentiate between the target categories)\n",
    "- calculated with $Wx + b = 0$, where `W` is some weights, and `b` is a bias\n",
    "\n",
    "\n",
    "- there are higher dimensions: curves, planes, etc."
   ]
  },
  {
   "cell_type": "markdown",
   "metadata": {
    "colab_type": "text",
    "id": "C63lgDA4x7gE"
   },
   "source": [
    "### **Non-Linear Models**\n",
    "\n",
    "![combining linear regions](https://raw.githubusercontent.com/shamicker/pytorch-challenge/master/images/combining_regions.PNG)"
   ]
  },
  {
   "cell_type": "markdown",
   "metadata": {
    "colab_type": "text",
    "id": "B96y7-h6x7f9"
   },
   "source": [
    "### **Perceptron**\n",
    "- a building block of neural networks\n",
    "- a visualisation of an equation into a small graph, where\n",
    "    - each input $x$ is in a node\n",
    "    - the weights $w$ are labeled on the *edges* (the arrows) of the input nodes\n",
    "    - the bias $b$ can either be in the calculation node or viewed as an *input* node\n",
    "        - usually the bias is considered a *weight* for an input of constant $1$, as in this image\n",
    "    - the calculation is also in a node\n",
    "    - the prediction is the return value\n",
    "\n",
    "![perceptron with summing equation](https://raw.githubusercontent.com/shamicker/pytorch-challenge/master/images/perceptron-summation.PNG)"
   ]
  },
  {
   "cell_type": "markdown",
   "metadata": {
    "colab_type": "text",
    "id": "3ny48QRhx7f-"
   },
   "source": [
    "#### **Examples of Perceptrons as Logical Operators**\n",
    "\n",
    "An AND perceptron:\n",
    "![an AND perceptron visualized](https://raw.githubusercontent.com/shamicker/pytorch-challenge/master/images/and-perceptron.PNG)\n",
    "\n",
    "An OR perceptron:\n",
    "![an OR perceptron visualized](https://raw.githubusercontent.com/shamicker/pytorch-challenge/master/images/perceptron-or.PNG)\n",
    "\n",
    "\n",
    "An XOR perceptron, which is either or, but not both and not neither:\n",
    "![an XOR perceptron visualized](https://raw.githubusercontent.com/shamicker/pytorch-challenge/master/images/perceptron-xor.PNG)\n",
    "\n",
    "\n",
    "**2 different visuals for the XOR perceptron**\n",
    "![an XOR neural network](https://raw.githubusercontent.com/shamicker/pytorch-challenge/master/images/xor-neuralnetwork.PNG)\n",
    "\n",
    "![an XOR multi-layer perceptron](https://raw.githubusercontent.com/shamicker/pytorch-challenge/master/images/xor-multi-layer-perceptron.PNG)"
   ]
  },
  {
   "cell_type": "markdown",
   "metadata": {
    "colab_type": "text",
    "id": "6RjBy76Bx7f_"
   },
   "source": [
    "#### **Perceptron Algorithm**\n",
    "- adjusting the linear boundary by \"asking\" each data point if it's been classified correctly or incorrectly"
   ]
  },
  {
   "cell_type": "markdown",
   "metadata": {
    "colab_type": "text",
    "id": "a-XAA2hx3Vf_"
   },
   "source": []
  },
  {
   "cell_type": "markdown",
   "metadata": {
    "colab_type": "text",
    "id": "HyxuGfTax7gD"
   },
   "source": [
    "### **Logistic Regression**\n",
    "- \"the building block of all that constitutes Deep Learning!\"\n",
    "- I think this is the estimation of the relationship between variables (say, x and y in a scatterplot)\n",
    "- basically:\n",
    "    - take your data\n",
    "    - pick a random model\n",
    "    - calculate the error\n",
    "    - minimize the error and obtain a better model\n",
    "    - enjoy!\n",
    "\n",
    "The term \"regression\" goes back to the 19th century and was used to describe a biological phenomenon where the heights of a tall person's descendants *regressed* down towards a normal average.\n"
   ]
  },
  {
   "cell_type": "markdown",
   "metadata": {
    "colab_type": "text",
    "id": "HVN8asiRx7gC"
   },
   "source": [
    "### **Gradient Descent**\n",
    "- the negative slope of the output (for single layer) or loss function (for multi layer) - I think??\n",
    "    - negative because the derivative returns the steepest ascent, but we want descent\n",
    "- is the resulting vector of partial derivatives (for multi layer), with respect to the weights (since the error fn is of the weights)\n",
    "    - points in the direction of fastest change (steepest ascent)\n",
    "- \n"
   ]
  },
  {
   "cell_type": "markdown",
   "metadata": {
    "colab_type": "text",
    "id": "kDF6FMuVgoR_"
   },
   "source": [
    "### **Learning Rate**\n",
    "- when descending via gradient descent, we don't want to take too large of a step so we scale it down. This scaling (amount) is the learning rate."
   ]
  },
  {
   "cell_type": "markdown",
   "metadata": {
    "colab_type": "text",
    "id": "CM17PTDnx7gF"
   },
   "source": [
    "### **Multi-layer Networks**\n",
    "- first layer is the **input layer**\n",
    "- inside layer(s) are the **hidden layer**\n",
    "- final layer is the **output layer**\n",
    "\n",
    "For multi-class, multi-layer networks, usually have an ouput node for each class, giving a probability for each class."
   ]
  },
  {
   "cell_type": "markdown",
   "metadata": {
    "colab_type": "text",
    "id": "eNE3eqIix7gG"
   },
   "source": [
    "### **Feedforward**\n",
    "- the forward step in training; from in to out\n",
    "- the weights of each layer are denoted by the superscript $(i)$, starting at $1$ for the input layer\n",
    "    - ie $W^{(1)}$, $W^{(i)}$\n",
    "\n",
    "- the whole equation, if using Sigmoid as the activation functions:\n",
    "$\\hat{y} = \\sigma \\big(W^{(2)}\\big) \\cdot \\sigma \\big(W^{(1)}\\big) \\cdot x$"
   ]
  },
  {
   "cell_type": "markdown",
   "metadata": {
    "colab_type": "text",
    "id": "Yynm90_jx7gH"
   },
   "source": [
    "### **Backpropagation**\n",
    "- asks \"Which model within the hidden layer is doing better?\"\n",
    "- asks each point to give a grade, and then it updates the weights of that layer \n",
    "- Think of this as flipping the model around\n",
    "    - *You're now doing the same thing in the reverse direction, but **using the Error as inputs**.*\n",
    "\n",
    "Steps:\n",
    "- Do a feedforward operation \n",
    "- Calculate the error\n",
    "- Optionally, calculate the **error term**: the error times the slope of the prediction\n",
    "    - \"optionally\" - I believe this is calculated when calculating manually. It's sort of built in to the modules\n",
    "- Run the feedforward operation backwards (which is backpropagation) to spread the error to each of the weights\n",
    "- Use this to update the weights, and get a better model\n",
    "- Repeat until we have a good model\n",
    "\n",
    "\n",
    "So in code, or in math terms:\n",
    "- forward step\n",
    "    - $\\hat{y} = f(W\\cdot x)$\n",
    "- error\n",
    "    - $E = y - \\hat{y}$\n",
    "- error term\n",
    "    - $\\delta = E * \\sigma'(x)$\n",
    "    - $\\delta = (y - \\hat{y}) * f'(\\sum_i w_{i}x_{i})$\n",
    "- backprop\n",
    "    - $\\Delta w_{i} = \\Delta w_{i} + \\delta x_{i}$  \n",
    "- update the weights\n",
    "    - $W = W + learnrate * \\Delta w / len(W)$  \n",
    "    -- This seems to be inaccurate. I think it's without the $learnrate$"
   ]
  },
  {
   "cell_type": "markdown",
   "metadata": {
    "colab_type": "text",
    "id": "rSGiv894yrXx"
   },
   "source": [
    "#### Backpropagation Math\n",
    "\n",
    "![very simple network](\"./backprop_network.png\")\n",
    "\n",
    "In case the image doesn't appear:\n",
    "- 2 input/feature nodes: $x = [0.1, 0.3]$\n",
    "- the 2 weights: $W^{(1)} = [0.4, -0.2]$\n",
    "- there's a single hidden layer with a single node  \n",
    "- activation function of hidden layer ($h$) is $sigmoid()$\n",
    "- weight of hidden layer to the single output node is $[0.1]$\n",
    "- activation function of output layer is $sigmoid()$\n",
    "- as usual, the output is $\\hat{y}$\n",
    "\n",
    "Start with the forward pass.  \n",
    "- Calculate the input to the hidden layer  \n",
    "$h = features \\times weights$  \n",
    "$h = W^{(1)}x$  \n",
    "$h = \\sum_{ij} w_{ij}x_{ij}$  \n",
    "$h = 0.1\\times 0.4 + (-0.2) \\times 0.3 = -0.02$\n",
    "\n",
    "- Calculate the output of the hidden unit ($h$, activated)  \n",
    "$a = \\sigma(h)$  \n",
    "$a =\\sigma(-0.02)$  \n",
    "$a = 0.495$\n",
    "\n",
    "- Calculate the input of the output layer (hidden output $a$, times weights, activated)   \n",
    "$\\hat{y} = \\sigma(W^{(2)}\\cdot a)$  \n",
    "$\\hat{y} = \\sigma(0.1\\times 0.495)$  \n",
    "$\\hat{y} = 0.512$\n",
    "\n",
    "Now for the backpropagation.  \n",
    "We already know the derivative of the sigmoid function is $\\sigma'(x) = \\sigma(x) \\cdot (1 - \\sigma(x))$, and that the error $E = y - \\hat{y}$. We also will have a `learning_rate` of $\\eta = 0.5$.\n",
    "\n",
    "Calculate the **error terms**.\n",
    "\n",
    "- Calculate the **output layer error** (error times output's derivative)  \n",
    "$\\delta^{o} = E \\cdot \\hat{y}'$  \n",
    "$\\delta^{o} = (y - \\hat{y})\\cdot \\hat{y}'$  \n",
    "$\\delta^{o} = (y - \\hat{y})\\cdot\\hat{y}\\cdot(1 - \\hat{y})$  \n",
    "(aka)  \n",
    "$\\delta^{o} = (y - \\hat{y})\\cdot\\sigma'(W^{(2)}\\cdot a)$  \n",
    "$\\delta^{o} = (y - \\hat{y})\\cdot \\sigma(W^{(2)}\\cdot a)\\cdot(1 - \\sigma(W^{(2)}\\cdot a))$   \n",
    "$\\delta^{o} = (1 - 0.512) \\times 0.512 \\times (1 - 0.512)$  \n",
    "$\\delta^{o} = 0.122$\n",
    "\n",
    "- Calculate the **hidden layer error**.  \n",
    "$\\delta^{h} = W^{(2)}\\cdot E\\cdot \\hat{y}'\\cdot a'$  \n",
    "$\\delta^{h} = W^{(2)}\\cdot\\delta^{o}\\cdot\\sigma'(h)$  \n",
    "$\\delta^{h} = W^{(2)}\\cdot\\delta^{o}\\cdot\\sigma(h)\\cdot(1 - \\sigma(h))$  \n",
    "$\\delta^{h} = 0.1 \\times0.122 \\times 0.495 \\times(1 - 0.495)$  \n",
    "$\\delta^{h} = 0.003$  \n",
    "\n",
    "Calculate gradient descent steps.\n",
    "\n",
    "- Calculate the weight step from the hidden to output layer. (learning rate times output layer error, times the hidden layer activation value)  \n",
    "$\\Delta W^{(2)} = \\eta\\cdot\\delta^{o}\\cdot a$  \n",
    "$\\Delta W^{(2)} = 0.5 \\times 0.122 \\times 0.495$  \n",
    "$\\Delta W^{(2)} = 0.0302$  \n",
    "\n",
    "- Calculate the weight step from the input to hidden layer $w_{i}$ (learning rate times hidden layer error, times the input values)  \n",
    "$\\delta w_{i} = \\eta\\cdot\\delta^{h}\\cdot x_{i}$  \n",
    "$\\delta w_{1} = 0.5\\times 0.003\\times 0.1$  \n",
    "$\\delta w_{2} = 0.5\\times 0.003\\times 0.3$  \n",
    "$\\delta w_{1} = 0.00015$  \n",
    "$\\delta w_{2} = 0.00045$  \n",
    "$\\delta w = (0.00015, 0.00045)$"
   ]
  },
  {
   "cell_type": "markdown",
   "metadata": {
    "colab_type": "text",
    "id": "e0pBtZa9V6mc"
   },
   "source": [
    "## Problems that will come up\n",
    "While we can just bulldoze ahead and train a neural network, there are some issues that will appear pretty soon.\n",
    "\n",
    "Here are some of them, with some popular solutions."
   ]
  },
  {
   "cell_type": "markdown",
   "metadata": {
    "colab_type": "text",
    "id": "7MjSxYHwBhWn"
   },
   "source": [
    "### Vanishing Gradient\n",
    "The max derivative of the sigmoid function is 0.25 (think about it!), so\n",
    "- errors in the output layer get reduced by at least 75%, and\n",
    "- errors in the hidden layer are scaled down by at least 93.75%!!\n",
    "\n",
    "So if there are lots of layers, using a sigmoid activation function produces itty, bitty, teeny, tiny steps knows as the **vanishing gradient**.\n",
    "\n",
    "Solutions: use other activation functions."
   ]
  },
  {
   "cell_type": "markdown",
   "metadata": {
    "colab_type": "text",
    "id": "5OX-h18W-cHH"
   },
   "source": [
    "### Over- and Under-fitting\n",
    "- We'll err on the side of overfitting, and then use techniques to make it fit better (like, a belt to hold up too-big pants, rather than using the too-small pants)\n",
    "\n"
   ]
  },
  {
   "cell_type": "markdown",
   "metadata": {
    "colab_type": "text",
    "id": "-ZYl_p8o_QDo"
   },
   "source": [
    "#### Early Stopping\n",
    "- just train for less epochs\n",
    "    - Save your model at points where both the training and the testing losses diminish."
   ]
  },
  {
   "cell_type": "markdown",
   "metadata": {
    "colab_type": "text",
    "id": "nXhzoK9CAJYP"
   },
   "source": [
    "#### Regularization\n",
    "Since our activation function creates a *vanishing gradient* (I think this is the reason?), we will *regularize* the data by penalizing large weights.\n",
    "- example: for points $(1, 1)$ and $(-1, -1)$  \n",
    "    ($10x_{1} + 10x_{2}$) has an error of $0.000000012$  \n",
    "    ($x_{1} + x_{2}$) has an error of $0.12$  \n",
    "    So it's most likely that the former is over-fitted\n",
    "    \n",
    "In the above example, we penalize the large weights (10x) because they produce less error.\n",
    "\n",
    "There are a couple ways of doing this.\n",
    "    "
   ]
  },
  {
   "cell_type": "markdown",
   "metadata": {
    "colab_type": "text",
    "id": "k2eDYMOtHGQE"
   },
   "source": [
    "##### L1 Regularization\n",
    "Add the sum of absolute weights to the error function\n",
    "\n",
    "$E + \\lambda(|w_{1}| + \\cdots + |w_{n}|)$  \n",
    "\n",
    "The $\\lambda$ is just a coefficient of scale\n",
    "\n",
    "When applied, tend to end up with sparse vectors.  \n",
    "The small weights tend to go to zero, so we're basically only left with the large weights.\n",
    "- good for feature selection"
   ]
  },
  {
   "cell_type": "markdown",
   "metadata": {
    "colab_type": "text",
    "id": "qAArqTwpH4O4"
   },
   "source": [
    "##### L2 Regularization\n",
    "Add the sum of squared weights to the error function  \n",
    "$E + \\lambda(w_{1}^2 + \\cdots + w_{n}^2)$\n",
    "\n",
    "Again, $\\lambda$ is a coefficient of scale\n",
    "\n",
    "When applied, tends to try to keep all weights small-ish.  \n",
    "- generally better for training models"
   ]
  },
  {
   "cell_type": "markdown",
   "metadata": {
    "colab_type": "text",
    "id": "AMM3hR0PSud5"
   },
   "source": [
    "#### Dropout\n",
    "- turn off a percentage of nodes (on average) during training\n",
    "- purpose is to not rely on specific nodes too much"
   ]
  },
  {
   "cell_type": "markdown",
   "metadata": {
    "colab_type": "text",
    "id": "JktX2LnoToqQ"
   },
   "source": [
    "### Local Minima\n",
    "Sometimes we find ourselves in a local valley, which is the lowest point in sight but isn't the bottom of the mountain (aka, isn't the best solution)\n",
    "\n",
    "Some ways to get around this:"
   ]
  },
  {
   "cell_type": "markdown",
   "metadata": {
    "colab_type": "text",
    "id": "e4paloU5UC7J"
   },
   "source": [
    "#### Random Restart\n",
    "- start at a variety of places (restart in diff places). This increases the chance of one of the solutions being the \"bottom of the mountain\""
   ]
  },
  {
   "cell_type": "markdown",
   "metadata": {
    "colab_type": "text",
    "id": "zjyiVzoxYN_I"
   },
   "source": [
    "#### Momentum\n",
    "- The idea is to take previous steps into consideration when choosing the direction of the steps.\n",
    "- weigh each previous step - the last step by a lot, preceding steps less and less\n",
    "    - using $\\beta$ as a constant between $0$ and $1$\n",
    "    - the previous step is multiplied by $1$, the step before that by $\\beta$, etc\n",
    "    \n",
    "    \n",
    "$$step_{(n)} \\rightarrow 1step_{(n)} + \\beta step_{(n-1)} + \\beta^2 step_{(n-2)} + \\cdots$$"
   ]
  },
  {
   "cell_type": "markdown",
   "metadata": {
    "colab_type": "text",
    "id": "nwZ8CHP5UUVr"
   },
   "source": [
    "### Time and Memory Usage\n",
    "If we use all our data in a single training session, it takes *forever* and we've used up all the data so we can't train anymore. What if we want to train more?"
   ]
  },
  {
   "cell_type": "markdown",
   "metadata": {
    "colab_type": "text",
    "id": "UjX40LQQXA1I"
   },
   "source": [
    "#### Stochastic Gradient Descent (SGD)\n",
    "Instead of using all the data in one go, break up the data into batches\n",
    "\n",
    "This results in several smaller, less accurate steps, but you can guage your progress, and it takes less time."
   ]
  },
  {
   "cell_type": "markdown",
   "metadata": {
    "colab_type": "text",
    "id": "3vaS7Pm8XbJ2"
   },
   "source": [
    "### Learning Rate Decay\n",
    "- if your learning rate is too big, you could just bounce around the local minimum\n",
    "- if it's too small, you could be taking forever (steps are too small)\n",
    "\n",
    "The best learning rates are those that start out with big steps, and take smaller steps as time goes on; as you approach the minimum"
   ]
  },
  {
   "cell_type": "markdown",
   "metadata": {
    "colab_type": "text",
    "id": "JJjJYlS0x7gA"
   },
   "source": [
    "## **One-Hot Encoding**\n",
    "- also called getting dummies\n",
    "- the act of binary-izing multiple classes, or multiple outcomes\n",
    "    - in math terms, it's getting an **identity matrix**\n",
    "    - it's the matrix equivalent of $1$:\n",
    "        - you can multiply ANY matrix by an identity matrix and you'll get the original matrix back!\n",
    "        ![it's an identity matrix](https://raw.githubusercontent.com/shamicker/pytorch-challenge/master/images/Identity_matrix.PNG)\n",
    "        \n",
    "![one-hot encoding](https://raw.githubusercontent.com/shamicker/pytorch-challenge/master/images/one-hot_encoding.PNG)"
   ]
  },
  {
   "cell_type": "markdown",
   "metadata": {
    "colab_type": "text",
    "id": "0CI8rpL0x7gB"
   },
   "source": [
    "## **Activation Functions**\n",
    "- a way of presenting output; preparing it for the next step"
   ]
  },
  {
   "cell_type": "markdown",
   "metadata": {
    "colab_type": "text",
    "id": "-Ot9bdA1gLMp"
   },
   "source": [
    "### **Step Function**\n",
    "- the yes/no kind\n",
    "- for binary predictions\n",
    "- $Wx + b = 0$\n",
    "    - whether a data point is above or below the *linear boundary*\n",
    "    - aka if the data point output is positive or negative"
   ]
  },
  {
   "cell_type": "markdown",
   "metadata": {
    "colab_type": "text",
    "id": "RcxlU55sgOwK"
   },
   "source": [
    "### **Sigmoid Function**\n",
    "- probabilities of the outputs to be above or below the linear boundary (or correctly classified)\n",
    "- the high end approaches 1, the negative approaches 0, the middle is 50% (right at the linear boundary)\n",
    "- this can be for binary predictions or multi-layer networks\n",
    "- denoted as $$\\sigma(x) = \\frac{1}{(1 + e^{-x})}$$"
   ]
  },
  {
   "cell_type": "markdown",
   "metadata": {
    "colab_type": "text",
    "id": "9XtgskV0gRTK"
   },
   "source": [
    "### **Softmax Function**\n",
    "- for multi-class networks\n",
    "- this \"squishes\" the output, or **normalizes** it into a probability, where all the results must add up to 1\n",
    "- this also eliminates the problem of negative outputs (because $e^{negative-number}$ is positive)\n",
    "- the formula is $e^{each-output}/\\Sigma e^{each-output}$  \n",
    "![probability of class i](https://raw.githubusercontent.com/shamicker/pytorch-challenge/master/images/softmax_function.PNG)"
   ]
  },
  {
   "cell_type": "markdown",
   "metadata": {
    "colab_type": "text",
    "id": "07Eq80VLgULa"
   },
   "source": [
    "### **More Activation Functions**\n",
    "- **TanH**\n",
    "- **ReLU** is the most popular, simplest, and apparently extremely effective!\n",
    "![more activation functions](https://raw.githubusercontent.com/shamicker/pytorch-challenge/master/images/more_activation_functions.png)"
   ]
  },
  {
   "cell_type": "markdown",
   "metadata": {
    "colab_type": "text",
    "id": "d4OskFk_x7gB"
   },
   "source": [
    "## **Error Functions**\n",
    "- a function of the weights\n",
    "- tell us how far we are from the solution; the distance from the goal\n",
    "- aka **loss**\n",
    "- aka **cost**\n",
    "\n",
    "There are different kinds of error functions:\n",
    "- discrete outputs (yes/no)\n",
    "- continuous outputs (probabilities)\n",
    "\n",
    "and different formulas for error functions:\n",
    "- log-loss (for 2 possible outputs)\n",
    "- cross entropy (for 3+ possible outputs)\n",
    "    - sum of the negative natural logs of the probabilities\n",
    "    "
   ]
  },
  {
   "cell_type": "markdown",
   "metadata": {
    "colab_type": "text",
    "id": "dIW35ZSyggJb"
   },
   "source": [
    "### **Log Loss**/ **Cross Entropy**\n",
    "- like everything in neural networks (I think?) we usually calculate with natural logs ($ln$), or base e\n",
    "- done to get all-positive numbers\n",
    "- we take the negative of the log of the probabilities\n",
    "- log loss is for 2 classes, cross entropy is for multi-classes\n",
    "\n",
    "\n",
    "The log of anything between $0$ and $1$ is a negative number, and the log of $1$ is $0$.\n",
    "\n",
    "We know that a high probability of success approaches 1 (100%).\n",
    "When we take the negative log of that probability, we get a low number. So think of this *negative log* as the **errors**.\n",
    "\n",
    "Because for each input, the outcome is either \"yes\" or \"no\"......?????\n",
    "\n",
    "* Best used for classification problems.\n"
   ]
  },
  {
   "cell_type": "markdown",
   "metadata": {
    "colab_type": "text",
    "id": "i06UcOLYgdqt"
   },
   "source": [
    "## Calculating Loss\n",
    "- various ways to calculate loss, depending on where you're heading"
   ]
  },
  {
   "cell_type": "markdown",
   "metadata": {
    "colab_type": "text",
    "id": "C5Mq1rp6gf-Z"
   },
   "source": [
    "### **Mean Squared Loss**\n",
    "- I believe this is kind of like the *variance*\n",
    "    - taking the difference of the targets and outputs, squaring the difference, and then calculating this mean\n",
    "- often used in regression and binary classification problems  \n",
    "![mean squared loss equation](https://raw.githubusercontent.com/shamicker/pytorch-challenge/master/images/mean_squared_loss_equation.jpg)"
   ]
  },
  {
   "cell_type": "markdown",
   "metadata": {
    "colab_type": "text",
    "id": "gwVc_EiDx7gI"
   },
   "source": [
    "## **Multi-Layer Perceptrons vs. Convolutional Neural Networks**  \n",
    "In image data, it's relevant to know where pixels are in relation to other pixels.\n",
    "Does every hidden node need to be connected to every original pixel? There may be some redundancy:"
   ]
  },
  {
   "cell_type": "markdown",
   "metadata": {
    "colab_type": "text",
    "id": "eV5sZ3-Xg8oE"
   },
   "source": [
    "### **MLPs**\n",
    "- for a small (28x28), grayscale image such as in MNIST, already there are 50,000+ parameters!\n",
    "- must flatten images for inputting\n",
    "    - 2D spatial info is gone\n",
    "        - no idea of pixels with reference to other pixels\n",
    "- uses only **fully-** or **densely-** connected layers\n",
    "    - ie. all inputs from each layer feed into all nodes in the next layer (or output)"
   ]
  },
  {
   "cell_type": "markdown",
   "metadata": {
    "colab_type": "text",
    "id": "nhXoBAW_g_Zq"
   },
   "source": [
    "### **CNNs**\n",
    "- sparsely connected layers\n",
    "    - 2D spatial relationships are maintained\n",
    "- accept matrices as input!\n",
    "    - no flattening\n",
    "- uses **locally**-connected layers\n",
    "    - hidden nodes only assess a certain region of the original image\n",
    "    - less prone to overfitting\n",
    "- each hidden node works with the same weights (\"share a common group of weights\", she says) as the others\n",
    "    - ie. different areas share the same kind of info\n",
    "        - any relevant pattern could be found in any area of the image\n",
    "            - ie. the image could be found anywhere in the image"
   ]
  },
  {
   "cell_type": "markdown",
   "metadata": {
    "colab_type": "text",
    "id": "HXyK4uBwx7gI"
   },
   "source": [
    "## **Convolutional Neural Networks (CNN)**\n",
    "\n",
    "**Convolutional Layer:** applies different filters to an input image  \n",
    "**Convolutional Kernels:** are what these filters are called  \n",
    "- resulting filtered images will be different from each other\n",
    "    - each image will have filtered out different information\n",
    "        - ie. contoured lines (reacting to alternating patterns of dark/light pixels), colours\n"
   ]
  },
  {
   "cell_type": "code",
   "execution_count": 0,
   "metadata": {
    "colab": {},
    "colab_type": "code",
    "id": "6IrWeoiGx7gJ"
   },
   "outputs": [],
   "source": []
  }
 ],
 "metadata": {
  "colab": {
   "collapsed_sections": [],
   "name": "Neural Networks - Definitions & Concepts!.ipynb",
   "provenance": [],
   "toc_visible": true,
   "version": "0.3.2"
  },
  "kernelspec": {
   "display_name": "Python 3",
   "language": "python",
   "name": "python3"
  },
  "language_info": {
   "codemirror_mode": {
    "name": "ipython",
    "version": 3
   },
   "file_extension": ".py",
   "mimetype": "text/x-python",
   "name": "python",
   "nbconvert_exporter": "python",
   "pygments_lexer": "ipython3",
   "version": "3.7.3"
  }
 },
 "nbformat": 4,
 "nbformat_minor": 1
}
