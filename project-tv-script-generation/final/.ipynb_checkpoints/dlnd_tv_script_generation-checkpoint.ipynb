{
 "cells": [
  {
   "cell_type": "markdown",
   "metadata": {
    "colab_type": "text",
    "id": "8Uh2B3WC91iT"
   },
   "source": [
    "# TV Script Generation\n",
    "\n",
    "In this project, you'll generate your own [Seinfeld](https://en.wikipedia.org/wiki/Seinfeld) TV scripts using RNNs.  You'll be using part of the [Seinfeld dataset](https://www.kaggle.com/thec03u5/seinfeld-chronicles#scripts.csv) of scripts from 9 seasons.  The Neural Network you'll build will generate a new ,\"fake\" TV script, based on patterns it recognizes in this training data.\n",
    "\n",
    "## Get the Data\n",
    "\n",
    "The data is already provided for you in `./data/Seinfeld_Scripts.txt` and you're encouraged to open that file and look at the text. \n",
    ">* As a first step, we'll load in this data and look at some samples. \n",
    "* Then, you'll be tasked with defining and training an RNN to generate a new script!"
   ]
  },
  {
   "cell_type": "code",
   "execution_count": 1,
   "metadata": {
    "colab": {
     "base_uri": "https://localhost:8080/",
     "height": 51
    },
    "colab_type": "code",
    "id": "CfaInB5RW-DQ",
    "outputId": "5f3c6f0a-2360-4487-c961-80be1fae52e7"
   },
   "outputs": [
    {
     "name": "stdout",
     "output_type": "stream",
     "text": [
      "mv: cannot stat 'deep-learning-v2-pytorch/project-tv-script-generation/*.py': No such file or directory\n",
      "mv: cannot stat 'deep-learning-v2-pytorch/project-tv-script-generation/data/': No such file or directory\n"
     ]
    }
   ],
   "source": [
    "## Get relevant data!\n",
    "\n",
    "# test if your_file does not (!) exist (-e), and import if true\n",
    "!test ! -e deep-learning-v2-pytorch && git clone https://github.com/udacity/deep-learning-v2-pytorch.git\n",
    "\n",
    "# move the .py files to pwd\n",
    "!mv deep-learning-v2-pytorch/project-tv-script-generation/*.py /content\n",
    "!mv deep-learning-v2-pytorch/project-tv-script-generation/data/ /content\n",
    "\n",
    "# remove deep learning folder\n",
    "!rm -r deep-learning-v2-pytorch"
   ]
  },
  {
   "cell_type": "code",
   "execution_count": 0,
   "metadata": {
    "colab": {},
    "colab_type": "code",
    "id": "3WmiRFAG91iV"
   },
   "outputs": [],
   "source": [
    "\"\"\"\n",
    "DON'T MODIFY ANYTHING IN THIS CELL\n",
    "\"\"\"\n",
    "# load in data\n",
    "import helper\n",
    "data_dir = './data/Seinfeld_Scripts.txt'\n",
    "text = helper.load_data(data_dir)"
   ]
  },
  {
   "cell_type": "markdown",
   "metadata": {
    "colab_type": "text",
    "id": "vP3Eoemg91ib"
   },
   "source": [
    "## Explore the Data\n",
    "Play around with `view_line_range` to view different parts of the data. This will give you a sense of the data you'll be working with. You can see, for example, that it is all lowercase text, and each new line of dialogue is separated by a newline character `\\n`."
   ]
  },
  {
   "cell_type": "code",
   "execution_count": 3,
   "metadata": {
    "colab": {
     "base_uri": "https://localhost:8080/",
     "height": 309
    },
    "colab_type": "code",
    "id": "QsSlXj-V91id",
    "outputId": "e53b3b29-b55e-406f-f9f5-3281b1eb844a"
   },
   "outputs": [
    {
     "name": "stdout",
     "output_type": "stream",
     "text": [
      "Dataset Stats\n",
      "Roughly the number of unique words: 46367\n",
      "Number of lines: 109233\n",
      "Average number of words in each line: 5.544240293684143\n",
      "\n",
      "The lines 0 to 10:\n",
      "jerry: do you know what this is all about? do you know, why were here? to be out, this is out...and out is one of the single most enjoyable experiences of life. people...did you ever hear people talking about we should go out? this is what theyre talking about...this whole thing, were all out now, no one is home. not one person here is home, were all out! there are people trying to find us, they dont know where we are. (on an imaginary phone) did you ring?, i cant find him. where did he go? he didnt tell me where he was going. he must have gone out. you wanna go out you get ready, you pick out the clothes, right? you take the shower, you get all ready, get the cash, get your friends, the car, the spot, the reservation...then youre standing around, what do you do? you go we gotta be getting back. once youre out, you wanna get back! you wanna go to sleep, you wanna get up, you wanna go out again tomorrow, right? where ever you are in life, its my feeling, youve gotta go. \n",
      "\n",
      "jerry: (pointing at georges shirt) see, to me, that button is in the worst possible spot. the second button literally makes or breaks the shirt, look at it. its too high! its in no-mans-land. you look like you live with your mother. \n",
      "\n",
      "george: are you through? \n",
      "\n",
      "jerry: you do of course try on, when you buy? \n",
      "\n",
      "george: yes, it was purple, i liked it, i dont actually recall considering the buttons. \n",
      "\n"
     ]
    }
   ],
   "source": [
    "view_line_range = (0, 10)\n",
    "\n",
    "\"\"\"\n",
    "DON'T MODIFY ANYTHING IN THIS CELL THAT IS BELOW THIS LINE\n",
    "\"\"\"\n",
    "import numpy as np\n",
    "\n",
    "print('Dataset Stats')\n",
    "print('Roughly the number of unique words: {}'.format(len({word: None for word in text.split()})))\n",
    "\n",
    "lines = text.split('\\n')\n",
    "print('Number of lines: {}'.format(len(lines)))\n",
    "word_count_line = [len(line.split()) for line in lines]\n",
    "print('Average number of words in each line: {}'.format(np.average(word_count_line)))\n",
    "\n",
    "print()\n",
    "print('The lines {} to {}:'.format(*view_line_range))\n",
    "print('\\n'.join(text.split('\\n')[view_line_range[0]:view_line_range[1]]))"
   ]
  },
  {
   "cell_type": "markdown",
   "metadata": {
    "colab_type": "text",
    "id": "nkUhbC9G91ij"
   },
   "source": [
    "---\n",
    "## Implement Pre-processing Functions\n",
    "The first thing to do to any dataset is pre-processing.  Implement the following pre-processing functions below:\n",
    "- Lookup Table\n",
    "- Tokenize Punctuation\n",
    "\n",
    "### Lookup Table\n",
    "To create a word embedding, you first need to transform the words to ids.  In this function, create two dictionaries:\n",
    "- Dictionary to go from the words to an id, we'll call `vocab_to_int`\n",
    "- Dictionary to go from the id to word, we'll call `int_to_vocab`\n",
    "\n",
    "Return these dictionaries in the following **tuple** `(vocab_to_int, int_to_vocab)`"
   ]
  },
  {
   "cell_type": "code",
   "execution_count": 4,
   "metadata": {
    "colab": {
     "base_uri": "https://localhost:8080/",
     "height": 34
    },
    "colab_type": "code",
    "id": "a-MToWn6NtVA",
    "outputId": "1ffcc802-c632-4bd2-a376-15f55aeba830"
   },
   "outputs": [
    {
     "data": {
      "text/plain": [
       "'jerry: do you know what this is all about? do you know, why were here? to be out, this is out...and '"
      ]
     },
     "execution_count": 4,
     "metadata": {
      "tags": []
     },
     "output_type": "execute_result"
    }
   ],
   "source": [
    "text[:100]"
   ]
  },
  {
   "cell_type": "code",
   "execution_count": 5,
   "metadata": {
    "colab": {
     "base_uri": "https://localhost:8080/",
     "height": 51
    },
    "colab_type": "code",
    "id": "bKbfY16nFKFV",
    "outputId": "56c2cf47-d8bd-43b6-aa0c-0cce15671e42"
   },
   "outputs": [
    {
     "name": "stdout",
     "output_type": "stream",
     "text": [
      "605704\n",
      "['jerry:', 'do', 'you', 'know', 'what', 'this', 'is', 'all', 'about?', 'do']\n"
     ]
    }
   ],
   "source": [
    "words = text.split(' ')\n",
    "print(len(words))\n",
    "print(words[:10])"
   ]
  },
  {
   "cell_type": "code",
   "execution_count": 6,
   "metadata": {
    "colab": {
     "base_uri": "https://localhost:8080/",
     "height": 34
    },
    "colab_type": "code",
    "id": "28LPb3zF91ik",
    "outputId": "213492c1-bde5-45ba-a8e5-a9e87006e988"
   },
   "outputs": [
    {
     "name": "stdout",
     "output_type": "stream",
     "text": [
      "Tests Passed\n"
     ]
    }
   ],
   "source": [
    "import problem_unittests as tests\n",
    "\n",
    "def create_lookup_tables(text):\n",
    "    \"\"\"\n",
    "    Create lookup tables for vocabulary\n",
    "    :param text: The text of tv scripts split into words\n",
    "    :return: A tuple of dicts (vocab_to_int, int_to_vocab)\n",
    "    \"\"\"\n",
    "    # TODO: Implement Function\n",
    "    words = set(text)\n",
    "    int_to_vocab = dict(enumerate(words))\n",
    "    vocab_to_int = {str(word): n for n, word in int_to_vocab.items()}\n",
    "    \n",
    "    # return tuple\n",
    "    return (vocab_to_int, int_to_vocab)\n",
    "\n",
    "\n",
    "\"\"\"\n",
    "DON'T MODIFY ANYTHING IN THIS CELL THAT IS BELOW THIS LINE\n",
    "\"\"\"\n",
    "tests.test_create_lookup_tables(create_lookup_tables)"
   ]
  },
  {
   "cell_type": "markdown",
   "metadata": {
    "colab_type": "text",
    "id": "m9NwyTbB91im"
   },
   "source": [
    "### Tokenize Punctuation\n",
    "We'll be splitting the script into a word array using spaces as delimiters.  However, punctuations like periods and exclamation marks can create multiple ids for the same word. For example, \"bye\" and \"bye!\" would generate two different word ids.\n",
    "\n",
    "Implement the function `token_lookup` to return a dict that will be used to tokenize symbols like \"!\" into \"||Exclamation_Mark||\".  Create a dictionary for the following symbols where the symbol is the key and value is the token:\n",
    "- Period ( **.** )\n",
    "- Comma ( **,** )\n",
    "- Quotation Mark ( **\"** )\n",
    "- Semicolon ( **;** )\n",
    "- Exclamation mark ( **!** )\n",
    "- Question mark ( **?** )\n",
    "- Left Parentheses ( **(** )\n",
    "- Right Parentheses ( **)** )\n",
    "- Dash ( **-** )\n",
    "- Return ( **\\n** )\n",
    "\n",
    "This dictionary will be used to tokenize the symbols and add the delimiter (space) around it.  This separates each symbols as its own word, making it easier for the neural network to predict the next word. Make sure you don't use a value that could be confused as a word; for example, instead of using the value \"dash\", try using something like \"||dash||\"."
   ]
  },
  {
   "cell_type": "code",
   "execution_count": 7,
   "metadata": {
    "colab": {
     "base_uri": "https://localhost:8080/",
     "height": 34
    },
    "colab_type": "code",
    "id": "9hZwx0WG91in",
    "outputId": "dad37cce-6b56-449d-b594-b016b469eeb2"
   },
   "outputs": [
    {
     "name": "stdout",
     "output_type": "stream",
     "text": [
      "Tests Passed\n"
     ]
    }
   ],
   "source": [
    "def token_lookup():\n",
    "    \"\"\"\n",
    "    Generate a dict to turn punctuation into a token.\n",
    "    :return: Tokenized dictionary where the key is the punctuation and the value is the token\n",
    "    \"\"\"\n",
    "    # TODO: Implement Function\n",
    "    token_dict = {\n",
    "        \".\": \"||Exclamation_Mark||\",\n",
    "        \",\": \"||Comma||\",\n",
    "        '\"': '||Quotation_Mark||',\n",
    "        \";\": \"||Semicolon||\",\n",
    "        \"!\": \"||Exclamation_Mark||\",\n",
    "        \"?\": \"||Question_Mark||\",\n",
    "        \"(\": \"||Left_Parentheses||\",\n",
    "        \")\": \"||Right_Parentheses||\",\n",
    "        \"-\": \"||Dash||\",\n",
    "        \"\\n\": \"||Return||\"\n",
    "    }\n",
    "    return token_dict\n",
    "\n",
    "\"\"\"\n",
    "DON'T MODIFY ANYTHING IN THIS CELL THAT IS BELOW THIS LINE\n",
    "\"\"\"\n",
    "tests.test_tokenize(token_lookup)"
   ]
  },
  {
   "cell_type": "markdown",
   "metadata": {
    "colab_type": "text",
    "id": "cGvQFfNB91iq"
   },
   "source": [
    "## Pre-process all the data and save it\n",
    "\n",
    "Running the code cell below will pre-process all the data and save it to file. You're encouraged to lok at the code for `preprocess_and_save_data` in the `helpers.py` file to see what it's doing in detail, but you do not need to change this code."
   ]
  },
  {
   "cell_type": "code",
   "execution_count": 0,
   "metadata": {
    "colab": {},
    "colab_type": "code",
    "id": "aBqc7-As91iq"
   },
   "outputs": [],
   "source": [
    "\"\"\"\n",
    "DON'T MODIFY ANYTHING IN THIS CELL\n",
    "\"\"\"\n",
    "# pre-process training data\n",
    "helper.preprocess_and_save_data(data_dir, token_lookup, create_lookup_tables)"
   ]
  },
  {
   "cell_type": "markdown",
   "metadata": {
    "colab_type": "text",
    "id": "wAXAsQdA91iu"
   },
   "source": [
    "# Check Point\n",
    "This is your first checkpoint. If you ever decide to come back to this notebook or have to restart the notebook, you can start from here. The preprocessed data has been saved to disk."
   ]
  },
  {
   "cell_type": "code",
   "execution_count": 0,
   "metadata": {
    "colab": {},
    "colab_type": "code",
    "id": "diMuvO2T91iv"
   },
   "outputs": [],
   "source": [
    "\"\"\"\n",
    "DON'T MODIFY ANYTHING IN THIS CELL\n",
    "\"\"\"\n",
    "import helper\n",
    "import problem_unittests as tests\n",
    "\n",
    "int_text, vocab_to_int, int_to_vocab, token_dict = helper.load_preprocess()"
   ]
  },
  {
   "cell_type": "code",
   "execution_count": 10,
   "metadata": {
    "colab": {
     "base_uri": "https://localhost:8080/",
     "height": 85
    },
    "colab_type": "code",
    "id": "lRvdOVTfiG1E",
    "outputId": "ccd0d9ff-9dd2-4df9-926a-324d881cd485"
   },
   "outputs": [
    {
     "name": "stdout",
     "output_type": "stream",
     "text": [
      "892110\n",
      "21387\n",
      "21387\n",
      "21386\n"
     ]
    }
   ],
   "source": [
    "print(len(int_text))\n",
    "print(len(vocab_to_int))\n",
    "print(len(int_to_vocab))\n",
    "print(len(set(int_text)))"
   ]
  },
  {
   "cell_type": "code",
   "execution_count": 11,
   "metadata": {
    "colab": {
     "base_uri": "https://localhost:8080/",
     "height": 68
    },
    "colab_type": "code",
    "id": "9CH4wwmnOtml",
    "outputId": "64ecb555-6fb4-4017-a5f5-4454853cef12"
   },
   "outputs": [
    {
     "name": "stdout",
     "output_type": "stream",
     "text": [
      "(0, 'khomeini') (21386, 'defrost')\n",
      "('#', 11436) ('\\x93sari\\x94', 9771)\n",
      "11436 madeline\n"
     ]
    }
   ],
   "source": [
    "print(min(int_to_vocab.items()), max(int_to_vocab.items()))\n",
    "print(min(vocab_to_int.items()), max(vocab_to_int.items()))\n",
    "print(vocab_to_int['#'], int_to_vocab[859])"
   ]
  },
  {
   "cell_type": "code",
   "execution_count": 12,
   "metadata": {
    "colab": {
     "base_uri": "https://localhost:8080/",
     "height": 34
    },
    "colab_type": "code",
    "id": "Mh9ojl16Xx2V",
    "outputId": "aa2a88af-8bf8-4825-a5e4-a590b6cf4f68"
   },
   "outputs": [
    {
     "name": "stdout",
     "output_type": "stream",
     "text": [
      "5759\n"
     ]
    }
   ],
   "source": [
    "for i in int_text:\n",
    "    if i == 5759:\n",
    "        print(i)"
   ]
  },
  {
   "cell_type": "code",
   "execution_count": 13,
   "metadata": {
    "colab": {
     "base_uri": "https://localhost:8080/",
     "height": 34
    },
    "colab_type": "code",
    "id": "bbKI4XX7WBX0",
    "outputId": "643f5e43-a6ba-4b3c-8f44-2a8b45f05c65"
   },
   "outputs": [
    {
     "data": {
      "text/plain": [
       "9004"
      ]
     },
     "execution_count": 13,
     "metadata": {
      "tags": []
     },
     "output_type": "execute_result"
    }
   ],
   "source": [
    "vocab_to_int['elaine']"
   ]
  },
  {
   "cell_type": "code",
   "execution_count": 14,
   "metadata": {
    "colab": {
     "base_uri": "https://localhost:8080/",
     "height": 34
    },
    "colab_type": "code",
    "id": "5_iO8TadWMQK",
    "outputId": "bb8e21be-4f44-427d-c738-13993d45a5a2"
   },
   "outputs": [
    {
     "data": {
      "text/plain": [
       "'limits'"
      ]
     },
     "execution_count": 14,
     "metadata": {
      "tags": []
     },
     "output_type": "execute_result"
    }
   ],
   "source": [
    "int_to_vocab[5759]"
   ]
  },
  {
   "cell_type": "code",
   "execution_count": 127,
   "metadata": {
    "colab": {
     "base_uri": "https://localhost:8080/",
     "height": 51
    },
    "colab_type": "code",
    "id": "cm2sh9FGK48d",
    "outputId": "ed80a6d3-d8ee-4e71-8d1d-a79386a55596"
   },
   "outputs": [
    {
     "name": "stdout",
     "output_type": "stream",
     "text": [
      "605704\n",
      "3471464\n"
     ]
    }
   ],
   "source": [
    "print(len(words))\n",
    "print(len(text))"
   ]
  },
  {
   "cell_type": "code",
   "execution_count": 128,
   "metadata": {
    "colab": {
     "base_uri": "https://localhost:8080/",
     "height": 34
    },
    "colab_type": "code",
    "id": "ub06nhZmCrEL",
    "outputId": "d0c62102-1d4c-4ce9-aa0e-5086d1eab7cd"
   },
   "outputs": [
    {
     "name": "stdout",
     "output_type": "stream",
     "text": [
      "[17589, 13790, 79, 5303, 5303, 5303, 7363, 79, 13790, 9936]\n"
     ]
    }
   ],
   "source": [
    "sample = int_text[:10]\n",
    "print(sample)"
   ]
  },
  {
   "cell_type": "code",
   "execution_count": 17,
   "metadata": {
    "colab": {
     "base_uri": "https://localhost:8080/",
     "height": 187
    },
    "colab_type": "code",
    "id": "6jGETPJiDHws",
    "outputId": "d9a452f9-80c9-4bcc-c65f-766c2bc5859a"
   },
   "outputs": [
    {
     "name": "stdout",
     "output_type": "stream",
     "text": [
      "this\n",
      "is\n",
      "out\n",
      "||exclamation_mark||\n",
      "||exclamation_mark||\n",
      "||exclamation_mark||\n",
      "and\n",
      "out\n",
      "is\n",
      "one\n"
     ]
    }
   ],
   "source": [
    "for s in sample:\n",
    "    print(int_to_vocab[s])"
   ]
  },
  {
   "cell_type": "markdown",
   "metadata": {
    "colab_type": "text",
    "id": "yLnZND2A91iy"
   },
   "source": [
    "## Build the Neural Network\n",
    "In this section, you'll build the components necessary to build an RNN by implementing the RNN Module and forward and backpropagation functions.\n",
    "\n",
    "### Check Access to GPU"
   ]
  },
  {
   "cell_type": "code",
   "execution_count": 19,
   "metadata": {
    "colab": {
     "base_uri": "https://localhost:8080/",
     "height": 34
    },
    "colab_type": "code",
    "id": "ey0hy7dn91iz",
    "outputId": "4d9d6fcb-b8a4-49fe-d625-4ee5a0959137"
   },
   "outputs": [
    {
     "name": "stdout",
     "output_type": "stream",
     "text": [
      "cuda\n"
     ]
    }
   ],
   "source": [
    "\"\"\"\n",
    "DON'T MODIFY ANYTHING IN THIS CELL\n",
    "\"\"\"\n",
    "import torch\n",
    "\n",
    "# Check for a GPU\n",
    "train_on_gpu = torch.cuda.is_available()\n",
    "if not train_on_gpu:\n",
    "    device = 'cpu'\n",
    "    print('No GPU found. Please use a GPU to train your neural network.')\n",
    "else:\n",
    "    device = 'cuda'\n",
    "print(device)"
   ]
  },
  {
   "cell_type": "code",
   "execution_count": 0,
   "metadata": {
    "colab": {},
    "colab_type": "code",
    "id": "Fum4B-pZ_8kn"
   },
   "outputs": [],
   "source": [
    "# This is supposedly to help prevent some cuda errors but I didn't notice a difference. \n",
    "# I think my errors were vocab-related.\n",
    "import os\n",
    "os.environ['CUDA_LAUNCH_BLOCKING'] = \"1\""
   ]
  },
  {
   "cell_type": "markdown",
   "metadata": {
    "colab_type": "text",
    "id": "qRYbwC5U91i2"
   },
   "source": [
    "## Input\n",
    "Let's start with the preprocessed input data. We'll use [TensorDataset](http://pytorch.org/docs/master/data.html#torch.utils.data.TensorDataset) to provide a known format to our dataset; in combination with [DataLoader](http://pytorch.org/docs/master/data.html#torch.utils.data.DataLoader), it will handle batching, shuffling, and other dataset iteration functions.\n",
    "\n",
    "You can create data with TensorDataset by passing in feature and target tensors. Then create a DataLoader as usual.\n",
    "```\n",
    "data = TensorDataset(feature_tensors, target_tensors)\n",
    "data_loader = torch.utils.data.DataLoader(data, \n",
    "                                          batch_size=batch_size)\n",
    "```\n",
    "\n",
    "### Batching\n",
    "Implement the `batch_data` function to batch `words` data into chunks of size `batch_size` using the `TensorDataset` and `DataLoader` classes.\n",
    "\n",
    ">You can batch words using the DataLoader, but it will be up to you to create `feature_tensors` and `target_tensors` of the correct size and content for a given `sequence_length`.\n",
    "\n",
    "For example, say we have these as input:\n",
    "```\n",
    "words = [1, 2, 3, 4, 5, 6, 7]\n",
    "sequence_length = 4\n",
    "```\n",
    "\n",
    "Your first `feature_tensor` should contain the values:\n",
    "```\n",
    "[1, 2, 3, 4]\n",
    "```\n",
    "And the corresponding `target_tensor` should just be the next \"word\"/tokenized word value:\n",
    "```\n",
    "5\n",
    "```\n",
    "This should continue with the second `feature_tensor`, `target_tensor` being:\n",
    "```\n",
    "[2, 3, 4, 5]  # features\n",
    "6             # target\n",
    "```"
   ]
  },
  {
   "cell_type": "code",
   "execution_count": 0,
   "metadata": {
    "colab": {},
    "colab_type": "code",
    "id": "AX7Fzbgb91i2"
   },
   "outputs": [],
   "source": [
    "from torch.utils.data import TensorDataset, DataLoader\n",
    "\n",
    "def batch_data(words, sequence_length, batch_size):\n",
    "    \"\"\"\n",
    "    Batch the neural network data using DataLoader\n",
    "    :param words: The word ids of the TV scripts\n",
    "    :param sequence_length: The sequence length of each batch\n",
    "    :param batch_size: The size of each batch; the number of sequences in a batch\n",
    "    :return: DataLoader with batched data\n",
    "    \"\"\"\n",
    "    # TODO: Implement function\n",
    "    n_batches = len(words)//(sequence_length*batch_size)\n",
    "#     print('n_batches', n_batches)\n",
    "    n_targets = words[:-sequence_length]\n",
    "#     print('len words', len(words))\n",
    "    \n",
    "    x, y = [], []\n",
    "    for i in range(len(n_targets)):\n",
    "        batch_x = words[i:i+sequence_length]\n",
    "        try:\n",
    "            batch_y = words[i+sequence_length]\n",
    "        except IndexError:\n",
    "            batch_y = words[0]\n",
    "        x.append(batch_x)\n",
    "        y.append(batch_y)\n",
    "    \n",
    "    x, y = np.array(x), np.array(y)\n",
    "#     print('x types:', type(x), x.shape, 'len(y):', len(y))\n",
    "    x, y = torch.from_numpy(x), torch.from_numpy(y)\n",
    "    \n",
    "    data = TensorDataset(x, y)\n",
    "    \n",
    "    # return a dataloader\n",
    "    return DataLoader(data, batch_size=batch_size, shuffle=False)\n",
    "\n",
    "# there is no test for this function, but you are encouraged to create\n",
    "# print statements and tests of your own\n",
    "# With great help from https://knowledge.udacity.com/questions/29798"
   ]
  },
  {
   "cell_type": "code",
   "execution_count": 22,
   "metadata": {
    "colab": {
     "base_uri": "https://localhost:8080/",
     "height": 51
    },
    "colab_type": "code",
    "id": "TF1CutDUYWp3",
    "outputId": "360d0f94-65ca-4eec-9ad1-160ffda48fa5"
   },
   "outputs": [
    {
     "name": "stdout",
     "output_type": "stream",
     "text": [
      "\n",
      "exx: <torch.utils.data.dataloader.DataLoader object at 0x7f25ec146048>\n"
     ]
    }
   ],
   "source": [
    "ex = list(range(101))\n",
    "exx = batch_data(ex, 5, 10)\n",
    "print('\\nexx:', exx)"
   ]
  },
  {
   "cell_type": "code",
   "execution_count": 23,
   "metadata": {
    "colab": {
     "base_uri": "https://localhost:8080/",
     "height": 34
    },
    "colab_type": "code",
    "id": "4HxEm4e0bUJD",
    "outputId": "341e50ed-676e-4488-ff72-333c30bae90a"
   },
   "outputs": [
    {
     "data": {
      "text/plain": [
       "<torch.utils.data.dataloader._DataLoaderIter at 0x7f259da4a6d8>"
      ]
     },
     "execution_count": 23,
     "metadata": {
      "tags": []
     },
     "output_type": "execute_result"
    }
   ],
   "source": [
    "x = iter(exx)\n",
    "x"
   ]
  },
  {
   "cell_type": "code",
   "execution_count": 24,
   "metadata": {
    "colab": {
     "base_uri": "https://localhost:8080/",
     "height": 204
    },
    "colab_type": "code",
    "id": "Ipml6yoDbV77",
    "outputId": "0fc909a1-8173-40d5-8320-7a28e84e626a"
   },
   "outputs": [
    {
     "data": {
      "text/plain": [
       "[tensor([[ 0,  1,  2,  3,  4],\n",
       "         [ 1,  2,  3,  4,  5],\n",
       "         [ 2,  3,  4,  5,  6],\n",
       "         [ 3,  4,  5,  6,  7],\n",
       "         [ 4,  5,  6,  7,  8],\n",
       "         [ 5,  6,  7,  8,  9],\n",
       "         [ 6,  7,  8,  9, 10],\n",
       "         [ 7,  8,  9, 10, 11],\n",
       "         [ 8,  9, 10, 11, 12],\n",
       "         [ 9, 10, 11, 12, 13]]),\n",
       " tensor([ 5,  6,  7,  8,  9, 10, 11, 12, 13, 14])]"
      ]
     },
     "execution_count": 24,
     "metadata": {
      "tags": []
     },
     "output_type": "execute_result"
    }
   ],
   "source": [
    "next(x)"
   ]
  },
  {
   "cell_type": "markdown",
   "metadata": {
    "colab_type": "text",
    "id": "CxGiBI4991i6"
   },
   "source": [
    "### Test your dataloader \n",
    "\n",
    "You'll have to modify this code to test a batching function, but it should look fairly similar.\n",
    "\n",
    "Below, we're generating some test text data and defining a dataloader using the function you defined, above. Then, we are getting some sample batch of inputs `sample_x` and targets `sample_y` from our dataloader.\n",
    "\n",
    "Your code should return something like the following (likely in a different order, if you shuffled your data):\n",
    "\n",
    "```\n",
    "torch.Size([10, 5])\n",
    "tensor([[ 28,  29,  30,  31,  32],\n",
    "        [ 21,  22,  23,  24,  25],\n",
    "        [ 17,  18,  19,  20,  21],\n",
    "        [ 34,  35,  36,  37,  38],\n",
    "        [ 11,  12,  13,  14,  15],\n",
    "        [ 23,  24,  25,  26,  27],\n",
    "        [  6,   7,   8,   9,  10],\n",
    "        [ 38,  39,  40,  41,  42],\n",
    "        [ 25,  26,  27,  28,  29],\n",
    "        [  7,   8,   9,  10,  11]])\n",
    "\n",
    "torch.Size([10])\n",
    "tensor([ 33,  26,  22,  39,  16,  28,  11,  43,  30,  12])\n",
    "```\n",
    "\n",
    "### Sizes\n",
    "Your sample_x should be of size `(batch_size, sequence_length)` or (10, 5) in this case and sample_y should just have one dimension: batch_size (10). \n",
    "\n",
    "### Values\n",
    "\n",
    "You should also notice that the targets, sample_y, are the *next* value in the ordered test_text data. So, for an input sequence `[ 28,  29,  30,  31,  32]` that ends with the value `32`, the corresponding output should be `33`."
   ]
  },
  {
   "cell_type": "code",
   "execution_count": 25,
   "metadata": {
    "colab": {
     "base_uri": "https://localhost:8080/",
     "height": 255
    },
    "colab_type": "code",
    "id": "9ml1Ejf691i7",
    "outputId": "092f596d-b031-4df1-ba28-17680369a28b"
   },
   "outputs": [
    {
     "name": "stdout",
     "output_type": "stream",
     "text": [
      "torch.Size([10, 5])\n",
      "tensor([[ 0,  1,  2,  3,  4],\n",
      "        [ 1,  2,  3,  4,  5],\n",
      "        [ 2,  3,  4,  5,  6],\n",
      "        [ 3,  4,  5,  6,  7],\n",
      "        [ 4,  5,  6,  7,  8],\n",
      "        [ 5,  6,  7,  8,  9],\n",
      "        [ 6,  7,  8,  9, 10],\n",
      "        [ 7,  8,  9, 10, 11],\n",
      "        [ 8,  9, 10, 11, 12],\n",
      "        [ 9, 10, 11, 12, 13]])\n",
      "\n",
      "torch.Size([10])\n",
      "tensor([ 5,  6,  7,  8,  9, 10, 11, 12, 13, 14])\n"
     ]
    }
   ],
   "source": [
    "# test dataloader\n",
    "\n",
    "test_text = range(50)\n",
    "t_loader = batch_data(test_text, sequence_length=5, batch_size=10)\n",
    "\n",
    "data_iter = iter(t_loader)\n",
    "sample_x, sample_y = data_iter.next()\n",
    "\n",
    "print(sample_x.shape)\n",
    "print(sample_x)\n",
    "print()\n",
    "print(sample_y.shape)\n",
    "print(sample_y)"
   ]
  },
  {
   "cell_type": "markdown",
   "metadata": {
    "colab_type": "text",
    "id": "FgZGA6lL91i9"
   },
   "source": [
    "---\n",
    "## Build the Neural Network\n",
    "Implement an RNN using PyTorch's [Module class](http://pytorch.org/docs/master/nn.html#torch.nn.Module). You may choose to use a GRU or an LSTM. To complete the RNN, you'll have to implement the following functions for the class:\n",
    " - `__init__` - The initialize function. \n",
    " - `init_hidden` - The initialization function for an LSTM/GRU hidden state\n",
    " - `forward` - Forward propagation function.\n",
    " \n",
    "The initialize function should create the layers of the neural network and save them to the class. The forward propagation function will use these layers to run forward propagation and generate an output and a hidden state.\n",
    "\n",
    "**The output of this model should be the *last* batch of word scores** after a complete sequence has been processed. That is, for each input sequence of words, we only want to output the word scores for a single, most likely, next word.\n",
    "\n",
    "### Hints\n",
    "\n",
    "1. Make sure to stack the outputs of the LSTM to pass to your fully-connected layer, you can do this with `lstm_output = lstm_output.contiguous().view(-1, self.hidden_dim)`\n",
    "2. You can get the last batch of word scores by shaping the output of the final, fully-connected layer like so:\n",
    "\n",
    "```\n",
    "# reshape into (batch_size, seq_length, output_size)\n",
    "output = output.view(batch_size, -1, self.output_size)\n",
    "# get last batch\n",
    "out = output[:, -1]\n",
    "```"
   ]
  },
  {
   "cell_type": "code",
   "execution_count": 26,
   "metadata": {
    "colab": {
     "base_uri": "https://localhost:8080/",
     "height": 34
    },
    "colab_type": "code",
    "id": "bNJRP7D391i-",
    "outputId": "07ee6b80-e590-405e-a9fc-1c3130520082"
   },
   "outputs": [
    {
     "name": "stdout",
     "output_type": "stream",
     "text": [
      "Tests Passed\n"
     ]
    }
   ],
   "source": [
    "import torch.nn as nn\n",
    "\n",
    "class RNN(nn.Module):\n",
    "    \n",
    "    def __init__(self, vocab_size, output_size, embedding_dim, hidden_dim, n_layers, dropout=0.5):\n",
    "        \"\"\"\n",
    "        Initialize the PyTorch RNN Module\n",
    "        :param vocab_size: The number of input dimensions of the neural network (the size of the vocabulary)\n",
    "        :param output_size: The number of output dimensions of the neural network\n",
    "        :param embedding_dim: The size of embeddings, should you choose to use them        \n",
    "        :param hidden_dim: The size of the hidden layer outputs\n",
    "        :param dropout: dropout to add in between LSTM/GRU layers\n",
    "        \"\"\"\n",
    "        super(RNN, self).__init__()\n",
    "        # TODO: Implement function\n",
    "        # set class variables\n",
    "#         print('RNN initted: \\nvocab_size {}, output_size {}, \\nembedding_dim {}, hidden_dim {} \\nn_layers {}'.format(vocab_size, output_size, embedding_dim, hidden_dim, n_layers))\n",
    "        self.vocab_size = vocab_size\n",
    "        self.output_size = output_size\n",
    "        self.embedding_dim = embedding_dim\n",
    "        self.drop_prob = dropout\n",
    "        self.hidden_dim = hidden_dim\n",
    "        self.n_layers = n_layers\n",
    "        \n",
    "        # define model layers\n",
    "        self.embed = nn.Embedding(vocab_size, embedding_dim)\n",
    "#         self.dropout = nn.Dropout(self.drop_prob)\n",
    "        self.lstm = nn.LSTM(embedding_dim, hidden_dim, n_layers, dropout=self.drop_prob, batch_first=True)\n",
    "        self.fc = nn.Linear(hidden_dim, output_size)  \n",
    "#         self.activation = nn.Sigmoid()\n",
    "#         self.activation = nn.LogSoftmax(dim=0)\n",
    "#         print('\\nlstm model:', self)\n",
    "    \n",
    "    def forward(self, nn_input, hidden):\n",
    "        \"\"\"\n",
    "        Forward propagation of the neural network\n",
    "        :param nn_input: The input to the neural network\n",
    "        :param hidden: The hidden state        \n",
    "        :return: Two Tensors, the output of the neural network and the latest hidden state\n",
    "        \"\"\"\n",
    "        # TODO: Implement function   \n",
    "        \n",
    "#         print('\\nForward parameter shapes: \\nnn_input: {}, \\nhidden: {}, {}'.format(nn_input.shape, hidden[0].shape, hidden[1].shape))\n",
    "        batch_size = nn_input.shape[0]\n",
    "        seq_length = nn_input.shape[1]\n",
    "#         print('So batch_size is {} | sequence length is {}'.format(batch_size, seq_length))\n",
    "#         print()\n",
    "\n",
    "        embeds_out = self.embed(nn_input) # out shape: [N, M, embedding_dim]\n",
    "#         print('\\nembeds_out == [N ({}), M ({}), embedding_dim ({})] --> {}'.format(batch_size, seq_length, self.embedding_dim, embeds_out.shape))\n",
    "        \n",
    "        lstm_out, hidden = self.lstm(embeds_out, hidden) # out shape: [N, M, hidden_dim]\n",
    "#         print('\\nlstm_out == [N ({}), M ({}), hidden_dim ({})] --> {}'.format(batch_size, seq_length, self.hidden_dim, lstm_out.shape))\n",
    "#         lstm_out = self.dropout(lstm_out)\n",
    "        \n",
    "        # flatten for linear layer\n",
    "        fc_out = self.fc(lstm_out.contiguous().view(-1, self.hidden_dim)) # out shape: [N*M, output_size]\n",
    "#         print('fc_out shape == [N*M ({}), output_size ({})] --> {}'.format((batch_size*seq_length), self.output_size, fc_out.shape))\n",
    "#         sigm_out = self.activation(fc_out) # out shape: [N*M, output_size]\n",
    "        \n",
    "        # reshape back to original shape\n",
    "        out = fc_out.view(batch_size, -1, self.output_size) # out shape: [N, M, output_size]\n",
    "#         print('out == [N, M, output_size] -->', out.shape)\n",
    "#         print('out[:5]', out[:5])\n",
    "        final = out[:, -1]\n",
    "#         print('final == [:, -1] -->', final.shape)\n",
    "#         print('final[:5]\\n', final[:5])\n",
    "\n",
    "        # return one batch of output word scores and the hidden state\n",
    "        return final, hidden\n",
    "    \n",
    "    \n",
    "    def init_hidden(self, batch_size):\n",
    "        '''\n",
    "        Initialize the hidden state of an LSTM/GRU\n",
    "        :param batch_size: The batch_size of the hidden state\n",
    "        :return: hidden state of dims (n_layers, batch_size, hidden_dim)\n",
    "        '''\n",
    "        # Implement function\n",
    "        weight = next(self.parameters()).data\n",
    "        \n",
    "        # initialize hidden state with zero weights, and move to GPU if available\n",
    "        if (train_on_gpu):\n",
    "            hidden = (weight.new(self.n_layers, batch_size, self.hidden_dim).zero_().cuda(),\n",
    "                      weight.new(self.n_layers, batch_size, self.hidden_dim).zero_().cuda())\n",
    "        else:\n",
    "            hidden = (weight.new(self.n_layers, batch_size, self.hidden_dim).zero_(),\n",
    "                      weight.new(self.n_layers, batch_size, self.hidden_dim).zero_())\n",
    "        \n",
    "#         print('\\nhidden initted:', hidden[0].shape, hidden[1].shape, '\\n', hidden[0][0, :2], '\\n', hidden[1][0, :2])\n",
    "        return hidden\n",
    "\n",
    "\"\"\"\n",
    "DON'T MODIFY ANYTHING IN THIS CELL THAT IS BELOW THIS LINE\n",
    "\"\"\"\n",
    "tests.test_rnn(RNN, train_on_gpu)"
   ]
  },
  {
   "cell_type": "markdown",
   "metadata": {
    "colab_type": "text",
    "id": "vFe0DFXk91jA"
   },
   "source": [
    "### Define forward and backpropagation\n",
    "\n",
    "Use the RNN class you implemented to apply forward and back propagation. This function will be called, iteratively, in the training loop as follows:\n",
    "```\n",
    "loss = forward_back_prop(decoder, decoder_optimizer, criterion, inp, target)\n",
    "```\n",
    "\n",
    "And it should return the average loss over a batch and the hidden state returned by a call to `RNN(inp, hidden)`. Recall that you can get this loss by computing it, as usual, and calling `loss.item()`.\n",
    "\n",
    "**If a GPU is available, you should move your data to that GPU device, here.**"
   ]
  },
  {
   "cell_type": "code",
   "execution_count": 27,
   "metadata": {
    "colab": {
     "base_uri": "https://localhost:8080/",
     "height": 34
    },
    "colab_type": "code",
    "id": "_qbXlmKo6YYr",
    "outputId": "e4ee712f-9b2b-49c5-d0d7-e849ec542d56"
   },
   "outputs": [
    {
     "name": "stdout",
     "output_type": "stream",
     "text": [
      "cuda\n"
     ]
    }
   ],
   "source": [
    "if train_on_gpu:\n",
    "    print(device)"
   ]
  },
  {
   "cell_type": "code",
   "execution_count": 28,
   "metadata": {
    "colab": {
     "base_uri": "https://localhost:8080/",
     "height": 34
    },
    "colab_type": "code",
    "id": "wX7Tndee91jB",
    "outputId": "9ae46b1e-48a0-4447-aa15-0f68b1bc8508"
   },
   "outputs": [
    {
     "name": "stdout",
     "output_type": "stream",
     "text": [
      "Tests Passed\n"
     ]
    }
   ],
   "source": [
    "def forward_back_prop(rnn, optimizer, criterion, inp, target, hidden):\n",
    "    \"\"\"\n",
    "    Forward and backward propagation on the neural network\n",
    "    :param decoder: The PyTorch Module that holds the neural network\n",
    "    :param decoder_optimizer: The PyTorch optimizer for the neural network\n",
    "    :param criterion: The PyTorch loss function\n",
    "    :param inp: A batch of input to the neural network\n",
    "    :param target: The target output for the batch of input\n",
    "    :return: The loss and the latest hidden state Tensor\n",
    "    \"\"\"\n",
    "    \n",
    "    # TODO: Implement Function\n",
    "    # move data to GPU, if available\n",
    "    if (train_on_gpu):\n",
    "        inputs, targets = inp.cuda(), target.cuda()\n",
    "    else:\n",
    "        inputs, targets = inp, target\n",
    "\n",
    "#     print('\\nInputs:', inputs.dtype, inputs.shape)\n",
    "#     print('Targets:', targets.dtype, targets.shape)\n",
    "#     print('Hidden[0] before (s/b all zeros?):', hidden[0].dtype, hidden[0].shape)\n",
    "    \n",
    "    batch_size, sequence_length = inputs.shape\n",
    "    \n",
    "    ### Within the batch loop, we detach the hidden state from its history; \n",
    "    ### this time setting it equal to a new tuple variable because an LSTM \n",
    "    ### has a hidden state that is a tuple of the hidden and cell states.\n",
    "    hidden = tuple([each.data for each in hidden])\n",
    "    \n",
    "    ### zero-grad the rnn - people say to do this here, on model, to make sure it\n",
    "    rnn.zero_grad()\n",
    "#     optimizer.zero_grad()\n",
    "    \n",
    "#     print('Hidden[0] after detached:', hidden[0].dtype, hidden[0].shape)\n",
    "    output, hidden = rnn(inputs, hidden) # the forward function?\n",
    "#     print('Hidden[0] after forward:', hidden[0].dtype, hidden[0].shape)\n",
    "#     print('\\nps:', output.dtype, output.shape)\n",
    "#     print('targets:', targets.dtype, targets.shape)\n",
    "    \n",
    "#     # reshape targets\n",
    "#     print('\\nbatch_size {}, seq_len {}'.format(batch_size, sequence_length))\n",
    "# #     targets = targets.view(batch_size*sequence_length).long()\n",
    "#     print('\\noutput:', output.dtype, output.shape)\n",
    "#     print('\\noutput after squeeze:', output.squeeze().dtype, output.squeeze().shape)\n",
    "#     print('targets:', targets.dtype, targets.shape)\n",
    "    \n",
    "#     print('\\ntargets:\\n', targets)\n",
    "#     print('\\noutput:\\n', output)\n",
    "\n",
    "    ### Remember in the Forward function, we smooshed the rnn outputs into (batch_size * seq_length).\n",
    "    ### Do the same for the targets!!!\n",
    "#     targets.view(batch_size * sequence_length)\n",
    "\n",
    "    loss = criterion(output.squeeze(), targets) # All models and loss functions assume \n",
    "                                            # that the first dimension is the batch size. \n",
    "                                            # So the first input to cross entropy should be \n",
    "                                            # batch_size x nb_classes and the second batch_size \n",
    "                                            # (and contain values between 0 and nb_classes-1).\n",
    "    \n",
    "    # perform backpropagation and optimization\n",
    "   \n",
    "    loss.backward()\n",
    "    \n",
    "    ### clip the gradients so they don't explode!\n",
    "    nn.utils.clip_grad_norm_(rnn.parameters(), 5)\n",
    "    optimizer.step()\n",
    "\n",
    "    # return the loss over a batch and the hidden state produced by our model\n",
    "    \n",
    "#     print('\\nave_loss: {}, hidden: {}'.format(ave_loss, hidden[0].shape))\n",
    "    return loss.item(), hidden\n",
    "\n",
    "# Note that these tests aren't completely extensive.\n",
    "# they are here to act as general checks on the expected outputs of your functions\n",
    "\"\"\"\n",
    "DON'T MODIFY ANYTHING IN THIS CELL THAT IS BELOW THIS LINE\n",
    "\"\"\"\n",
    "tests.test_forward_back_prop(RNN, forward_back_prop, train_on_gpu)"
   ]
  },
  {
   "cell_type": "markdown",
   "metadata": {
    "colab_type": "text",
    "id": "qYGy9gZ791jE"
   },
   "source": [
    "## Neural Network Training\n",
    "\n",
    "With the structure of the network complete and data ready to be fed in the neural network, it's time to train it.\n",
    "\n",
    "### Train Loop\n",
    "\n",
    "The training loop is implemented for you in the `train_decoder` function. This function will train the network over all the batches for the number of epochs given. The model progress will be shown every number of batches. This number is set with the `show_every_n_batches` parameter. You'll set this parameter along with other parameters in the next section."
   ]
  },
  {
   "cell_type": "code",
   "execution_count": 0,
   "metadata": {
    "colab": {},
    "colab_type": "code",
    "id": "HngHSgWP91jE"
   },
   "outputs": [],
   "source": [
    "\"\"\"\n",
    "DON'T MODIFY ANYTHING IN THIS CELL\n",
    "\"\"\"\n",
    "\n",
    "def train_rnn(rnn, batch_size, optimizer, criterion, n_epochs, show_every_n_batches=100):\n",
    "    batch_losses = []\n",
    "    \n",
    "    rnn.train()\n",
    "\n",
    "    print(\"Training for %d epoch(s)...\" % n_epochs)\n",
    "    for epoch_i in range(1, n_epochs + 1):\n",
    "        \n",
    "        # initialize hidden state\n",
    "#         print('About to init_hidden --> batch_size is', batch_size)\n",
    "        hidden = rnn.init_hidden(batch_size)\n",
    "#         print('rnn parameters:', rnn)\n",
    "        \n",
    "        for batch_i, (inputs, labels) in enumerate(train_loader, 1):\n",
    "            \n",
    "            # make sure you iterate over completely full batches, only\n",
    "            n_batches = len(train_loader.dataset)//batch_size\n",
    "            if(batch_i > n_batches):\n",
    "                break\n",
    "            \n",
    "            # forward, back prop\n",
    "            loss, hidden = forward_back_prop(rnn, optimizer, criterion, inputs, labels, hidden)          \n",
    "            # record loss\n",
    "            batch_losses.append(loss)\n",
    "\n",
    "            # printing loss stats\n",
    "            if batch_i % show_every_n_batches == 0:\n",
    "                print('Epoch: {:>4}/{:<4}  Loss: {}\\n'.format(\n",
    "                    epoch_i, n_epochs, np.average(batch_losses)))\n",
    "                batch_losses = []\n",
    "\n",
    "    # returns a trained rnn\n",
    "    return rnn"
   ]
  },
  {
   "cell_type": "markdown",
   "metadata": {
    "colab_type": "text",
    "id": "3ImkAVRP91jI"
   },
   "source": [
    "### Hyperparameters\n",
    "\n",
    "Set and train the neural network with the following parameters:\n",
    "- Set `sequence_length` to the length of a sequence.\n",
    "- Set `batch_size` to the batch size.\n",
    "- Set `num_epochs` to the number of epochs to train for.\n",
    "- Set `learning_rate` to the learning rate for an Adam optimizer.\n",
    "- Set `vocab_size` to the number of unique tokens in our vocabulary.\n",
    "- Set `output_size` to the desired size of the output.\n",
    "- Set `embedding_dim` to the embedding dimension; smaller than the vocab_size.\n",
    "- Set `hidden_dim` to the hidden dimension of your RNN.\n",
    "- Set `n_layers` to the number of layers/cells in your RNN.\n",
    "- Set `show_every_n_batches` to the number of batches at which the neural network should print progress.\n",
    "\n",
    "If the network isn't getting the desired results, tweak these parameters and/or the layers in the `RNN` class."
   ]
  },
  {
   "cell_type": "code",
   "execution_count": 0,
   "metadata": {
    "colab": {},
    "colab_type": "code",
    "id": "BK1x0yr191jJ"
   },
   "outputs": [],
   "source": [
    "# Data params\n",
    "# Sequence Length -- length of the memory of word order\n",
    "sequence_length =   8 # of words in a sequence\n",
    "# Batch Size -- powers of 2\n",
    "batch_size = 256\n",
    "\n",
    "# data loader - do not change\n",
    "train_loader = batch_data(int_text, sequence_length, batch_size)"
   ]
  },
  {
   "cell_type": "code",
   "execution_count": 0,
   "metadata": {
    "colab": {},
    "colab_type": "code",
    "id": "dKYSw5Bc91jN"
   },
   "outputs": [],
   "source": [
    "# Training parameters\n",
    "# Number of Epochs\n",
    "num_epochs = 20\n",
    "# Learning Rate\n",
    "learning_rate = 0.001\n",
    "\n",
    "# Model parameters\n",
    "# Vocab size -- all the words in our dictionary\n",
    "vocab_size = len(int_to_vocab)\n",
    "# Output size -- # classes, ie len of our dictionary\n",
    "output_size = vocab_size\n",
    "# Embedding Dimension  -- can be between about 200-400\n",
    "embedding_dim = 200\n",
    "# Hidden Dimension -- between about 128-512, in powers of 2\n",
    "hidden_dim = 128\n",
    "# Number of RNN Layers\n",
    "n_layers = 1\n",
    "\n",
    "# Show stats for every n number of batches\n",
    "show_every_n_batches = 1500"
   ]
  },
  {
   "cell_type": "markdown",
   "metadata": {
    "colab_type": "text",
    "id": "-yhh_DAE91jR"
   },
   "source": [
    "### Train\n",
    "In the next cell, you'll train the neural network on the pre-processed data.  If you have a hard time getting a good loss, you may consider changing your hyperparameters. In general, you may get better results with larger hidden and n_layer dimensions, but larger models take a longer time to train. \n",
    "> **You should aim for a loss less than 3.5.** \n",
    "\n",
    "You should also experiment with different sequence lengths, which determine the size of the long range dependencies that a model can learn."
   ]
  },
  {
   "cell_type": "code",
   "execution_count": 49,
   "metadata": {
    "colab": {
     "base_uri": "https://localhost:8080/",
     "height": 54
    },
    "colab_type": "code",
    "id": "iF3GgF16mwmN",
    "outputId": "f502c8e2-f841-4a4b-8dcc-eb9b8a9223e4"
   },
   "outputs": [
    {
     "name": "stdout",
     "output_type": "stream",
     "text": [
      "Drive already mounted at /content/gdrive; to attempt to forcibly remount, call drive.mount(\"/content/gdrive\", force_remount=True).\n"
     ]
    }
   ],
   "source": [
    "from google.colab import drive\n",
    "drive.mount('/content/gdrive')"
   ]
  },
  {
   "cell_type": "code",
   "execution_count": 122,
   "metadata": {
    "colab": {
     "base_uri": "https://localhost:8080/",
     "height": 1499
    },
    "colab_type": "code",
    "id": "AGbTQ2jU91jR",
    "outputId": "b854d5b5-7f80-4b84-a9ed-ca1e29ba668b"
   },
   "outputs": [
    {
     "name": "stderr",
     "output_type": "stream",
     "text": [
      "/usr/local/lib/python3.6/dist-packages/torch/nn/modules/rnn.py:54: UserWarning: dropout option adds dropout after all but last recurrent layer, so non-zero dropout expects num_layers greater than 1, but got dropout=0.5 and num_layers=1\n",
      "  \"num_layers={}\".format(dropout, num_layers))\n"
     ]
    },
    {
     "name": "stdout",
     "output_type": "stream",
     "text": [
      "Training for 20 epoch(s)...\n",
      "Epoch:    1/20    Loss: 4.795968067646027\n",
      "\n",
      "Epoch:    1/20    Loss: 4.286972825050354\n",
      "\n",
      "Epoch:    2/20    Loss: 4.018076959877245\n",
      "\n",
      "Epoch:    2/20    Loss: 3.8580244369506835\n",
      "\n",
      "Epoch:    3/20    Loss: 3.7622163102271093\n",
      "\n",
      "Epoch:    3/20    Loss: 3.6537115009625754\n",
      "\n",
      "Epoch:    4/20    Loss: 3.5932151002268635\n",
      "\n",
      "Epoch:    4/20    Loss: 3.509102011203766\n",
      "\n",
      "Epoch:    5/20    Loss: 3.4641427487855956\n",
      "\n",
      "Epoch:    5/20    Loss: 3.3957300391197203\n",
      "\n",
      "Epoch:    6/20    Loss: 3.3575296440432147\n",
      "\n",
      "Epoch:    6/20    Loss: 3.298321128845215\n",
      "\n",
      "Epoch:    7/20    Loss: 3.2661419015738273\n",
      "\n",
      "Epoch:    7/20    Loss: 3.2138905634880066\n",
      "\n",
      "Epoch:    8/20    Loss: 3.1861682993269738\n",
      "\n",
      "Epoch:    8/20    Loss: 3.139856357415517\n",
      "\n",
      "Epoch:    9/20    Loss: 3.115555876685727\n",
      "\n",
      "Epoch:    9/20    Loss: 3.071970047632853\n",
      "\n",
      "Epoch:   10/20    Loss: 3.0527827796195783\n",
      "\n",
      "Epoch:   10/20    Loss: 3.01268159532547\n",
      "\n",
      "Epoch:   11/20    Loss: 2.9965366959091155\n",
      "\n",
      "Epoch:   11/20    Loss: 2.9578192496299742\n",
      "\n",
      "Epoch:   12/20    Loss: 2.9446555988923198\n",
      "\n",
      "Epoch:   12/20    Loss: 2.9063276370366413\n",
      "\n",
      "Epoch:   13/20    Loss: 2.8969414485318046\n",
      "\n",
      "Epoch:   13/20    Loss: 2.8601900266011557\n",
      "\n",
      "Epoch:   14/20    Loss: 2.8533090349406964\n",
      "\n",
      "Epoch:   14/20    Loss: 2.8187060801188153\n",
      "\n",
      "Epoch:   15/20    Loss: 2.812956287375381\n",
      "\n",
      "Epoch:   15/20    Loss: 2.7804785628318784\n",
      "\n",
      "Epoch:   16/20    Loss: 2.7751155231268174\n",
      "\n",
      "Epoch:   16/20    Loss: 2.7438053115208945\n",
      "\n",
      "Epoch:   17/20    Loss: 2.7414615652974574\n",
      "\n",
      "Epoch:   17/20    Loss: 2.709472200870514\n",
      "\n",
      "Epoch:   18/20    Loss: 2.7117279349796233\n",
      "\n",
      "Epoch:   18/20    Loss: 2.6787632907231647\n",
      "\n",
      "Epoch:   19/20    Loss: 2.6833329898936134\n",
      "\n",
      "Epoch:   19/20    Loss: 2.650161722660065\n",
      "\n",
      "Epoch:   20/20    Loss: 2.6563768803832994\n",
      "\n",
      "Epoch:   20/20    Loss: 2.6246685813268025\n",
      "\n",
      "Model Trained and Saved\n"
     ]
    },
    {
     "name": "stderr",
     "output_type": "stream",
     "text": [
      "/usr/local/lib/python3.6/dist-packages/torch/serialization.py:256: UserWarning: Couldn't retrieve source code for container of type RNN. It won't be checked for correctness upon loading.\n",
      "  \"type \" + obj.__name__ + \". It won't be checked \"\n"
     ]
    }
   ],
   "source": [
    "\"\"\"\n",
    "DON'T MODIFY ANYTHING IN THIS CELL\n",
    "\"\"\"\n",
    "\n",
    "# create model and move to gpu if available\n",
    "rnn = RNN(vocab_size, output_size, embedding_dim, hidden_dim, n_layers, dropout=0.5)\n",
    "if train_on_gpu:\n",
    "    rnn.cuda()\n",
    "\n",
    "# defining loss and optimization functions for training\n",
    "optimizer = torch.optim.Adam(rnn.parameters(), lr=learning_rate)\n",
    "criterion = nn.CrossEntropyLoss()\n",
    "\n",
    "# training the model\n",
    "trained_rnn = train_rnn(rnn, batch_size, optimizer, criterion, num_epochs, show_every_n_batches)\n",
    "\n",
    "# saving the trained model\n",
    "helper.save_model('./gdrive/My Drive/trained_rnn_3layers', trained_rnn)\n",
    "print('Model Trained and Saved')"
   ]
  },
  {
   "cell_type": "markdown",
   "metadata": {
    "colab_type": "text",
    "id": "AVXlJnVB91jU"
   },
   "source": [
    "### Question: How did you decide on your model hyperparameters? \n",
    "For example, did you try different sequence_lengths and find that one size made the model converge faster? What about your hidden_dim and n_layers; how did you decide on those?"
   ]
  },
  {
   "cell_type": "markdown",
   "metadata": {
    "colab_type": "text",
    "id": "zACmHNUs91jU"
   },
   "source": [
    "**Answer:** To be honest, mostly it was random choices. I started with hyperparameters that were similar to the previous projects and went from there - something like:\n",
    "- batch_size = 64\n",
    "- hidden_dim=512\n",
    "- epochs=50\n",
    "- output_size=1\n",
    "\n",
    "The output_size was obviously giving me errors and someone steered me in the right direction. Since a higher hidden_dim and more layers will generally make a model train better, ideally you want those as high as possible. As well, a higher batch_size should train faster. However, they're all at the expense of speed.\n",
    "\n",
    "I have a bad habit of changing more than 1 parameter at a time, sometimes, and not keeping a log (I'd make a bad scientist!) so I'm not too sure how I ended up with these final parameters. But I was egged on by fellow Spartans (classmates) who said they could get great results in 10-15 epochs, so I kept adjusting. \n",
    "\n",
    "It's probably a coincidence, but every time I trained at sequence_length=8, my model did converge faster.\n",
    "\n",
    "Hey look at that! I'm writing this as I'm training my final attempt and it's the results I had been trying for all day! This time, I think I lowered sequence_length from 10 to 8, lowered n_layers from 2 to 1 and lowered the hidden_dim from 256 to 128. My previous results had been about 3.35 in 20 epochs so this is much faster! \n",
    "\n",
    "Of course, I'd like to keep adjusting to get a better/faster result, but I'd like to submit this tonight!  :)"
   ]
  },
  {
   "cell_type": "markdown",
   "metadata": {
    "colab_type": "text",
    "id": "5mXIH5V-91jV"
   },
   "source": [
    "---\n",
    "# Checkpoint\n",
    "\n",
    "After running the above training cell, your model will be saved by name, `trained_rnn`, and if you save your notebook progress, **you can pause here and come back to this code at another time**. You can resume your progress by running the next cell, which will load in our word:id dictionaries _and_ load in your saved model by name!"
   ]
  },
  {
   "cell_type": "code",
   "execution_count": 0,
   "metadata": {
    "colab": {},
    "colab_type": "code",
    "id": "mjhddbS891jV"
   },
   "outputs": [],
   "source": [
    "\"\"\"\n",
    "DON'T MODIFY ANYTHING IN THIS CELL\n",
    "\"\"\"\n",
    "import torch\n",
    "import helper\n",
    "import problem_unittests as tests\n",
    "\n",
    "_, vocab_to_int, int_to_vocab, token_dict = helper.load_preprocess()\n",
    "trained_rnn = helper.load_model('content/gdrive/My Drive/trained_rnn.pt')"
   ]
  },
  {
   "cell_type": "markdown",
   "metadata": {
    "colab_type": "text",
    "id": "FdYxkenC91jX"
   },
   "source": [
    "## Generate TV Script\n",
    "With the network trained and saved, you'll use it to generate a new, \"fake\" Seinfeld TV script in this section.\n",
    "\n",
    "### Generate Text\n",
    "To generate the text, the network needs to start with a single word and repeat its predictions until it reaches a set length. You'll be using the `generate` function to do this. It takes a word id to start with, `prime_id`, and generates a set length of text, `predict_len`. Also note that it uses topk sampling to introduce some randomness in choosing the most likely next word, given an output set of word scores!"
   ]
  },
  {
   "cell_type": "code",
   "execution_count": 0,
   "metadata": {
    "colab": {},
    "colab_type": "code",
    "id": "306m6ZhI91jY"
   },
   "outputs": [],
   "source": [
    "\"\"\"\n",
    "DON'T MODIFY ANYTHING IN THIS CELL THAT IS BELOW THIS LINE\n",
    "\"\"\"\n",
    "import torch.nn.functional as F\n",
    "\n",
    "def generate(rnn, prime_id, int_to_vocab, token_dict, pad_value, predict_len=100):\n",
    "    \"\"\"\n",
    "    Generate text using the neural network\n",
    "    :param decoder: The PyTorch Module that holds the trained neural network\n",
    "    :param prime_id: The word id to start the first prediction\n",
    "    :param int_to_vocab: Dict of word id keys to word values\n",
    "    :param token_dict: Dict of puncuation tokens keys to puncuation values\n",
    "    :param pad_value: The value used to pad a sequence\n",
    "    :param predict_len: The length of text to generate\n",
    "    :return: The generated text\n",
    "    \"\"\"\n",
    "    rnn.eval()\n",
    "    \n",
    "    # create a sequence (batch_size=1) with the prime_id\n",
    "    current_seq = np.full((1, sequence_length), pad_value)\n",
    "    current_seq[-1][-1] = prime_id\n",
    "    predicted = [int_to_vocab[prime_id]]\n",
    "    \n",
    "    for _ in range(predict_len):\n",
    "        if train_on_gpu:\n",
    "            current_seq = torch.LongTensor(current_seq).cuda()\n",
    "        else:\n",
    "            current_seq = torch.LongTensor(current_seq)\n",
    "        \n",
    "        # initialize the hidden state\n",
    "        hidden = rnn.init_hidden(current_seq.size(0))\n",
    "        \n",
    "        # get the output of the rnn\n",
    "        output, _ = rnn(current_seq, hidden)\n",
    "        \n",
    "        # get the next word probabilities\n",
    "        p = F.softmax(output, dim=1).data\n",
    "        if(train_on_gpu):\n",
    "            p = p.cpu() # move to cpu\n",
    "         \n",
    "        # use top_k sampling to get the index of the next word\n",
    "        top_k = 5\n",
    "        p, top_i = p.topk(top_k)\n",
    "        top_i = top_i.numpy().squeeze()\n",
    "        \n",
    "        # select the likely next word index with some element of randomness\n",
    "        p = p.numpy().squeeze()\n",
    "        word_i = np.random.choice(top_i, p=p/p.sum())\n",
    "        \n",
    "        # retrieve that word from the dictionary\n",
    "        word = int_to_vocab[word_i]\n",
    "        predicted.append(word)     \n",
    "        \n",
    "        # the generated word becomes the next \"current sequence\" and the cycle can continue\n",
    "#         current_seq = np.roll(current_seq, -1, 1)\n",
    "        current_seq = np.roll(current_seq.cpu(), -1, 1) # edited to prevent error\n",
    "        current_seq[-1][-1] = word_i\n",
    "    \n",
    "    gen_sentences = ' '.join(predicted)\n",
    "    \n",
    "    # Replace punctuation tokens\n",
    "    for key, token in token_dict.items():\n",
    "        ending = ' ' if key in ['\\n', '(', '\"'] else ''\n",
    "        gen_sentences = gen_sentences.replace(' ' + token.lower(), key)\n",
    "    gen_sentences = gen_sentences.replace('\\n ', '\\n')\n",
    "    gen_sentences = gen_sentences.replace('( ', '(')\n",
    "    \n",
    "    # return all the sentences\n",
    "    return gen_sentences"
   ]
  },
  {
   "cell_type": "markdown",
   "metadata": {
    "colab_type": "text",
    "id": "XR-NbPcq91ja"
   },
   "source": [
    "### Generate a New Script\n",
    "It's time to generate the text. Set `gen_length` to the length of TV script you want to generate and set `prime_word` to one of the following to start the prediction:\n",
    "- \"jerry\"\n",
    "- \"elaine\"\n",
    "- \"george\"\n",
    "- \"kramer\"\n",
    "\n",
    "You can set the prime word to _any word_ in our dictionary, but it's best to start with a name for generating a TV script. (You can also start with any other names you find in the original text file!)"
   ]
  },
  {
   "cell_type": "code",
   "execution_count": 125,
   "metadata": {
    "colab": {
     "base_uri": "https://localhost:8080/",
     "height": 1006
    },
    "colab_type": "code",
    "id": "ynZ0iS7J91ja",
    "outputId": "8967fc50-4d68-455a-a3c2-64aea8eb79f3"
   },
   "outputs": [
    {
     "name": "stdout",
     "output_type": "stream",
     "text": [
      "elaine: you know what the way are you?\n",
      "\n",
      "elaine: well, it's the same thing i want to be able to get this up to a while.\n",
      "\n",
      "george: hey.\n",
      "\n",
      "elaine: what? why?\n",
      "\n",
      "george: no. i got a big favor.\n",
      "\n",
      "george: what?\n",
      "\n",
      "george: it's right, and it's a good idea.\n",
      "\n",
      "jerry: what?\n",
      "\n",
      "kramer: oh, well i am.\n",
      "\n",
      "george:(jokingly mimicking the door) oh, i think we should go.\n",
      "\n",
      "elaine:(pointing at davids) yeah, yeah..\n",
      "\n",
      "kramer: oh, come on.\n",
      "\n",
      "jerry:(pointing to george) you know what i think you can do. it's a lot of passion.\n",
      "\n",
      "jerry: i don't know what you want about you a little bit?\n",
      "\n",
      "george: oh, yeah. i don't know how much to be the best way in there.\n",
      "\n",
      "george: i think it's a lot of people in the same day.\n",
      "\n",
      "elaine: hey, hey, what are we gonna do?\n",
      "\n",
      "george: no, no. i'm not going to be a good idea, it's a good thing.\n",
      "\n",
      "jerry: what are you gonna say about?\n",
      "\n",
      "jerry: yeah, i can't get a good.\n",
      "\n",
      "kramer: yeah, i got to be honest. you know what the hell i was. you know, i have a lot of furs and you know what the way is that?\n",
      "\n",
      "jerry: well, i don't know, but i don't think i should do anything to make it up to the other night, he was like that he was a big friend of a catchall.\n",
      "\n",
      "elaine:(pointing at the other direction),, what is he going?\n",
      "\n",
      "kramer: i can't.\n",
      "\n",
      "jerry: oh my god.\n",
      "\n",
      "jerry: all right i'll be back to madeline's.\n",
      "\n",
      "jerry: what are you doing?\n",
      "\n",
      "jerry: yeah, that's right, i just wanted to know what you want.\n",
      "\n",
      "kramer: hey, what happened?\n"
     ]
    }
   ],
   "source": [
    "# run the cell multiple times to get different results!\n",
    "gen_length = 400 # modify the length to your preference\n",
    "prime_word = 'elaine' # name for starting the script\n",
    "\n",
    "\"\"\"\n",
    "DON'T MODIFY ANYTHING IN THIS CELL THAT IS BELOW THIS LINE\n",
    "\"\"\"\n",
    "pad_word = helper.SPECIAL_WORDS['PADDING']\n",
    "generated_script = generate(trained_rnn, vocab_to_int[prime_word + ':'], int_to_vocab, token_dict, vocab_to_int[pad_word], gen_length)\n",
    "print(generated_script)"
   ]
  },
  {
   "cell_type": "markdown",
   "metadata": {
    "colab_type": "text",
    "id": "oswkBnPt91jc"
   },
   "source": [
    "#### Save your favorite scripts\n",
    "\n",
    "Once you have a script that you like (or find interesting), save it to a text file!"
   ]
  },
  {
   "cell_type": "code",
   "execution_count": 0,
   "metadata": {
    "colab": {},
    "colab_type": "code",
    "id": "jGqleQvV91jd"
   },
   "outputs": [],
   "source": [
    "# save script to a text file\n",
    "f =  open(\"gdrive/My Drive/PyTorch!/DLND/tvscripts/generated_script_final.txt\",\"w\")\n",
    "f.write(generated_script)\n",
    "f.close()"
   ]
  },
  {
   "cell_type": "markdown",
   "metadata": {
    "colab_type": "text",
    "id": "1JG_KlhZ91jg"
   },
   "source": [
    "# The TV Script is Not Perfect\n",
    "It's ok if the TV script doesn't make perfect sense. It should look like alternating lines of dialogue, here is one such example of a few generated lines.\n",
    "\n",
    "### Example generated script\n",
    "\n",
    ">jerry: what about me?\n",
    ">\n",
    ">jerry: i don't have to wait.\n",
    ">\n",
    ">kramer:(to the sales table)\n",
    ">\n",
    ">elaine:(to jerry) hey, look at this, i'm a good doctor.\n",
    ">\n",
    ">newman:(to elaine) you think i have no idea of this...\n",
    ">\n",
    ">elaine: oh, you better take the phone, and he was a little nervous.\n",
    ">\n",
    ">kramer:(to the phone) hey, hey, jerry, i don't want to be a little bit.(to kramer and jerry) you can't.\n",
    ">\n",
    ">jerry: oh, yeah. i don't even know, i know.\n",
    ">\n",
    ">jerry:(to the phone) oh, i know.\n",
    ">\n",
    ">kramer:(laughing) you know...(to jerry) you don't know.\n",
    "\n",
    "You can see that there are multiple characters that say (somewhat) complete sentences, but it doesn't have to be perfect! It takes quite a while to get good results, and often, you'll have to use a smaller vocabulary (and discard uncommon words), or get more data.  The Seinfeld dataset is about 3.4 MB, which is big enough for our purposes; for script generation you'll want more than 1 MB of text, generally. \n",
    "\n",
    "# Submitting This Project\n",
    "When submitting this project, make sure to run all the cells before saving the notebook. Save the notebook file as \"dlnd_tv_script_generation.ipynb\" and save another copy as an HTML file by clicking \"File\" -> \"Download as..\"->\"html\". Include the \"helper.py\" and \"problem_unittests.py\" files in your submission. Once you download these files, compress them into one zip file for submission."
   ]
  },
  {
   "cell_type": "code",
   "execution_count": 0,
   "metadata": {
    "colab": {},
    "colab_type": "code",
    "id": "16ssnsX_91jg"
   },
   "outputs": [],
   "source": []
  }
 ],
 "metadata": {
  "accelerator": "GPU",
  "colab": {
   "collapsed_sections": [],
   "name": "dlnd_tv_script_generation.ipynb",
   "provenance": [],
   "toc_visible": true,
   "version": "0.3.2"
  },
  "kernelspec": {
   "display_name": "Python 3",
   "language": "python",
   "name": "python3"
  },
  "language_info": {
   "codemirror_mode": {
    "name": "ipython",
    "version": 3
   },
   "file_extension": ".py",
   "mimetype": "text/x-python",
   "name": "python",
   "nbconvert_exporter": "python",
   "pygments_lexer": "ipython3",
   "version": "3.7.3"
  }
 },
 "nbformat": 4,
 "nbformat_minor": 1
}
